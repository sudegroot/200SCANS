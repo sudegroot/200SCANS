{
 "cells": [
  {
   "cell_type": "code",
   "execution_count": 18,
   "metadata": {},
   "outputs": [],
   "source": [
    "# import libraries\n",
    "import pandas as pd\n",
    "import numpy as np\n",
    "from sklearn.preprocessing import MinMaxScaler\n",
    "from sklearn import linear_model\n",
    "from sklearn.metrics import mean_squared_error, r2_score\n",
    "from numpy import mean, std\n",
    "from sklearn.model_selection import KFold, cross_val_score, GridSearchCV\n",
    "from sklearn.model_selection import train_test_split, LeaveOneOut\n",
    "from rfpimp import * # might not be installed already, otherwise install using pip install\n",
    "import collections\n",
    "from sklearn.inspection import permutation_importance"
   ]
  },
  {
   "cell_type": "code",
   "execution_count": 19,
   "metadata": {},
   "outputs": [
    {
     "data": {
      "text/html": [
       "<div>\n",
       "<style scoped>\n",
       "    .dataframe tbody tr th:only-of-type {\n",
       "        vertical-align: middle;\n",
       "    }\n",
       "\n",
       "    .dataframe tbody tr th {\n",
       "        vertical-align: top;\n",
       "    }\n",
       "\n",
       "    .dataframe thead th {\n",
       "        text-align: right;\n",
       "    }\n",
       "</style>\n",
       "<table border=\"1\" class=\"dataframe\">\n",
       "  <thead>\n",
       "    <tr style=\"text-align: right;\">\n",
       "      <th></th>\n",
       "      <th>lh_bankssts_volume</th>\n",
       "      <th>lh_caudalanteriorcingulate_volume</th>\n",
       "      <th>lh_caudalmiddlefrontal_volume</th>\n",
       "      <th>lh_cuneus_volume</th>\n",
       "      <th>lh_entorhinal_volume</th>\n",
       "      <th>lh_fusiform_volume</th>\n",
       "      <th>lh_inferiorparietal_volume</th>\n",
       "      <th>lh_inferiortemporal_volume</th>\n",
       "      <th>lh_isthmuscingulate_volume</th>\n",
       "      <th>lh_lateraloccipital_volume</th>\n",
       "      <th>...</th>\n",
       "      <th>CC_Anterior</th>\n",
       "      <th>age_mri</th>\n",
       "      <th>precuneus_volume</th>\n",
       "      <th>-VentralDC</th>\n",
       "      <th>pericalcarine_volume</th>\n",
       "      <th>-Hippocampus</th>\n",
       "      <th>Putamen</th>\n",
       "      <th>Caudate</th>\n",
       "      <th>S</th>\n",
       "      <th>gender_F</th>\n",
       "    </tr>\n",
       "  </thead>\n",
       "  <tbody>\n",
       "    <tr>\n",
       "      <th>0</th>\n",
       "      <td>0.002964</td>\n",
       "      <td>0.002256</td>\n",
       "      <td>0.008136</td>\n",
       "      <td>0.003394</td>\n",
       "      <td>0.002366</td>\n",
       "      <td>0.010357</td>\n",
       "      <td>0.015142</td>\n",
       "      <td>0.011369</td>\n",
       "      <td>0.003066</td>\n",
       "      <td>0.012157</td>\n",
       "      <td>...</td>\n",
       "      <td>0.000750</td>\n",
       "      <td>19</td>\n",
       "      <td>0.010798</td>\n",
       "      <td>0.004498</td>\n",
       "      <td>0.002535</td>\n",
       "      <td>0.004372</td>\n",
       "      <td>0.005117</td>\n",
       "      <td>0.004709</td>\n",
       "      <td>0.071429</td>\n",
       "      <td>1</td>\n",
       "    </tr>\n",
       "    <tr>\n",
       "      <th>1</th>\n",
       "      <td>0.002344</td>\n",
       "      <td>0.001850</td>\n",
       "      <td>0.005794</td>\n",
       "      <td>0.003879</td>\n",
       "      <td>0.002107</td>\n",
       "      <td>0.009607</td>\n",
       "      <td>0.012305</td>\n",
       "      <td>0.009720</td>\n",
       "      <td>0.002845</td>\n",
       "      <td>0.013617</td>\n",
       "      <td>...</td>\n",
       "      <td>0.000802</td>\n",
       "      <td>23</td>\n",
       "      <td>0.009305</td>\n",
       "      <td>0.003978</td>\n",
       "      <td>0.002612</td>\n",
       "      <td>0.003825</td>\n",
       "      <td>0.004903</td>\n",
       "      <td>0.003575</td>\n",
       "      <td>0.468056</td>\n",
       "      <td>1</td>\n",
       "    </tr>\n",
       "    <tr>\n",
       "      <th>2</th>\n",
       "      <td>0.002534</td>\n",
       "      <td>0.002797</td>\n",
       "      <td>0.006291</td>\n",
       "      <td>0.002592</td>\n",
       "      <td>0.002028</td>\n",
       "      <td>0.008790</td>\n",
       "      <td>0.012013</td>\n",
       "      <td>0.012749</td>\n",
       "      <td>0.002957</td>\n",
       "      <td>0.012521</td>\n",
       "      <td>...</td>\n",
       "      <td>0.000915</td>\n",
       "      <td>19</td>\n",
       "      <td>0.010651</td>\n",
       "      <td>0.004404</td>\n",
       "      <td>0.001743</td>\n",
       "      <td>0.004377</td>\n",
       "      <td>0.005053</td>\n",
       "      <td>0.003914</td>\n",
       "      <td>0.370714</td>\n",
       "      <td>1</td>\n",
       "    </tr>\n",
       "    <tr>\n",
       "      <th>3</th>\n",
       "      <td>0.003097</td>\n",
       "      <td>0.001501</td>\n",
       "      <td>0.006358</td>\n",
       "      <td>0.003707</td>\n",
       "      <td>0.001096</td>\n",
       "      <td>0.009258</td>\n",
       "      <td>0.013345</td>\n",
       "      <td>0.010357</td>\n",
       "      <td>0.002457</td>\n",
       "      <td>0.015477</td>\n",
       "      <td>...</td>\n",
       "      <td>0.000893</td>\n",
       "      <td>18</td>\n",
       "      <td>0.010617</td>\n",
       "      <td>0.003842</td>\n",
       "      <td>0.002555</td>\n",
       "      <td>0.003565</td>\n",
       "      <td>0.005305</td>\n",
       "      <td>0.003608</td>\n",
       "      <td>0.047222</td>\n",
       "      <td>0</td>\n",
       "    </tr>\n",
       "    <tr>\n",
       "      <th>4</th>\n",
       "      <td>0.001972</td>\n",
       "      <td>0.002460</td>\n",
       "      <td>0.007522</td>\n",
       "      <td>0.003739</td>\n",
       "      <td>0.001428</td>\n",
       "      <td>0.009609</td>\n",
       "      <td>0.010374</td>\n",
       "      <td>0.008492</td>\n",
       "      <td>0.002886</td>\n",
       "      <td>0.013569</td>\n",
       "      <td>...</td>\n",
       "      <td>0.000869</td>\n",
       "      <td>18</td>\n",
       "      <td>0.010552</td>\n",
       "      <td>0.003802</td>\n",
       "      <td>0.003304</td>\n",
       "      <td>0.003456</td>\n",
       "      <td>0.004619</td>\n",
       "      <td>0.003857</td>\n",
       "      <td>0.400928</td>\n",
       "      <td>1</td>\n",
       "    </tr>\n",
       "    <tr>\n",
       "      <th>...</th>\n",
       "      <td>...</td>\n",
       "      <td>...</td>\n",
       "      <td>...</td>\n",
       "      <td>...</td>\n",
       "      <td>...</td>\n",
       "      <td>...</td>\n",
       "      <td>...</td>\n",
       "      <td>...</td>\n",
       "      <td>...</td>\n",
       "      <td>...</td>\n",
       "      <td>...</td>\n",
       "      <td>...</td>\n",
       "      <td>...</td>\n",
       "      <td>...</td>\n",
       "      <td>...</td>\n",
       "      <td>...</td>\n",
       "      <td>...</td>\n",
       "      <td>...</td>\n",
       "      <td>...</td>\n",
       "      <td>...</td>\n",
       "      <td>...</td>\n",
       "    </tr>\n",
       "    <tr>\n",
       "      <th>136</th>\n",
       "      <td>0.002753</td>\n",
       "      <td>0.002395</td>\n",
       "      <td>0.005985</td>\n",
       "      <td>0.002600</td>\n",
       "      <td>0.001503</td>\n",
       "      <td>0.010023</td>\n",
       "      <td>0.012704</td>\n",
       "      <td>0.012537</td>\n",
       "      <td>0.002785</td>\n",
       "      <td>0.013129</td>\n",
       "      <td>...</td>\n",
       "      <td>0.001073</td>\n",
       "      <td>19</td>\n",
       "      <td>0.009620</td>\n",
       "      <td>0.004608</td>\n",
       "      <td>0.002107</td>\n",
       "      <td>0.004487</td>\n",
       "      <td>0.006393</td>\n",
       "      <td>0.004437</td>\n",
       "      <td>0.190540</td>\n",
       "      <td>1</td>\n",
       "    </tr>\n",
       "    <tr>\n",
       "      <th>137</th>\n",
       "      <td>0.002515</td>\n",
       "      <td>0.001864</td>\n",
       "      <td>0.007071</td>\n",
       "      <td>0.003184</td>\n",
       "      <td>0.002057</td>\n",
       "      <td>0.009190</td>\n",
       "      <td>0.013648</td>\n",
       "      <td>0.012823</td>\n",
       "      <td>0.003270</td>\n",
       "      <td>0.010043</td>\n",
       "      <td>...</td>\n",
       "      <td>0.000735</td>\n",
       "      <td>22</td>\n",
       "      <td>0.011233</td>\n",
       "      <td>0.003766</td>\n",
       "      <td>0.002369</td>\n",
       "      <td>0.003947</td>\n",
       "      <td>0.004982</td>\n",
       "      <td>0.003704</td>\n",
       "      <td>0.227739</td>\n",
       "      <td>0</td>\n",
       "    </tr>\n",
       "    <tr>\n",
       "      <th>138</th>\n",
       "      <td>0.002578</td>\n",
       "      <td>0.001552</td>\n",
       "      <td>0.007039</td>\n",
       "      <td>0.003653</td>\n",
       "      <td>0.002337</td>\n",
       "      <td>0.010593</td>\n",
       "      <td>0.012364</td>\n",
       "      <td>0.010617</td>\n",
       "      <td>0.002702</td>\n",
       "      <td>0.014111</td>\n",
       "      <td>...</td>\n",
       "      <td>0.000791</td>\n",
       "      <td>22</td>\n",
       "      <td>0.010226</td>\n",
       "      <td>0.004725</td>\n",
       "      <td>0.002690</td>\n",
       "      <td>0.004314</td>\n",
       "      <td>0.005037</td>\n",
       "      <td>0.004465</td>\n",
       "      <td>0.314423</td>\n",
       "      <td>0</td>\n",
       "    </tr>\n",
       "    <tr>\n",
       "      <th>139</th>\n",
       "      <td>0.002340</td>\n",
       "      <td>0.001347</td>\n",
       "      <td>0.007087</td>\n",
       "      <td>0.002897</td>\n",
       "      <td>0.002138</td>\n",
       "      <td>0.009919</td>\n",
       "      <td>0.014293</td>\n",
       "      <td>0.011200</td>\n",
       "      <td>0.002929</td>\n",
       "      <td>0.012897</td>\n",
       "      <td>...</td>\n",
       "      <td>0.000938</td>\n",
       "      <td>20</td>\n",
       "      <td>0.010535</td>\n",
       "      <td>0.003965</td>\n",
       "      <td>0.002674</td>\n",
       "      <td>0.003505</td>\n",
       "      <td>0.004694</td>\n",
       "      <td>0.003493</td>\n",
       "      <td>0.213333</td>\n",
       "      <td>0</td>\n",
       "    </tr>\n",
       "    <tr>\n",
       "      <th>140</th>\n",
       "      <td>0.002148</td>\n",
       "      <td>0.002235</td>\n",
       "      <td>0.007215</td>\n",
       "      <td>0.004028</td>\n",
       "      <td>0.001970</td>\n",
       "      <td>0.010835</td>\n",
       "      <td>0.012245</td>\n",
       "      <td>0.010998</td>\n",
       "      <td>0.002869</td>\n",
       "      <td>0.014132</td>\n",
       "      <td>...</td>\n",
       "      <td>0.000740</td>\n",
       "      <td>22</td>\n",
       "      <td>0.010066</td>\n",
       "      <td>0.004288</td>\n",
       "      <td>0.002861</td>\n",
       "      <td>0.003797</td>\n",
       "      <td>0.004984</td>\n",
       "      <td>0.003672</td>\n",
       "      <td>0.117143</td>\n",
       "      <td>0</td>\n",
       "    </tr>\n",
       "  </tbody>\n",
       "</table>\n",
       "<p>141 rows × 86 columns</p>\n",
       "</div>"
      ],
      "text/plain": [
       "     lh_bankssts_volume  lh_caudalanteriorcingulate_volume  \\\n",
       "0              0.002964                           0.002256   \n",
       "1              0.002344                           0.001850   \n",
       "2              0.002534                           0.002797   \n",
       "3              0.003097                           0.001501   \n",
       "4              0.001972                           0.002460   \n",
       "..                  ...                                ...   \n",
       "136            0.002753                           0.002395   \n",
       "137            0.002515                           0.001864   \n",
       "138            0.002578                           0.001552   \n",
       "139            0.002340                           0.001347   \n",
       "140            0.002148                           0.002235   \n",
       "\n",
       "     lh_caudalmiddlefrontal_volume  lh_cuneus_volume  lh_entorhinal_volume  \\\n",
       "0                         0.008136          0.003394              0.002366   \n",
       "1                         0.005794          0.003879              0.002107   \n",
       "2                         0.006291          0.002592              0.002028   \n",
       "3                         0.006358          0.003707              0.001096   \n",
       "4                         0.007522          0.003739              0.001428   \n",
       "..                             ...               ...                   ...   \n",
       "136                       0.005985          0.002600              0.001503   \n",
       "137                       0.007071          0.003184              0.002057   \n",
       "138                       0.007039          0.003653              0.002337   \n",
       "139                       0.007087          0.002897              0.002138   \n",
       "140                       0.007215          0.004028              0.001970   \n",
       "\n",
       "     lh_fusiform_volume  lh_inferiorparietal_volume  \\\n",
       "0              0.010357                    0.015142   \n",
       "1              0.009607                    0.012305   \n",
       "2              0.008790                    0.012013   \n",
       "3              0.009258                    0.013345   \n",
       "4              0.009609                    0.010374   \n",
       "..                  ...                         ...   \n",
       "136            0.010023                    0.012704   \n",
       "137            0.009190                    0.013648   \n",
       "138            0.010593                    0.012364   \n",
       "139            0.009919                    0.014293   \n",
       "140            0.010835                    0.012245   \n",
       "\n",
       "     lh_inferiortemporal_volume  lh_isthmuscingulate_volume  \\\n",
       "0                      0.011369                    0.003066   \n",
       "1                      0.009720                    0.002845   \n",
       "2                      0.012749                    0.002957   \n",
       "3                      0.010357                    0.002457   \n",
       "4                      0.008492                    0.002886   \n",
       "..                          ...                         ...   \n",
       "136                    0.012537                    0.002785   \n",
       "137                    0.012823                    0.003270   \n",
       "138                    0.010617                    0.002702   \n",
       "139                    0.011200                    0.002929   \n",
       "140                    0.010998                    0.002869   \n",
       "\n",
       "     lh_lateraloccipital_volume  ...  CC_Anterior  age_mri  precuneus_volume  \\\n",
       "0                      0.012157  ...     0.000750       19          0.010798   \n",
       "1                      0.013617  ...     0.000802       23          0.009305   \n",
       "2                      0.012521  ...     0.000915       19          0.010651   \n",
       "3                      0.015477  ...     0.000893       18          0.010617   \n",
       "4                      0.013569  ...     0.000869       18          0.010552   \n",
       "..                          ...  ...          ...      ...               ...   \n",
       "136                    0.013129  ...     0.001073       19          0.009620   \n",
       "137                    0.010043  ...     0.000735       22          0.011233   \n",
       "138                    0.014111  ...     0.000791       22          0.010226   \n",
       "139                    0.012897  ...     0.000938       20          0.010535   \n",
       "140                    0.014132  ...     0.000740       22          0.010066   \n",
       "\n",
       "     -VentralDC  pericalcarine_volume  -Hippocampus   Putamen   Caudate  \\\n",
       "0      0.004498              0.002535      0.004372  0.005117  0.004709   \n",
       "1      0.003978              0.002612      0.003825  0.004903  0.003575   \n",
       "2      0.004404              0.001743      0.004377  0.005053  0.003914   \n",
       "3      0.003842              0.002555      0.003565  0.005305  0.003608   \n",
       "4      0.003802              0.003304      0.003456  0.004619  0.003857   \n",
       "..          ...                   ...           ...       ...       ...   \n",
       "136    0.004608              0.002107      0.004487  0.006393  0.004437   \n",
       "137    0.003766              0.002369      0.003947  0.004982  0.003704   \n",
       "138    0.004725              0.002690      0.004314  0.005037  0.004465   \n",
       "139    0.003965              0.002674      0.003505  0.004694  0.003493   \n",
       "140    0.004288              0.002861      0.003797  0.004984  0.003672   \n",
       "\n",
       "            S  gender_F  \n",
       "0    0.071429         1  \n",
       "1    0.468056         1  \n",
       "2    0.370714         1  \n",
       "3    0.047222         0  \n",
       "4    0.400928         1  \n",
       "..        ...       ...  \n",
       "136  0.190540         1  \n",
       "137  0.227739         0  \n",
       "138  0.314423         0  \n",
       "139  0.213333         0  \n",
       "140  0.117143         0  \n",
       "\n",
       "[141 rows x 86 columns]"
      ]
     },
     "execution_count": 19,
     "metadata": {},
     "output_type": "execute_result"
    }
   ],
   "source": [
    "# load data\n",
    "data = pd.read_excel('model_data_S_not_zero_absERROR_NotVent.xlsx').drop(columns = ['Unnamed: 0', 'abs_error_estimate'])\n",
    "data"
   ]
  },
  {
   "cell_type": "code",
   "execution_count": 20,
   "metadata": {},
   "outputs": [
    {
     "name": "stdout",
     "output_type": "stream",
     "text": [
      "(141, 85) (141,)\n"
     ]
    }
   ],
   "source": [
    "# prep data into X and Y (X also scaled for the linear model)\n",
    "X = data.drop(columns = ['S'])\n",
    "X_RF = X[['lh_parstriangularis_volume', 'lh_postcentral_volume', 'Left-Pallidum',\n",
    "       'rh_postcentral_volume', 'rh_paracentral_volume',\n",
    "       'lh_superiortemporal_volume', 'lh_parsorbitalis_volume', 'Putamen',\n",
    "       'lh_caudalmiddlefrontal_volume', 'Right-Amygdala',\n",
    "       'lh_entorhinal_volume', 'lh_fusiform_volume', 'Right-Pallidum',\n",
    "       '-VentralDC', 'rh_supramarginal_volume', 'rh_parsopercularis_volume',\n",
    "       'Left-Accumbens-area', 'CC_Posterior', 'lh_lateralorbitofrontal_volume',\n",
    "       'rh_lateralorbitofrontal_volume', 'lh_inferiortemporal_volume']]\n",
    "X_lasso = X[['lh_caudalmiddlefrontal_volume', 'lh_entorhinal_volume',\n",
    "       'lh_fusiform_volume', 'lh_parsorbitalis_volume',\n",
    "       'lh_parstriangularis_volume', 'lh_postcentral_volume',\n",
    "       'lh_superiorparietal_volume', 'lh_superiortemporal_volume',\n",
    "       'rh_entorhinal_volume', 'rh_postcentral_volume',\n",
    "       'rh_rostralanteriorcingulate_volume', 'rh_transversetemporal_volume',\n",
    "       'Left-Accumbens-area', 'gender_F']]\n",
    "X_scaled = MinMaxScaler().fit_transform(X_lasso) \n",
    "Y = data.S\n",
    "print( X.shape, Y.shape)"
   ]
  },
  {
   "cell_type": "code",
   "execution_count": 21,
   "metadata": {},
   "outputs": [],
   "source": [
    "# create a new set of random values for the RANDOM feature for each new cv\n",
    "X_sc_df = pd.DataFrame(X_scaled, columns = X_lasso.columns)\n",
    "X_sc_df.loc[:, ('RANDOM')] = np.random.uniform(0,1, size = len(X_sc_df))"
   ]
  },
  {
   "cell_type": "code",
   "execution_count": 22,
   "metadata": {},
   "outputs": [
    {
     "data": {
      "text/html": [
       "<div>\n",
       "<style scoped>\n",
       "    .dataframe tbody tr th:only-of-type {\n",
       "        vertical-align: middle;\n",
       "    }\n",
       "\n",
       "    .dataframe tbody tr th {\n",
       "        vertical-align: top;\n",
       "    }\n",
       "\n",
       "    .dataframe thead th {\n",
       "        text-align: right;\n",
       "    }\n",
       "</style>\n",
       "<table border=\"1\" class=\"dataframe\">\n",
       "  <thead>\n",
       "    <tr style=\"text-align: right;\">\n",
       "      <th></th>\n",
       "      <th>lh_caudalmiddlefrontal_volume</th>\n",
       "      <th>lh_entorhinal_volume</th>\n",
       "      <th>lh_fusiform_volume</th>\n",
       "      <th>lh_parsorbitalis_volume</th>\n",
       "      <th>lh_parstriangularis_volume</th>\n",
       "      <th>lh_postcentral_volume</th>\n",
       "      <th>lh_superiorparietal_volume</th>\n",
       "      <th>lh_superiortemporal_volume</th>\n",
       "      <th>rh_entorhinal_volume</th>\n",
       "      <th>rh_postcentral_volume</th>\n",
       "      <th>rh_rostralanteriorcingulate_volume</th>\n",
       "      <th>rh_transversetemporal_volume</th>\n",
       "      <th>Left-Accumbens-area</th>\n",
       "      <th>gender_F</th>\n",
       "      <th>RANDOM</th>\n",
       "    </tr>\n",
       "  </thead>\n",
       "  <tbody>\n",
       "    <tr>\n",
       "      <th>0</th>\n",
       "      <td>0.733382</td>\n",
       "      <td>0.622692</td>\n",
       "      <td>0.453971</td>\n",
       "      <td>0.370578</td>\n",
       "      <td>0.288696</td>\n",
       "      <td>0.693097</td>\n",
       "      <td>0.216103</td>\n",
       "      <td>0.570680</td>\n",
       "      <td>0.606336</td>\n",
       "      <td>0.920610</td>\n",
       "      <td>0.353572</td>\n",
       "      <td>1.000000</td>\n",
       "      <td>0.511541</td>\n",
       "      <td>1.0</td>\n",
       "      <td>0.551517</td>\n",
       "    </tr>\n",
       "    <tr>\n",
       "      <th>1</th>\n",
       "      <td>0.208460</td>\n",
       "      <td>0.495589</td>\n",
       "      <td>0.290805</td>\n",
       "      <td>0.715725</td>\n",
       "      <td>0.626921</td>\n",
       "      <td>0.294026</td>\n",
       "      <td>0.350989</td>\n",
       "      <td>0.302403</td>\n",
       "      <td>0.513841</td>\n",
       "      <td>0.241969</td>\n",
       "      <td>0.258488</td>\n",
       "      <td>0.481407</td>\n",
       "      <td>0.329936</td>\n",
       "      <td>1.0</td>\n",
       "      <td>0.497459</td>\n",
       "    </tr>\n",
       "    <tr>\n",
       "      <th>2</th>\n",
       "      <td>0.319710</td>\n",
       "      <td>0.457104</td>\n",
       "      <td>0.113023</td>\n",
       "      <td>0.728063</td>\n",
       "      <td>0.563496</td>\n",
       "      <td>0.145697</td>\n",
       "      <td>0.159863</td>\n",
       "      <td>0.745716</td>\n",
       "      <td>0.508736</td>\n",
       "      <td>0.524872</td>\n",
       "      <td>0.793529</td>\n",
       "      <td>0.500988</td>\n",
       "      <td>0.441854</td>\n",
       "      <td>1.0</td>\n",
       "      <td>0.936495</td>\n",
       "    </tr>\n",
       "    <tr>\n",
       "      <th>3</th>\n",
       "      <td>0.334763</td>\n",
       "      <td>0.000000</td>\n",
       "      <td>0.214756</td>\n",
       "      <td>0.429399</td>\n",
       "      <td>0.518053</td>\n",
       "      <td>0.564884</td>\n",
       "      <td>0.410470</td>\n",
       "      <td>0.569607</td>\n",
       "      <td>0.000000</td>\n",
       "      <td>0.644697</td>\n",
       "      <td>0.000000</td>\n",
       "      <td>0.377672</td>\n",
       "      <td>0.710559</td>\n",
       "      <td>0.0</td>\n",
       "      <td>0.163793</td>\n",
       "    </tr>\n",
       "    <tr>\n",
       "      <th>4</th>\n",
       "      <td>0.595754</td>\n",
       "      <td>0.162950</td>\n",
       "      <td>0.291247</td>\n",
       "      <td>0.466072</td>\n",
       "      <td>0.521030</td>\n",
       "      <td>0.240914</td>\n",
       "      <td>0.233018</td>\n",
       "      <td>0.618270</td>\n",
       "      <td>0.488298</td>\n",
       "      <td>0.264474</td>\n",
       "      <td>0.539470</td>\n",
       "      <td>0.624515</td>\n",
       "      <td>0.170006</td>\n",
       "      <td>1.0</td>\n",
       "      <td>0.970881</td>\n",
       "    </tr>\n",
       "    <tr>\n",
       "      <th>...</th>\n",
       "      <td>...</td>\n",
       "      <td>...</td>\n",
       "      <td>...</td>\n",
       "      <td>...</td>\n",
       "      <td>...</td>\n",
       "      <td>...</td>\n",
       "      <td>...</td>\n",
       "      <td>...</td>\n",
       "      <td>...</td>\n",
       "      <td>...</td>\n",
       "      <td>...</td>\n",
       "      <td>...</td>\n",
       "      <td>...</td>\n",
       "      <td>...</td>\n",
       "      <td>...</td>\n",
       "    </tr>\n",
       "    <tr>\n",
       "      <th>136</th>\n",
       "      <td>0.251081</td>\n",
       "      <td>0.199689</td>\n",
       "      <td>0.381443</td>\n",
       "      <td>0.651287</td>\n",
       "      <td>0.471555</td>\n",
       "      <td>0.353072</td>\n",
       "      <td>0.116576</td>\n",
       "      <td>0.510512</td>\n",
       "      <td>0.295767</td>\n",
       "      <td>0.299695</td>\n",
       "      <td>0.454997</td>\n",
       "      <td>0.396274</td>\n",
       "      <td>0.180208</td>\n",
       "      <td>1.0</td>\n",
       "      <td>0.084888</td>\n",
       "    </tr>\n",
       "    <tr>\n",
       "      <th>137</th>\n",
       "      <td>0.494627</td>\n",
       "      <td>0.471041</td>\n",
       "      <td>0.200058</td>\n",
       "      <td>0.408512</td>\n",
       "      <td>0.661769</td>\n",
       "      <td>0.374105</td>\n",
       "      <td>0.323089</td>\n",
       "      <td>0.299138</td>\n",
       "      <td>0.260752</td>\n",
       "      <td>0.201208</td>\n",
       "      <td>0.479790</td>\n",
       "      <td>0.266819</td>\n",
       "      <td>0.478966</td>\n",
       "      <td>0.0</td>\n",
       "      <td>0.681589</td>\n",
       "    </tr>\n",
       "    <tr>\n",
       "      <th>138</th>\n",
       "      <td>0.487492</td>\n",
       "      <td>0.608442</td>\n",
       "      <td>0.505458</td>\n",
       "      <td>0.402971</td>\n",
       "      <td>0.285660</td>\n",
       "      <td>0.498879</td>\n",
       "      <td>0.428296</td>\n",
       "      <td>0.510215</td>\n",
       "      <td>0.472427</td>\n",
       "      <td>0.589631</td>\n",
       "      <td>0.648548</td>\n",
       "      <td>0.201310</td>\n",
       "      <td>0.267123</td>\n",
       "      <td>0.0</td>\n",
       "      <td>0.887832</td>\n",
       "    </tr>\n",
       "    <tr>\n",
       "      <th>139</th>\n",
       "      <td>0.498059</td>\n",
       "      <td>0.510970</td>\n",
       "      <td>0.358702</td>\n",
       "      <td>0.492320</td>\n",
       "      <td>0.297012</td>\n",
       "      <td>0.670331</td>\n",
       "      <td>0.427551</td>\n",
       "      <td>0.374729</td>\n",
       "      <td>0.655481</td>\n",
       "      <td>1.000000</td>\n",
       "      <td>0.632325</td>\n",
       "      <td>0.665350</td>\n",
       "      <td>0.511812</td>\n",
       "      <td>0.0</td>\n",
       "      <td>0.226516</td>\n",
       "    </tr>\n",
       "    <tr>\n",
       "      <th>140</th>\n",
       "      <td>0.526840</td>\n",
       "      <td>0.428446</td>\n",
       "      <td>0.558020</td>\n",
       "      <td>0.483365</td>\n",
       "      <td>0.400249</td>\n",
       "      <td>0.125180</td>\n",
       "      <td>0.272560</td>\n",
       "      <td>0.343153</td>\n",
       "      <td>0.292298</td>\n",
       "      <td>0.667796</td>\n",
       "      <td>0.682048</td>\n",
       "      <td>0.402252</td>\n",
       "      <td>0.706311</td>\n",
       "      <td>0.0</td>\n",
       "      <td>0.471368</td>\n",
       "    </tr>\n",
       "  </tbody>\n",
       "</table>\n",
       "<p>141 rows × 15 columns</p>\n",
       "</div>"
      ],
      "text/plain": [
       "     lh_caudalmiddlefrontal_volume  lh_entorhinal_volume  lh_fusiform_volume  \\\n",
       "0                         0.733382              0.622692            0.453971   \n",
       "1                         0.208460              0.495589            0.290805   \n",
       "2                         0.319710              0.457104            0.113023   \n",
       "3                         0.334763              0.000000            0.214756   \n",
       "4                         0.595754              0.162950            0.291247   \n",
       "..                             ...                   ...                 ...   \n",
       "136                       0.251081              0.199689            0.381443   \n",
       "137                       0.494627              0.471041            0.200058   \n",
       "138                       0.487492              0.608442            0.505458   \n",
       "139                       0.498059              0.510970            0.358702   \n",
       "140                       0.526840              0.428446            0.558020   \n",
       "\n",
       "     lh_parsorbitalis_volume  lh_parstriangularis_volume  \\\n",
       "0                   0.370578                    0.288696   \n",
       "1                   0.715725                    0.626921   \n",
       "2                   0.728063                    0.563496   \n",
       "3                   0.429399                    0.518053   \n",
       "4                   0.466072                    0.521030   \n",
       "..                       ...                         ...   \n",
       "136                 0.651287                    0.471555   \n",
       "137                 0.408512                    0.661769   \n",
       "138                 0.402971                    0.285660   \n",
       "139                 0.492320                    0.297012   \n",
       "140                 0.483365                    0.400249   \n",
       "\n",
       "     lh_postcentral_volume  lh_superiorparietal_volume  \\\n",
       "0                 0.693097                    0.216103   \n",
       "1                 0.294026                    0.350989   \n",
       "2                 0.145697                    0.159863   \n",
       "3                 0.564884                    0.410470   \n",
       "4                 0.240914                    0.233018   \n",
       "..                     ...                         ...   \n",
       "136               0.353072                    0.116576   \n",
       "137               0.374105                    0.323089   \n",
       "138               0.498879                    0.428296   \n",
       "139               0.670331                    0.427551   \n",
       "140               0.125180                    0.272560   \n",
       "\n",
       "     lh_superiortemporal_volume  rh_entorhinal_volume  rh_postcentral_volume  \\\n",
       "0                      0.570680              0.606336               0.920610   \n",
       "1                      0.302403              0.513841               0.241969   \n",
       "2                      0.745716              0.508736               0.524872   \n",
       "3                      0.569607              0.000000               0.644697   \n",
       "4                      0.618270              0.488298               0.264474   \n",
       "..                          ...                   ...                    ...   \n",
       "136                    0.510512              0.295767               0.299695   \n",
       "137                    0.299138              0.260752               0.201208   \n",
       "138                    0.510215              0.472427               0.589631   \n",
       "139                    0.374729              0.655481               1.000000   \n",
       "140                    0.343153              0.292298               0.667796   \n",
       "\n",
       "     rh_rostralanteriorcingulate_volume  rh_transversetemporal_volume  \\\n",
       "0                              0.353572                      1.000000   \n",
       "1                              0.258488                      0.481407   \n",
       "2                              0.793529                      0.500988   \n",
       "3                              0.000000                      0.377672   \n",
       "4                              0.539470                      0.624515   \n",
       "..                                  ...                           ...   \n",
       "136                            0.454997                      0.396274   \n",
       "137                            0.479790                      0.266819   \n",
       "138                            0.648548                      0.201310   \n",
       "139                            0.632325                      0.665350   \n",
       "140                            0.682048                      0.402252   \n",
       "\n",
       "     Left-Accumbens-area  gender_F    RANDOM  \n",
       "0               0.511541       1.0  0.551517  \n",
       "1               0.329936       1.0  0.497459  \n",
       "2               0.441854       1.0  0.936495  \n",
       "3               0.710559       0.0  0.163793  \n",
       "4               0.170006       1.0  0.970881  \n",
       "..                   ...       ...       ...  \n",
       "136             0.180208       1.0  0.084888  \n",
       "137             0.478966       0.0  0.681589  \n",
       "138             0.267123       0.0  0.887832  \n",
       "139             0.511812       0.0  0.226516  \n",
       "140             0.706311       0.0  0.471368  \n",
       "\n",
       "[141 rows x 15 columns]"
      ]
     },
     "execution_count": 22,
     "metadata": {},
     "output_type": "execute_result"
    }
   ],
   "source": [
    "X_sc_df"
   ]
  },
  {
   "cell_type": "markdown",
   "metadata": {},
   "source": [
    "**LOOCV LINEAR REGRESSION**"
   ]
  },
  {
   "cell_type": "code",
   "execution_count": 23,
   "metadata": {},
   "outputs": [
    {
     "name": "stdout",
     "output_type": "stream",
     "text": [
      "Lasso(alpha=0.001)\n",
      "Lasso(alpha=0.001)\n",
      "Lasso(alpha=0.001)\n",
      "Lasso(alpha=0.001)\n",
      "Lasso(alpha=0.001)\n",
      "Lasso(alpha=0.001)\n",
      "Lasso(alpha=0.001)\n",
      "Lasso(alpha=0.001)\n",
      "Lasso(alpha=0.001)\n",
      "Lasso(alpha=0.001)\n",
      "Lasso(alpha=0.001)\n",
      "Lasso(alpha=0.001)\n",
      "Lasso(alpha=0.001)\n",
      "Lasso(alpha=0.001)\n",
      "Lasso(alpha=0.001)\n",
      "Lasso(alpha=0.001)\n",
      "Lasso(alpha=0.001)\n",
      "Lasso(alpha=0.001)\n",
      "Lasso(alpha=0.001)\n",
      "Lasso(alpha=0.001)\n",
      "Lasso(alpha=0.001)\n",
      "Lasso(alpha=0.001)\n",
      "Lasso(alpha=0.001)\n",
      "Lasso(alpha=0.001)\n",
      "Lasso(alpha=0.001)\n",
      "Lasso(alpha=0.001)\n",
      "Lasso(alpha=0.001)\n",
      "Lasso(alpha=0.001)\n",
      "Lasso(alpha=0.001)\n",
      "Lasso(alpha=0.001)\n",
      "Lasso(alpha=0.001)\n",
      "Lasso(alpha=0.001)\n",
      "Lasso(alpha=0.001)\n",
      "Lasso(alpha=0.001)\n",
      "Lasso(alpha=0.001)\n",
      "Lasso(alpha=0.001)\n",
      "Lasso(alpha=0.001)\n",
      "Lasso(alpha=0.001)\n",
      "Lasso(alpha=0.001)\n",
      "Lasso(alpha=0.001)\n",
      "Lasso(alpha=0.001)\n",
      "Lasso(alpha=0.001)\n",
      "Lasso(alpha=0.001)\n",
      "Lasso(alpha=0.001)\n",
      "Lasso(alpha=0.001)\n",
      "Lasso(alpha=0.001)\n",
      "Lasso(alpha=0.001)\n",
      "Lasso(alpha=0.001)\n",
      "Lasso(alpha=0.001)\n",
      "Lasso(alpha=0.001)\n",
      "Lasso(alpha=0.001)\n",
      "Lasso(alpha=0.001)\n",
      "Lasso(alpha=0.001)\n",
      "Lasso(alpha=0.001)\n",
      "Lasso(alpha=0.001)\n",
      "Lasso(alpha=0.001)\n",
      "Lasso(alpha=0.001)\n",
      "Lasso(alpha=0.001)\n",
      "Lasso(alpha=0.001)\n",
      "Lasso(alpha=0.001)\n",
      "Lasso(alpha=0.001)\n",
      "Lasso(alpha=0.001)\n",
      "Lasso(alpha=0.001)\n",
      "Lasso(alpha=0.001)\n",
      "Lasso(alpha=0.001)\n",
      "Lasso(alpha=0.001)\n",
      "Lasso(alpha=0.001)\n",
      "Lasso(alpha=0.001)\n",
      "Lasso(alpha=0.001)\n",
      "Lasso(alpha=0.001)\n",
      "Lasso(alpha=0.001)\n",
      "Lasso(alpha=0.001)\n",
      "Lasso(alpha=0.001)\n",
      "Lasso(alpha=0.001)\n",
      "Lasso(alpha=0.001)\n",
      "Lasso(alpha=0.001)\n",
      "Lasso(alpha=0.001)\n",
      "Lasso(alpha=0.001)\n",
      "Lasso(alpha=0.001)\n",
      "Lasso(alpha=0.001)\n",
      "Lasso(alpha=0.001)\n",
      "Lasso(alpha=0.001)\n",
      "Lasso(alpha=0.001)\n",
      "Lasso(alpha=0.001)\n",
      "Lasso(alpha=0.001)\n",
      "Lasso(alpha=0.001)\n",
      "Lasso(alpha=0.001)\n",
      "Lasso(alpha=0.001)\n",
      "Lasso(alpha=0.001)\n",
      "Lasso(alpha=0.001)\n",
      "Lasso(alpha=0.001)\n",
      "Lasso(alpha=0.001)\n",
      "Lasso(alpha=0.001)\n",
      "Lasso(alpha=0.001)\n",
      "Lasso(alpha=0.001)\n",
      "Lasso(alpha=0.001)\n",
      "Lasso(alpha=0.001)\n",
      "Lasso(alpha=0.001)\n",
      "Lasso(alpha=0.001)\n",
      "Lasso(alpha=0.001)\n",
      "Lasso(alpha=0.001)\n",
      "Lasso(alpha=0.001)\n",
      "Lasso(alpha=0.001)\n",
      "Lasso(alpha=0.001)\n",
      "Lasso(alpha=0.001)\n",
      "Lasso(alpha=0.001)\n",
      "Lasso(alpha=0.001)\n",
      "Lasso(alpha=0.001)\n",
      "Lasso(alpha=0.001)\n",
      "Lasso(alpha=0.001)\n",
      "Lasso(alpha=0.001)\n",
      "Lasso(alpha=0.001)\n",
      "Lasso(alpha=0.001)\n",
      "Lasso(alpha=0.001)\n",
      "Lasso(alpha=0.001)\n",
      "Lasso(alpha=0.001)\n",
      "Lasso(alpha=0.001)\n",
      "Lasso(alpha=0.001)\n",
      "Lasso(alpha=0.001)\n",
      "Lasso(alpha=0.001)\n",
      "Lasso(alpha=0.001)\n",
      "Lasso(alpha=0.001)\n",
      "Lasso(alpha=0.001)\n",
      "Lasso(alpha=0.001)\n",
      "Lasso(alpha=0.001)\n",
      "Lasso(alpha=0.001)\n",
      "Lasso(alpha=0.001)\n",
      "Lasso(alpha=0.001)\n",
      "Lasso(alpha=0.001)\n",
      "Lasso(alpha=0.001)\n",
      "Lasso(alpha=0.001)\n",
      "Lasso(alpha=0.001)\n",
      "Lasso(alpha=0.001)\n",
      "Lasso(alpha=0.001)\n",
      "Lasso(alpha=0.001)\n",
      "Lasso(alpha=0.001)\n",
      "Lasso(alpha=0.001)\n",
      "Lasso(alpha=0.001)\n",
      "Lasso(alpha=0.001)\n",
      "Lasso(alpha=0.001)\n",
      "Lasso(alpha=0.001)\n",
      "MSE Lasso: 0.013 (0.015)\n",
      "0.0012779462026564475\n",
      "MSE Baseline: 0.014 (0.015)\n",
      "0.001276590075016229\n"
     ]
    }
   ],
   "source": [
    "# initiate the storage for the data\n",
    "MSE_lasso = list()\n",
    "MSE_base = list()\n",
    "Y_preds = list()\n",
    "Y_trues = list()\n",
    "Y_means = list()\n",
    "coef = collections.defaultdict(list)\n",
    "alphas = list()\n",
    "\n",
    "# prep loocv\n",
    "cv = LeaveOneOut()\n",
    "cv.get_n_splits(X_sc_df)\n",
    "\n",
    "# make feature list\n",
    "feature_list = X_sc_df.keys().tolist()\n",
    "\n",
    "# execute the loocv\n",
    "for train_ix, test_ix in cv.split(X_sc_df):\n",
    "    \n",
    "    # create a new set of random values for the RANDOM feature for each new cv\n",
    "    X_sc_df.loc[:, ('RANDOM')] = np.random.uniform(0,1, size = len(X_sc_df)) \n",
    "    \n",
    "    # split data\n",
    "    X_train, X_test = X_sc_df.iloc[train_ix, :], X_sc_df.iloc[test_ix, :]\n",
    "    y_train, y_test = Y.iloc[train_ix], Y.iloc[test_ix]\n",
    "\n",
    "    # create the model grid search for finetuning alpha (the inner loop)\n",
    "    cv_inner = KFold(n_splits = 5, shuffle = True, random_state = 10)\n",
    "    \n",
    "    # define model\n",
    "    model_s = linear_model.Lasso()\n",
    "    \n",
    "    # define grid\n",
    "    grid = {\"alpha\": np.arange(0.001, 0.999, 0.001)} \n",
    "\n",
    "    # fit the gridsearch\n",
    "    search = GridSearchCV(model_s, grid, scoring = 'neg_mean_squared_error', cv = cv_inner, n_jobs = 2)\n",
    "    search.fit(X_train, y_train)\n",
    "    \n",
    "    # get best model from cross validated grid search \n",
    "    model = search.best_estimator_\n",
    "    alphas.append(model.alpha) # store alpha value resulting from the grid search\n",
    "    \n",
    "    # evaluate best Lasso model\n",
    "    y_pred = model.predict(X_test)\n",
    "    Y_preds.append(y_pred) # store predicted Y value\n",
    "    score = mean_squared_error(y_test, y_pred)\n",
    "    MSE_lasso.append(score) # store Lasso model score\n",
    "    \n",
    "    # store true Y value\n",
    "    Y_trues.append(y_test)\n",
    "    \n",
    "    # evaluate baseline\n",
    "    y_pred_base = [mean(y_train)]\n",
    "    Y_means.append(y_pred_base) # store base model Y value\n",
    "    score_base = mean_squared_error(y_test, y_pred_base)\n",
    "    MSE_base.append(score_base) # store base model score\n",
    "    \n",
    "    print(model)\n",
    "    \n",
    "    # store coefficients of the features\n",
    "    coe = model.coef_\n",
    "    for feature, coeff in zip(feature_list, coe):\n",
    "        coef[feature].append(coeff)\n",
    "        \n",
    "# print mean MSE and its standarddeviation once finished the loocv\n",
    "print('MSE Lasso: %.3f (%.3f)' % (mean(MSE_lasso), std(MSE_lasso)))\n",
    "print(stats.sem(MSE_lasso))\n",
    "print('MSE Baseline: %.3f (%.3f)' % (mean(MSE_base), std(MSE_base)))\n",
    "print(stats.sem(MSE_base))"
   ]
  },
  {
   "cell_type": "code",
   "execution_count": 24,
   "metadata": {},
   "outputs": [
    {
     "name": "stdout",
     "output_type": "stream",
     "text": [
      "MSE Lasso: 0.0128 (0.0151)\n",
      "0.0012779462026564475\n",
      "MSE Baseline: 0.014 (0.015)\n",
      "0.001276590075016229\n"
     ]
    }
   ],
   "source": [
    "# print mean MSE and its standarddeviation once finished the loocv\n",
    "print('MSE Lasso: %.4f (%.4f)' % (mean(MSE_lasso), std(MSE_lasso)))\n",
    "print(stats.sem(MSE_lasso))\n",
    "print('MSE Baseline: %.3f (%.3f)' % (mean(MSE_base), std(MSE_base)))\n",
    "print(stats.sem(MSE_base))"
   ]
  },
  {
   "cell_type": "code",
   "execution_count": 25,
   "metadata": {},
   "outputs": [
    {
     "data": {
      "text/html": [
       "<div>\n",
       "<style scoped>\n",
       "    .dataframe tbody tr th:only-of-type {\n",
       "        vertical-align: middle;\n",
       "    }\n",
       "\n",
       "    .dataframe tbody tr th {\n",
       "        vertical-align: top;\n",
       "    }\n",
       "\n",
       "    .dataframe thead th {\n",
       "        text-align: right;\n",
       "    }\n",
       "</style>\n",
       "<table border=\"1\" class=\"dataframe\">\n",
       "  <thead>\n",
       "    <tr style=\"text-align: right;\">\n",
       "      <th></th>\n",
       "      <th>0</th>\n",
       "      <th>1</th>\n",
       "      <th>2</th>\n",
       "      <th>3</th>\n",
       "      <th>4</th>\n",
       "      <th>5</th>\n",
       "      <th>6</th>\n",
       "      <th>7</th>\n",
       "      <th>8</th>\n",
       "      <th>9</th>\n",
       "      <th>...</th>\n",
       "      <th>133</th>\n",
       "      <th>134</th>\n",
       "      <th>135</th>\n",
       "      <th>136</th>\n",
       "      <th>137</th>\n",
       "      <th>138</th>\n",
       "      <th>139</th>\n",
       "      <th>140</th>\n",
       "      <th>coefficient</th>\n",
       "      <th>std</th>\n",
       "    </tr>\n",
       "  </thead>\n",
       "  <tbody>\n",
       "    <tr>\n",
       "      <th>lh_caudalmiddlefrontal_volume</th>\n",
       "      <td>-0.059821</td>\n",
       "      <td>-0.061172</td>\n",
       "      <td>-0.062964</td>\n",
       "      <td>-0.072322</td>\n",
       "      <td>-0.072805</td>\n",
       "      <td>-0.067273</td>\n",
       "      <td>-0.070967</td>\n",
       "      <td>-0.064330</td>\n",
       "      <td>-0.069121</td>\n",
       "      <td>-0.071355</td>\n",
       "      <td>...</td>\n",
       "      <td>-0.071866</td>\n",
       "      <td>-0.069915</td>\n",
       "      <td>-0.068622</td>\n",
       "      <td>-0.086245</td>\n",
       "      <td>-0.066043</td>\n",
       "      <td>-0.072444</td>\n",
       "      <td>-0.068674</td>\n",
       "      <td>-0.067283</td>\n",
       "      <td>-0.068582</td>\n",
       "      <td>0.006084</td>\n",
       "    </tr>\n",
       "    <tr>\n",
       "      <th>lh_entorhinal_volume</th>\n",
       "      <td>0.000000</td>\n",
       "      <td>0.000000</td>\n",
       "      <td>0.000000</td>\n",
       "      <td>0.000000</td>\n",
       "      <td>0.018009</td>\n",
       "      <td>0.000000</td>\n",
       "      <td>0.000000</td>\n",
       "      <td>0.000000</td>\n",
       "      <td>0.000000</td>\n",
       "      <td>0.000000</td>\n",
       "      <td>...</td>\n",
       "      <td>0.000000</td>\n",
       "      <td>0.000000</td>\n",
       "      <td>0.000000</td>\n",
       "      <td>0.000000</td>\n",
       "      <td>0.000000</td>\n",
       "      <td>0.000000</td>\n",
       "      <td>0.000000</td>\n",
       "      <td>0.000000</td>\n",
       "      <td>0.001390</td>\n",
       "      <td>0.004132</td>\n",
       "    </tr>\n",
       "    <tr>\n",
       "      <th>lh_fusiform_volume</th>\n",
       "      <td>-0.042701</td>\n",
       "      <td>-0.041170</td>\n",
       "      <td>-0.031626</td>\n",
       "      <td>-0.041070</td>\n",
       "      <td>-0.036072</td>\n",
       "      <td>-0.041159</td>\n",
       "      <td>-0.040221</td>\n",
       "      <td>-0.037134</td>\n",
       "      <td>-0.038074</td>\n",
       "      <td>-0.040839</td>\n",
       "      <td>...</td>\n",
       "      <td>-0.036773</td>\n",
       "      <td>-0.044234</td>\n",
       "      <td>-0.039551</td>\n",
       "      <td>-0.035366</td>\n",
       "      <td>-0.043946</td>\n",
       "      <td>-0.047218</td>\n",
       "      <td>-0.039284</td>\n",
       "      <td>-0.033992</td>\n",
       "      <td>-0.039336</td>\n",
       "      <td>0.005747</td>\n",
       "    </tr>\n",
       "    <tr>\n",
       "      <th>lh_parsorbitalis_volume</th>\n",
       "      <td>0.025935</td>\n",
       "      <td>0.018358</td>\n",
       "      <td>0.022235</td>\n",
       "      <td>0.026985</td>\n",
       "      <td>0.025175</td>\n",
       "      <td>0.025617</td>\n",
       "      <td>0.025393</td>\n",
       "      <td>0.025151</td>\n",
       "      <td>0.031687</td>\n",
       "      <td>0.024512</td>\n",
       "      <td>...</td>\n",
       "      <td>0.024925</td>\n",
       "      <td>0.023428</td>\n",
       "      <td>0.027556</td>\n",
       "      <td>0.028459</td>\n",
       "      <td>0.030695</td>\n",
       "      <td>0.026345</td>\n",
       "      <td>0.027537</td>\n",
       "      <td>0.027135</td>\n",
       "      <td>0.027420</td>\n",
       "      <td>0.005504</td>\n",
       "    </tr>\n",
       "    <tr>\n",
       "      <th>lh_parstriangularis_volume</th>\n",
       "      <td>0.116698</td>\n",
       "      <td>0.115175</td>\n",
       "      <td>0.120469</td>\n",
       "      <td>0.117700</td>\n",
       "      <td>0.117100</td>\n",
       "      <td>0.118728</td>\n",
       "      <td>0.118506</td>\n",
       "      <td>0.117347</td>\n",
       "      <td>0.116314</td>\n",
       "      <td>0.124905</td>\n",
       "      <td>...</td>\n",
       "      <td>0.121841</td>\n",
       "      <td>0.115461</td>\n",
       "      <td>0.118311</td>\n",
       "      <td>0.115746</td>\n",
       "      <td>0.120209</td>\n",
       "      <td>0.115625</td>\n",
       "      <td>0.118620</td>\n",
       "      <td>0.116732</td>\n",
       "      <td>0.118177</td>\n",
       "      <td>0.006073</td>\n",
       "    </tr>\n",
       "    <tr>\n",
       "      <th>lh_postcentral_volume</th>\n",
       "      <td>-0.023186</td>\n",
       "      <td>-0.013129</td>\n",
       "      <td>-0.006546</td>\n",
       "      <td>-0.012718</td>\n",
       "      <td>-0.010539</td>\n",
       "      <td>-0.014147</td>\n",
       "      <td>-0.017465</td>\n",
       "      <td>-0.017440</td>\n",
       "      <td>-0.015899</td>\n",
       "      <td>-0.016641</td>\n",
       "      <td>...</td>\n",
       "      <td>-0.015229</td>\n",
       "      <td>-0.012383</td>\n",
       "      <td>-0.014970</td>\n",
       "      <td>-0.011754</td>\n",
       "      <td>-0.018340</td>\n",
       "      <td>-0.017309</td>\n",
       "      <td>-0.015159</td>\n",
       "      <td>-0.023671</td>\n",
       "      <td>-0.014843</td>\n",
       "      <td>0.005929</td>\n",
       "    </tr>\n",
       "    <tr>\n",
       "      <th>lh_superiorparietal_volume</th>\n",
       "      <td>0.037208</td>\n",
       "      <td>0.035934</td>\n",
       "      <td>0.033857</td>\n",
       "      <td>0.031803</td>\n",
       "      <td>0.033681</td>\n",
       "      <td>0.030094</td>\n",
       "      <td>0.035503</td>\n",
       "      <td>0.030687</td>\n",
       "      <td>0.031230</td>\n",
       "      <td>0.032270</td>\n",
       "      <td>...</td>\n",
       "      <td>0.029643</td>\n",
       "      <td>0.036419</td>\n",
       "      <td>0.031302</td>\n",
       "      <td>0.031507</td>\n",
       "      <td>0.027195</td>\n",
       "      <td>0.028097</td>\n",
       "      <td>0.031396</td>\n",
       "      <td>0.027873</td>\n",
       "      <td>0.031119</td>\n",
       "      <td>0.005010</td>\n",
       "    </tr>\n",
       "    <tr>\n",
       "      <th>lh_superiortemporal_volume</th>\n",
       "      <td>-0.053219</td>\n",
       "      <td>-0.041939</td>\n",
       "      <td>-0.064764</td>\n",
       "      <td>-0.038634</td>\n",
       "      <td>-0.054441</td>\n",
       "      <td>-0.051930</td>\n",
       "      <td>-0.046231</td>\n",
       "      <td>-0.054807</td>\n",
       "      <td>-0.050296</td>\n",
       "      <td>-0.048784</td>\n",
       "      <td>...</td>\n",
       "      <td>-0.045734</td>\n",
       "      <td>-0.048590</td>\n",
       "      <td>-0.051487</td>\n",
       "      <td>-0.039746</td>\n",
       "      <td>-0.051865</td>\n",
       "      <td>-0.046942</td>\n",
       "      <td>-0.051073</td>\n",
       "      <td>-0.055616</td>\n",
       "      <td>-0.050499</td>\n",
       "      <td>0.006701</td>\n",
       "    </tr>\n",
       "    <tr>\n",
       "      <th>rh_entorhinal_volume</th>\n",
       "      <td>0.075156</td>\n",
       "      <td>0.079574</td>\n",
       "      <td>0.082532</td>\n",
       "      <td>0.066323</td>\n",
       "      <td>0.070725</td>\n",
       "      <td>0.077345</td>\n",
       "      <td>0.086800</td>\n",
       "      <td>0.080071</td>\n",
       "      <td>0.076933</td>\n",
       "      <td>0.073967</td>\n",
       "      <td>...</td>\n",
       "      <td>0.077462</td>\n",
       "      <td>0.076790</td>\n",
       "      <td>0.078493</td>\n",
       "      <td>0.064697</td>\n",
       "      <td>0.069117</td>\n",
       "      <td>0.083406</td>\n",
       "      <td>0.077915</td>\n",
       "      <td>0.073478</td>\n",
       "      <td>0.077087</td>\n",
       "      <td>0.006383</td>\n",
       "    </tr>\n",
       "    <tr>\n",
       "      <th>rh_postcentral_volume</th>\n",
       "      <td>-0.023566</td>\n",
       "      <td>-0.032493</td>\n",
       "      <td>-0.045642</td>\n",
       "      <td>-0.035080</td>\n",
       "      <td>-0.031405</td>\n",
       "      <td>-0.040773</td>\n",
       "      <td>-0.038210</td>\n",
       "      <td>-0.040328</td>\n",
       "      <td>-0.044110</td>\n",
       "      <td>-0.034724</td>\n",
       "      <td>...</td>\n",
       "      <td>-0.040070</td>\n",
       "      <td>-0.037659</td>\n",
       "      <td>-0.039570</td>\n",
       "      <td>-0.043461</td>\n",
       "      <td>-0.038668</td>\n",
       "      <td>-0.040547</td>\n",
       "      <td>-0.040251</td>\n",
       "      <td>-0.033474</td>\n",
       "      <td>-0.039169</td>\n",
       "      <td>0.005800</td>\n",
       "    </tr>\n",
       "    <tr>\n",
       "      <th>rh_rostralanteriorcingulate_volume</th>\n",
       "      <td>0.052576</td>\n",
       "      <td>0.077941</td>\n",
       "      <td>0.057001</td>\n",
       "      <td>0.042621</td>\n",
       "      <td>0.065835</td>\n",
       "      <td>0.066174</td>\n",
       "      <td>0.058643</td>\n",
       "      <td>0.060660</td>\n",
       "      <td>0.062952</td>\n",
       "      <td>0.060961</td>\n",
       "      <td>...</td>\n",
       "      <td>0.064245</td>\n",
       "      <td>0.072871</td>\n",
       "      <td>0.064445</td>\n",
       "      <td>0.069894</td>\n",
       "      <td>0.059847</td>\n",
       "      <td>0.051943</td>\n",
       "      <td>0.064229</td>\n",
       "      <td>0.066612</td>\n",
       "      <td>0.064051</td>\n",
       "      <td>0.006279</td>\n",
       "    </tr>\n",
       "    <tr>\n",
       "      <th>rh_transversetemporal_volume</th>\n",
       "      <td>-0.028993</td>\n",
       "      <td>-0.035037</td>\n",
       "      <td>-0.030251</td>\n",
       "      <td>-0.037273</td>\n",
       "      <td>-0.034699</td>\n",
       "      <td>-0.031112</td>\n",
       "      <td>-0.037682</td>\n",
       "      <td>-0.031404</td>\n",
       "      <td>-0.033056</td>\n",
       "      <td>-0.033940</td>\n",
       "      <td>...</td>\n",
       "      <td>-0.030593</td>\n",
       "      <td>-0.031538</td>\n",
       "      <td>-0.031377</td>\n",
       "      <td>-0.035218</td>\n",
       "      <td>-0.029483</td>\n",
       "      <td>-0.023372</td>\n",
       "      <td>-0.031749</td>\n",
       "      <td>-0.031553</td>\n",
       "      <td>-0.031195</td>\n",
       "      <td>0.004900</td>\n",
       "    </tr>\n",
       "    <tr>\n",
       "      <th>Left-Accumbens-area</th>\n",
       "      <td>0.051518</td>\n",
       "      <td>0.055371</td>\n",
       "      <td>0.052503</td>\n",
       "      <td>0.062835</td>\n",
       "      <td>0.064273</td>\n",
       "      <td>0.050218</td>\n",
       "      <td>0.053285</td>\n",
       "      <td>0.048530</td>\n",
       "      <td>0.045553</td>\n",
       "      <td>0.048138</td>\n",
       "      <td>...</td>\n",
       "      <td>0.051916</td>\n",
       "      <td>0.049236</td>\n",
       "      <td>0.050979</td>\n",
       "      <td>0.038547</td>\n",
       "      <td>0.052886</td>\n",
       "      <td>0.060301</td>\n",
       "      <td>0.050671</td>\n",
       "      <td>0.055801</td>\n",
       "      <td>0.050431</td>\n",
       "      <td>0.005349</td>\n",
       "    </tr>\n",
       "    <tr>\n",
       "      <th>gender_F</th>\n",
       "      <td>0.016574</td>\n",
       "      <td>0.014141</td>\n",
       "      <td>0.013849</td>\n",
       "      <td>0.015398</td>\n",
       "      <td>0.012435</td>\n",
       "      <td>0.016339</td>\n",
       "      <td>0.014199</td>\n",
       "      <td>0.016039</td>\n",
       "      <td>0.016157</td>\n",
       "      <td>0.015875</td>\n",
       "      <td>...</td>\n",
       "      <td>0.015339</td>\n",
       "      <td>0.017729</td>\n",
       "      <td>0.016631</td>\n",
       "      <td>0.013109</td>\n",
       "      <td>0.016576</td>\n",
       "      <td>0.021098</td>\n",
       "      <td>0.016845</td>\n",
       "      <td>0.015375</td>\n",
       "      <td>0.016499</td>\n",
       "      <td>0.002015</td>\n",
       "    </tr>\n",
       "    <tr>\n",
       "      <th>RANDOM</th>\n",
       "      <td>-0.043509</td>\n",
       "      <td>0.000000</td>\n",
       "      <td>-0.000000</td>\n",
       "      <td>0.001589</td>\n",
       "      <td>0.020465</td>\n",
       "      <td>-0.002853</td>\n",
       "      <td>-0.025590</td>\n",
       "      <td>0.000000</td>\n",
       "      <td>-0.006754</td>\n",
       "      <td>0.000000</td>\n",
       "      <td>...</td>\n",
       "      <td>-0.000000</td>\n",
       "      <td>0.001752</td>\n",
       "      <td>0.000000</td>\n",
       "      <td>-0.056406</td>\n",
       "      <td>-0.019794</td>\n",
       "      <td>0.031505</td>\n",
       "      <td>0.000000</td>\n",
       "      <td>-0.000000</td>\n",
       "      <td>0.001460</td>\n",
       "      <td>0.021650</td>\n",
       "    </tr>\n",
       "  </tbody>\n",
       "</table>\n",
       "<p>15 rows × 143 columns</p>\n",
       "</div>"
      ],
      "text/plain": [
       "                                           0         1         2         3  \\\n",
       "lh_caudalmiddlefrontal_volume      -0.059821 -0.061172 -0.062964 -0.072322   \n",
       "lh_entorhinal_volume                0.000000  0.000000  0.000000  0.000000   \n",
       "lh_fusiform_volume                 -0.042701 -0.041170 -0.031626 -0.041070   \n",
       "lh_parsorbitalis_volume             0.025935  0.018358  0.022235  0.026985   \n",
       "lh_parstriangularis_volume          0.116698  0.115175  0.120469  0.117700   \n",
       "lh_postcentral_volume              -0.023186 -0.013129 -0.006546 -0.012718   \n",
       "lh_superiorparietal_volume          0.037208  0.035934  0.033857  0.031803   \n",
       "lh_superiortemporal_volume         -0.053219 -0.041939 -0.064764 -0.038634   \n",
       "rh_entorhinal_volume                0.075156  0.079574  0.082532  0.066323   \n",
       "rh_postcentral_volume              -0.023566 -0.032493 -0.045642 -0.035080   \n",
       "rh_rostralanteriorcingulate_volume  0.052576  0.077941  0.057001  0.042621   \n",
       "rh_transversetemporal_volume       -0.028993 -0.035037 -0.030251 -0.037273   \n",
       "Left-Accumbens-area                 0.051518  0.055371  0.052503  0.062835   \n",
       "gender_F                            0.016574  0.014141  0.013849  0.015398   \n",
       "RANDOM                             -0.043509  0.000000 -0.000000  0.001589   \n",
       "\n",
       "                                           4         5         6         7  \\\n",
       "lh_caudalmiddlefrontal_volume      -0.072805 -0.067273 -0.070967 -0.064330   \n",
       "lh_entorhinal_volume                0.018009  0.000000  0.000000  0.000000   \n",
       "lh_fusiform_volume                 -0.036072 -0.041159 -0.040221 -0.037134   \n",
       "lh_parsorbitalis_volume             0.025175  0.025617  0.025393  0.025151   \n",
       "lh_parstriangularis_volume          0.117100  0.118728  0.118506  0.117347   \n",
       "lh_postcentral_volume              -0.010539 -0.014147 -0.017465 -0.017440   \n",
       "lh_superiorparietal_volume          0.033681  0.030094  0.035503  0.030687   \n",
       "lh_superiortemporal_volume         -0.054441 -0.051930 -0.046231 -0.054807   \n",
       "rh_entorhinal_volume                0.070725  0.077345  0.086800  0.080071   \n",
       "rh_postcentral_volume              -0.031405 -0.040773 -0.038210 -0.040328   \n",
       "rh_rostralanteriorcingulate_volume  0.065835  0.066174  0.058643  0.060660   \n",
       "rh_transversetemporal_volume       -0.034699 -0.031112 -0.037682 -0.031404   \n",
       "Left-Accumbens-area                 0.064273  0.050218  0.053285  0.048530   \n",
       "gender_F                            0.012435  0.016339  0.014199  0.016039   \n",
       "RANDOM                              0.020465 -0.002853 -0.025590  0.000000   \n",
       "\n",
       "                                           8         9  ...       133  \\\n",
       "lh_caudalmiddlefrontal_volume      -0.069121 -0.071355  ... -0.071866   \n",
       "lh_entorhinal_volume                0.000000  0.000000  ...  0.000000   \n",
       "lh_fusiform_volume                 -0.038074 -0.040839  ... -0.036773   \n",
       "lh_parsorbitalis_volume             0.031687  0.024512  ...  0.024925   \n",
       "lh_parstriangularis_volume          0.116314  0.124905  ...  0.121841   \n",
       "lh_postcentral_volume              -0.015899 -0.016641  ... -0.015229   \n",
       "lh_superiorparietal_volume          0.031230  0.032270  ...  0.029643   \n",
       "lh_superiortemporal_volume         -0.050296 -0.048784  ... -0.045734   \n",
       "rh_entorhinal_volume                0.076933  0.073967  ...  0.077462   \n",
       "rh_postcentral_volume              -0.044110 -0.034724  ... -0.040070   \n",
       "rh_rostralanteriorcingulate_volume  0.062952  0.060961  ...  0.064245   \n",
       "rh_transversetemporal_volume       -0.033056 -0.033940  ... -0.030593   \n",
       "Left-Accumbens-area                 0.045553  0.048138  ...  0.051916   \n",
       "gender_F                            0.016157  0.015875  ...  0.015339   \n",
       "RANDOM                             -0.006754  0.000000  ... -0.000000   \n",
       "\n",
       "                                         134       135       136       137  \\\n",
       "lh_caudalmiddlefrontal_volume      -0.069915 -0.068622 -0.086245 -0.066043   \n",
       "lh_entorhinal_volume                0.000000  0.000000  0.000000  0.000000   \n",
       "lh_fusiform_volume                 -0.044234 -0.039551 -0.035366 -0.043946   \n",
       "lh_parsorbitalis_volume             0.023428  0.027556  0.028459  0.030695   \n",
       "lh_parstriangularis_volume          0.115461  0.118311  0.115746  0.120209   \n",
       "lh_postcentral_volume              -0.012383 -0.014970 -0.011754 -0.018340   \n",
       "lh_superiorparietal_volume          0.036419  0.031302  0.031507  0.027195   \n",
       "lh_superiortemporal_volume         -0.048590 -0.051487 -0.039746 -0.051865   \n",
       "rh_entorhinal_volume                0.076790  0.078493  0.064697  0.069117   \n",
       "rh_postcentral_volume              -0.037659 -0.039570 -0.043461 -0.038668   \n",
       "rh_rostralanteriorcingulate_volume  0.072871  0.064445  0.069894  0.059847   \n",
       "rh_transversetemporal_volume       -0.031538 -0.031377 -0.035218 -0.029483   \n",
       "Left-Accumbens-area                 0.049236  0.050979  0.038547  0.052886   \n",
       "gender_F                            0.017729  0.016631  0.013109  0.016576   \n",
       "RANDOM                              0.001752  0.000000 -0.056406 -0.019794   \n",
       "\n",
       "                                         138       139       140  coefficient  \\\n",
       "lh_caudalmiddlefrontal_volume      -0.072444 -0.068674 -0.067283    -0.068582   \n",
       "lh_entorhinal_volume                0.000000  0.000000  0.000000     0.001390   \n",
       "lh_fusiform_volume                 -0.047218 -0.039284 -0.033992    -0.039336   \n",
       "lh_parsorbitalis_volume             0.026345  0.027537  0.027135     0.027420   \n",
       "lh_parstriangularis_volume          0.115625  0.118620  0.116732     0.118177   \n",
       "lh_postcentral_volume              -0.017309 -0.015159 -0.023671    -0.014843   \n",
       "lh_superiorparietal_volume          0.028097  0.031396  0.027873     0.031119   \n",
       "lh_superiortemporal_volume         -0.046942 -0.051073 -0.055616    -0.050499   \n",
       "rh_entorhinal_volume                0.083406  0.077915  0.073478     0.077087   \n",
       "rh_postcentral_volume              -0.040547 -0.040251 -0.033474    -0.039169   \n",
       "rh_rostralanteriorcingulate_volume  0.051943  0.064229  0.066612     0.064051   \n",
       "rh_transversetemporal_volume       -0.023372 -0.031749 -0.031553    -0.031195   \n",
       "Left-Accumbens-area                 0.060301  0.050671  0.055801     0.050431   \n",
       "gender_F                            0.021098  0.016845  0.015375     0.016499   \n",
       "RANDOM                              0.031505  0.000000 -0.000000     0.001460   \n",
       "\n",
       "                                         std  \n",
       "lh_caudalmiddlefrontal_volume       0.006084  \n",
       "lh_entorhinal_volume                0.004132  \n",
       "lh_fusiform_volume                  0.005747  \n",
       "lh_parsorbitalis_volume             0.005504  \n",
       "lh_parstriangularis_volume          0.006073  \n",
       "lh_postcentral_volume               0.005929  \n",
       "lh_superiorparietal_volume          0.005010  \n",
       "lh_superiortemporal_volume          0.006701  \n",
       "rh_entorhinal_volume                0.006383  \n",
       "rh_postcentral_volume               0.005800  \n",
       "rh_rostralanteriorcingulate_volume  0.006279  \n",
       "rh_transversetemporal_volume        0.004900  \n",
       "Left-Accumbens-area                 0.005349  \n",
       "gender_F                            0.002015  \n",
       "RANDOM                              0.021650  \n",
       "\n",
       "[15 rows x 143 columns]"
      ]
     },
     "execution_count": 25,
     "metadata": {},
     "output_type": "execute_result"
    }
   ],
   "source": [
    "# calculate mean and std for coefficients and save coefficients to excel\n",
    "coef_lasso = pd.DataFrame.from_dict(coef, orient = 'index')\n",
    "coef_lasso_tot = coef_lasso.copy()\n",
    "coef_lasso_tot['coefficient'] = coef_lasso.mean(axis = 1)\n",
    "coef_lasso_tot['std'] = coef_lasso.std(axis = 1)\n",
    "coef_lasso_tot.to_excel(\"coef_lasso_loocv_nonzero_bestmodel.xlsx\")\n",
    "coef_lasso_tot"
   ]
  },
  {
   "cell_type": "code",
   "execution_count": 11,
   "metadata": {},
   "outputs": [
    {
     "data": {
      "text/html": [
       "<div>\n",
       "<style scoped>\n",
       "    .dataframe tbody tr th:only-of-type {\n",
       "        vertical-align: middle;\n",
       "    }\n",
       "\n",
       "    .dataframe tbody tr th {\n",
       "        vertical-align: top;\n",
       "    }\n",
       "\n",
       "    .dataframe thead th {\n",
       "        text-align: right;\n",
       "    }\n",
       "</style>\n",
       "<table border=\"1\" class=\"dataframe\">\n",
       "  <thead>\n",
       "    <tr style=\"text-align: right;\">\n",
       "      <th></th>\n",
       "      <th>0</th>\n",
       "      <th>1</th>\n",
       "      <th>2</th>\n",
       "      <th>3</th>\n",
       "      <th>4</th>\n",
       "      <th>5</th>\n",
       "      <th>6</th>\n",
       "      <th>7</th>\n",
       "      <th>8</th>\n",
       "      <th>9</th>\n",
       "      <th>...</th>\n",
       "      <th>133</th>\n",
       "      <th>134</th>\n",
       "      <th>135</th>\n",
       "      <th>136</th>\n",
       "      <th>137</th>\n",
       "      <th>138</th>\n",
       "      <th>139</th>\n",
       "      <th>140</th>\n",
       "      <th>coefficient</th>\n",
       "      <th>std</th>\n",
       "    </tr>\n",
       "    <tr>\n",
       "      <th>Unnamed: 0</th>\n",
       "      <th></th>\n",
       "      <th></th>\n",
       "      <th></th>\n",
       "      <th></th>\n",
       "      <th></th>\n",
       "      <th></th>\n",
       "      <th></th>\n",
       "      <th></th>\n",
       "      <th></th>\n",
       "      <th></th>\n",
       "      <th></th>\n",
       "      <th></th>\n",
       "      <th></th>\n",
       "      <th></th>\n",
       "      <th></th>\n",
       "      <th></th>\n",
       "      <th></th>\n",
       "      <th></th>\n",
       "      <th></th>\n",
       "      <th></th>\n",
       "      <th></th>\n",
       "    </tr>\n",
       "  </thead>\n",
       "  <tbody>\n",
       "    <tr>\n",
       "      <th>lh_caudalmiddlefrontal_volume</th>\n",
       "      <td>-0.065899</td>\n",
       "      <td>-0.061172</td>\n",
       "      <td>0</td>\n",
       "      <td>0</td>\n",
       "      <td>-0.078511</td>\n",
       "      <td>-0.068109</td>\n",
       "      <td>-0.066527</td>\n",
       "      <td>-0.064330</td>\n",
       "      <td>-0.069419</td>\n",
       "      <td>-0.091169</td>\n",
       "      <td>...</td>\n",
       "      <td>-0.074112</td>\n",
       "      <td>-0.070072</td>\n",
       "      <td>-0.068622</td>\n",
       "      <td>-0.071099</td>\n",
       "      <td>-0.064310</td>\n",
       "      <td>-0.067726</td>\n",
       "      <td>-0.069419</td>\n",
       "      <td>-0.066459</td>\n",
       "      <td>-0.067159</td>\n",
       "      <td>0.011757</td>\n",
       "    </tr>\n",
       "    <tr>\n",
       "      <th>lh_entorhinal_volume</th>\n",
       "      <td>0.000000</td>\n",
       "      <td>0.000000</td>\n",
       "      <td>0</td>\n",
       "      <td>0</td>\n",
       "      <td>0.019397</td>\n",
       "      <td>0.000000</td>\n",
       "      <td>0.000000</td>\n",
       "      <td>0.000000</td>\n",
       "      <td>0.000020</td>\n",
       "      <td>0.002538</td>\n",
       "      <td>...</td>\n",
       "      <td>0.000000</td>\n",
       "      <td>0.000000</td>\n",
       "      <td>0.000000</td>\n",
       "      <td>0.000000</td>\n",
       "      <td>0.000000</td>\n",
       "      <td>0.000000</td>\n",
       "      <td>0.000000</td>\n",
       "      <td>0.000000</td>\n",
       "      <td>0.001266</td>\n",
       "      <td>0.003888</td>\n",
       "    </tr>\n",
       "    <tr>\n",
       "      <th>lh_fusiform_volume</th>\n",
       "      <td>-0.035924</td>\n",
       "      <td>-0.041170</td>\n",
       "      <td>0</td>\n",
       "      <td>0</td>\n",
       "      <td>-0.040548</td>\n",
       "      <td>-0.041191</td>\n",
       "      <td>-0.041481</td>\n",
       "      <td>-0.037134</td>\n",
       "      <td>-0.037282</td>\n",
       "      <td>-0.043077</td>\n",
       "      <td>...</td>\n",
       "      <td>-0.029433</td>\n",
       "      <td>-0.044253</td>\n",
       "      <td>-0.039551</td>\n",
       "      <td>-0.038930</td>\n",
       "      <td>-0.044562</td>\n",
       "      <td>-0.044599</td>\n",
       "      <td>-0.053357</td>\n",
       "      <td>-0.028511</td>\n",
       "      <td>-0.038453</td>\n",
       "      <td>0.008141</td>\n",
       "    </tr>\n",
       "    <tr>\n",
       "      <th>lh_parsorbitalis_volume</th>\n",
       "      <td>0.021963</td>\n",
       "      <td>0.018358</td>\n",
       "      <td>0</td>\n",
       "      <td>0</td>\n",
       "      <td>0.024643</td>\n",
       "      <td>0.026488</td>\n",
       "      <td>0.025932</td>\n",
       "      <td>0.025151</td>\n",
       "      <td>0.032108</td>\n",
       "      <td>0.034751</td>\n",
       "      <td>...</td>\n",
       "      <td>0.029706</td>\n",
       "      <td>0.023332</td>\n",
       "      <td>0.027556</td>\n",
       "      <td>0.029377</td>\n",
       "      <td>0.027481</td>\n",
       "      <td>0.023715</td>\n",
       "      <td>0.025124</td>\n",
       "      <td>0.023244</td>\n",
       "      <td>0.026499</td>\n",
       "      <td>0.006478</td>\n",
       "    </tr>\n",
       "    <tr>\n",
       "      <th>lh_parstriangularis_volume</th>\n",
       "      <td>0.117415</td>\n",
       "      <td>0.115175</td>\n",
       "      <td>0</td>\n",
       "      <td>0</td>\n",
       "      <td>0.115334</td>\n",
       "      <td>0.118452</td>\n",
       "      <td>0.117905</td>\n",
       "      <td>0.117347</td>\n",
       "      <td>0.118081</td>\n",
       "      <td>0.121455</td>\n",
       "      <td>...</td>\n",
       "      <td>0.118211</td>\n",
       "      <td>0.115399</td>\n",
       "      <td>0.118311</td>\n",
       "      <td>0.117428</td>\n",
       "      <td>0.117670</td>\n",
       "      <td>0.120706</td>\n",
       "      <td>0.127302</td>\n",
       "      <td>0.129740</td>\n",
       "      <td>0.115501</td>\n",
       "      <td>0.018072</td>\n",
       "    </tr>\n",
       "    <tr>\n",
       "      <th>lh_postcentral_volume</th>\n",
       "      <td>-0.013521</td>\n",
       "      <td>-0.013129</td>\n",
       "      <td>0</td>\n",
       "      <td>0</td>\n",
       "      <td>-0.006417</td>\n",
       "      <td>-0.013634</td>\n",
       "      <td>-0.018266</td>\n",
       "      <td>-0.017440</td>\n",
       "      <td>-0.015098</td>\n",
       "      <td>-0.023335</td>\n",
       "      <td>...</td>\n",
       "      <td>-0.010323</td>\n",
       "      <td>-0.012102</td>\n",
       "      <td>-0.014970</td>\n",
       "      <td>-0.015305</td>\n",
       "      <td>-0.010698</td>\n",
       "      <td>-0.014740</td>\n",
       "      <td>-0.025650</td>\n",
       "      <td>-0.030984</td>\n",
       "      <td>-0.015294</td>\n",
       "      <td>0.006326</td>\n",
       "    </tr>\n",
       "    <tr>\n",
       "      <th>lh_superiorparietal_volume</th>\n",
       "      <td>0.028067</td>\n",
       "      <td>0.035934</td>\n",
       "      <td>0</td>\n",
       "      <td>0</td>\n",
       "      <td>0.031673</td>\n",
       "      <td>0.030691</td>\n",
       "      <td>0.029657</td>\n",
       "      <td>0.030687</td>\n",
       "      <td>0.031532</td>\n",
       "      <td>0.027251</td>\n",
       "      <td>...</td>\n",
       "      <td>0.020363</td>\n",
       "      <td>0.036701</td>\n",
       "      <td>0.031302</td>\n",
       "      <td>0.029261</td>\n",
       "      <td>0.034631</td>\n",
       "      <td>0.036847</td>\n",
       "      <td>0.039467</td>\n",
       "      <td>0.024122</td>\n",
       "      <td>0.030820</td>\n",
       "      <td>0.007344</td>\n",
       "    </tr>\n",
       "    <tr>\n",
       "      <th>lh_superiortemporal_volume</th>\n",
       "      <td>-0.052960</td>\n",
       "      <td>-0.041939</td>\n",
       "      <td>0</td>\n",
       "      <td>0</td>\n",
       "      <td>-0.056775</td>\n",
       "      <td>-0.051722</td>\n",
       "      <td>-0.049838</td>\n",
       "      <td>-0.054807</td>\n",
       "      <td>-0.050528</td>\n",
       "      <td>-0.032154</td>\n",
       "      <td>...</td>\n",
       "      <td>-0.054532</td>\n",
       "      <td>-0.048735</td>\n",
       "      <td>-0.051487</td>\n",
       "      <td>-0.050754</td>\n",
       "      <td>-0.052972</td>\n",
       "      <td>-0.053592</td>\n",
       "      <td>-0.033055</td>\n",
       "      <td>-0.060740</td>\n",
       "      <td>-0.049132</td>\n",
       "      <td>0.010142</td>\n",
       "    </tr>\n",
       "    <tr>\n",
       "      <th>rh_entorhinal_volume</th>\n",
       "      <td>0.080711</td>\n",
       "      <td>0.079574</td>\n",
       "      <td>0</td>\n",
       "      <td>0</td>\n",
       "      <td>0.073801</td>\n",
       "      <td>0.078000</td>\n",
       "      <td>0.082456</td>\n",
       "      <td>0.080071</td>\n",
       "      <td>0.076591</td>\n",
       "      <td>0.076612</td>\n",
       "      <td>...</td>\n",
       "      <td>0.078846</td>\n",
       "      <td>0.076641</td>\n",
       "      <td>0.078493</td>\n",
       "      <td>0.075218</td>\n",
       "      <td>0.082938</td>\n",
       "      <td>0.075527</td>\n",
       "      <td>0.094611</td>\n",
       "      <td>0.081196</td>\n",
       "      <td>0.075803</td>\n",
       "      <td>0.012904</td>\n",
       "    </tr>\n",
       "    <tr>\n",
       "      <th>rh_postcentral_volume</th>\n",
       "      <td>-0.037388</td>\n",
       "      <td>-0.032493</td>\n",
       "      <td>0</td>\n",
       "      <td>0</td>\n",
       "      <td>-0.034101</td>\n",
       "      <td>-0.040784</td>\n",
       "      <td>-0.036463</td>\n",
       "      <td>-0.040328</td>\n",
       "      <td>-0.043076</td>\n",
       "      <td>-0.019949</td>\n",
       "      <td>...</td>\n",
       "      <td>-0.045887</td>\n",
       "      <td>-0.037850</td>\n",
       "      <td>-0.039570</td>\n",
       "      <td>-0.040294</td>\n",
       "      <td>-0.040246</td>\n",
       "      <td>-0.045067</td>\n",
       "      <td>-0.030843</td>\n",
       "      <td>-0.033126</td>\n",
       "      <td>-0.038055</td>\n",
       "      <td>0.008131</td>\n",
       "    </tr>\n",
       "    <tr>\n",
       "      <th>rh_rostralanteriorcingulate_volume</th>\n",
       "      <td>0.059643</td>\n",
       "      <td>0.077941</td>\n",
       "      <td>0</td>\n",
       "      <td>0</td>\n",
       "      <td>0.070051</td>\n",
       "      <td>0.065766</td>\n",
       "      <td>0.064753</td>\n",
       "      <td>0.060660</td>\n",
       "      <td>0.062496</td>\n",
       "      <td>0.052804</td>\n",
       "      <td>...</td>\n",
       "      <td>0.066079</td>\n",
       "      <td>0.072864</td>\n",
       "      <td>0.064445</td>\n",
       "      <td>0.064353</td>\n",
       "      <td>0.061651</td>\n",
       "      <td>0.055069</td>\n",
       "      <td>0.058590</td>\n",
       "      <td>0.064893</td>\n",
       "      <td>0.062489</td>\n",
       "      <td>0.011431</td>\n",
       "    </tr>\n",
       "    <tr>\n",
       "      <th>rh_transversetemporal_volume</th>\n",
       "      <td>-0.026483</td>\n",
       "      <td>-0.035037</td>\n",
       "      <td>0</td>\n",
       "      <td>0</td>\n",
       "      <td>-0.035625</td>\n",
       "      <td>-0.030716</td>\n",
       "      <td>-0.037226</td>\n",
       "      <td>-0.031404</td>\n",
       "      <td>-0.034356</td>\n",
       "      <td>-0.025408</td>\n",
       "      <td>...</td>\n",
       "      <td>-0.025304</td>\n",
       "      <td>-0.031251</td>\n",
       "      <td>-0.031377</td>\n",
       "      <td>-0.031558</td>\n",
       "      <td>-0.035983</td>\n",
       "      <td>-0.022952</td>\n",
       "      <td>-0.037430</td>\n",
       "      <td>-0.030336</td>\n",
       "      <td>-0.030605</td>\n",
       "      <td>0.006583</td>\n",
       "    </tr>\n",
       "    <tr>\n",
       "      <th>Left-Accumbens-area</th>\n",
       "      <td>0.051801</td>\n",
       "      <td>0.055371</td>\n",
       "      <td>0</td>\n",
       "      <td>0</td>\n",
       "      <td>0.060852</td>\n",
       "      <td>0.050633</td>\n",
       "      <td>0.050516</td>\n",
       "      <td>0.048530</td>\n",
       "      <td>0.045963</td>\n",
       "      <td>0.054537</td>\n",
       "      <td>...</td>\n",
       "      <td>0.052941</td>\n",
       "      <td>0.048988</td>\n",
       "      <td>0.050979</td>\n",
       "      <td>0.048773</td>\n",
       "      <td>0.049664</td>\n",
       "      <td>0.055087</td>\n",
       "      <td>0.049640</td>\n",
       "      <td>0.049819</td>\n",
       "      <td>0.049314</td>\n",
       "      <td>0.008900</td>\n",
       "    </tr>\n",
       "    <tr>\n",
       "      <th>gender_F</th>\n",
       "      <td>0.017364</td>\n",
       "      <td>0.014141</td>\n",
       "      <td>0</td>\n",
       "      <td>0</td>\n",
       "      <td>0.012897</td>\n",
       "      <td>0.016342</td>\n",
       "      <td>0.015821</td>\n",
       "      <td>0.016039</td>\n",
       "      <td>0.016039</td>\n",
       "      <td>0.019295</td>\n",
       "      <td>...</td>\n",
       "      <td>0.017060</td>\n",
       "      <td>0.017782</td>\n",
       "      <td>0.016631</td>\n",
       "      <td>0.017525</td>\n",
       "      <td>0.018068</td>\n",
       "      <td>0.019745</td>\n",
       "      <td>0.019087</td>\n",
       "      <td>0.014649</td>\n",
       "      <td>0.016507</td>\n",
       "      <td>0.003147</td>\n",
       "    </tr>\n",
       "    <tr>\n",
       "      <th>RANDOM</th>\n",
       "      <td>-0.010887</td>\n",
       "      <td>0.000000</td>\n",
       "      <td>0</td>\n",
       "      <td>0</td>\n",
       "      <td>-0.024858</td>\n",
       "      <td>-0.000035</td>\n",
       "      <td>0.000000</td>\n",
       "      <td>0.000000</td>\n",
       "      <td>0.000000</td>\n",
       "      <td>0.056968</td>\n",
       "      <td>...</td>\n",
       "      <td>-0.034502</td>\n",
       "      <td>0.000000</td>\n",
       "      <td>0.000000</td>\n",
       "      <td>0.000000</td>\n",
       "      <td>-0.021648</td>\n",
       "      <td>0.032619</td>\n",
       "      <td>0.058266</td>\n",
       "      <td>-0.038112</td>\n",
       "      <td>-0.000953</td>\n",
       "      <td>0.024045</td>\n",
       "    </tr>\n",
       "  </tbody>\n",
       "</table>\n",
       "<p>15 rows × 143 columns</p>\n",
       "</div>"
      ],
      "text/plain": [
       "                                           0         1  2  3         4  \\\n",
       "Unnamed: 0                                                               \n",
       "lh_caudalmiddlefrontal_volume      -0.065899 -0.061172  0  0 -0.078511   \n",
       "lh_entorhinal_volume                0.000000  0.000000  0  0  0.019397   \n",
       "lh_fusiform_volume                 -0.035924 -0.041170  0  0 -0.040548   \n",
       "lh_parsorbitalis_volume             0.021963  0.018358  0  0  0.024643   \n",
       "lh_parstriangularis_volume          0.117415  0.115175  0  0  0.115334   \n",
       "lh_postcentral_volume              -0.013521 -0.013129  0  0 -0.006417   \n",
       "lh_superiorparietal_volume          0.028067  0.035934  0  0  0.031673   \n",
       "lh_superiortemporal_volume         -0.052960 -0.041939  0  0 -0.056775   \n",
       "rh_entorhinal_volume                0.080711  0.079574  0  0  0.073801   \n",
       "rh_postcentral_volume              -0.037388 -0.032493  0  0 -0.034101   \n",
       "rh_rostralanteriorcingulate_volume  0.059643  0.077941  0  0  0.070051   \n",
       "rh_transversetemporal_volume       -0.026483 -0.035037  0  0 -0.035625   \n",
       "Left-Accumbens-area                 0.051801  0.055371  0  0  0.060852   \n",
       "gender_F                            0.017364  0.014141  0  0  0.012897   \n",
       "RANDOM                             -0.010887  0.000000  0  0 -0.024858   \n",
       "\n",
       "                                           5         6         7         8  \\\n",
       "Unnamed: 0                                                                   \n",
       "lh_caudalmiddlefrontal_volume      -0.068109 -0.066527 -0.064330 -0.069419   \n",
       "lh_entorhinal_volume                0.000000  0.000000  0.000000  0.000020   \n",
       "lh_fusiform_volume                 -0.041191 -0.041481 -0.037134 -0.037282   \n",
       "lh_parsorbitalis_volume             0.026488  0.025932  0.025151  0.032108   \n",
       "lh_parstriangularis_volume          0.118452  0.117905  0.117347  0.118081   \n",
       "lh_postcentral_volume              -0.013634 -0.018266 -0.017440 -0.015098   \n",
       "lh_superiorparietal_volume          0.030691  0.029657  0.030687  0.031532   \n",
       "lh_superiortemporal_volume         -0.051722 -0.049838 -0.054807 -0.050528   \n",
       "rh_entorhinal_volume                0.078000  0.082456  0.080071  0.076591   \n",
       "rh_postcentral_volume              -0.040784 -0.036463 -0.040328 -0.043076   \n",
       "rh_rostralanteriorcingulate_volume  0.065766  0.064753  0.060660  0.062496   \n",
       "rh_transversetemporal_volume       -0.030716 -0.037226 -0.031404 -0.034356   \n",
       "Left-Accumbens-area                 0.050633  0.050516  0.048530  0.045963   \n",
       "gender_F                            0.016342  0.015821  0.016039  0.016039   \n",
       "RANDOM                             -0.000035  0.000000  0.000000  0.000000   \n",
       "\n",
       "                                           9  ...       133       134  \\\n",
       "Unnamed: 0                                    ...                       \n",
       "lh_caudalmiddlefrontal_volume      -0.091169  ... -0.074112 -0.070072   \n",
       "lh_entorhinal_volume                0.002538  ...  0.000000  0.000000   \n",
       "lh_fusiform_volume                 -0.043077  ... -0.029433 -0.044253   \n",
       "lh_parsorbitalis_volume             0.034751  ...  0.029706  0.023332   \n",
       "lh_parstriangularis_volume          0.121455  ...  0.118211  0.115399   \n",
       "lh_postcentral_volume              -0.023335  ... -0.010323 -0.012102   \n",
       "lh_superiorparietal_volume          0.027251  ...  0.020363  0.036701   \n",
       "lh_superiortemporal_volume         -0.032154  ... -0.054532 -0.048735   \n",
       "rh_entorhinal_volume                0.076612  ...  0.078846  0.076641   \n",
       "rh_postcentral_volume              -0.019949  ... -0.045887 -0.037850   \n",
       "rh_rostralanteriorcingulate_volume  0.052804  ...  0.066079  0.072864   \n",
       "rh_transversetemporal_volume       -0.025408  ... -0.025304 -0.031251   \n",
       "Left-Accumbens-area                 0.054537  ...  0.052941  0.048988   \n",
       "gender_F                            0.019295  ...  0.017060  0.017782   \n",
       "RANDOM                              0.056968  ... -0.034502  0.000000   \n",
       "\n",
       "                                         135       136       137       138  \\\n",
       "Unnamed: 0                                                                   \n",
       "lh_caudalmiddlefrontal_volume      -0.068622 -0.071099 -0.064310 -0.067726   \n",
       "lh_entorhinal_volume                0.000000  0.000000  0.000000  0.000000   \n",
       "lh_fusiform_volume                 -0.039551 -0.038930 -0.044562 -0.044599   \n",
       "lh_parsorbitalis_volume             0.027556  0.029377  0.027481  0.023715   \n",
       "lh_parstriangularis_volume          0.118311  0.117428  0.117670  0.120706   \n",
       "lh_postcentral_volume              -0.014970 -0.015305 -0.010698 -0.014740   \n",
       "lh_superiorparietal_volume          0.031302  0.029261  0.034631  0.036847   \n",
       "lh_superiortemporal_volume         -0.051487 -0.050754 -0.052972 -0.053592   \n",
       "rh_entorhinal_volume                0.078493  0.075218  0.082938  0.075527   \n",
       "rh_postcentral_volume              -0.039570 -0.040294 -0.040246 -0.045067   \n",
       "rh_rostralanteriorcingulate_volume  0.064445  0.064353  0.061651  0.055069   \n",
       "rh_transversetemporal_volume       -0.031377 -0.031558 -0.035983 -0.022952   \n",
       "Left-Accumbens-area                 0.050979  0.048773  0.049664  0.055087   \n",
       "gender_F                            0.016631  0.017525  0.018068  0.019745   \n",
       "RANDOM                              0.000000  0.000000 -0.021648  0.032619   \n",
       "\n",
       "                                         139       140  coefficient       std  \n",
       "Unnamed: 0                                                                     \n",
       "lh_caudalmiddlefrontal_volume      -0.069419 -0.066459    -0.067159  0.011757  \n",
       "lh_entorhinal_volume                0.000000  0.000000     0.001266  0.003888  \n",
       "lh_fusiform_volume                 -0.053357 -0.028511    -0.038453  0.008141  \n",
       "lh_parsorbitalis_volume             0.025124  0.023244     0.026499  0.006478  \n",
       "lh_parstriangularis_volume          0.127302  0.129740     0.115501  0.018072  \n",
       "lh_postcentral_volume              -0.025650 -0.030984    -0.015294  0.006326  \n",
       "lh_superiorparietal_volume          0.039467  0.024122     0.030820  0.007344  \n",
       "lh_superiortemporal_volume         -0.033055 -0.060740    -0.049132  0.010142  \n",
       "rh_entorhinal_volume                0.094611  0.081196     0.075803  0.012904  \n",
       "rh_postcentral_volume              -0.030843 -0.033126    -0.038055  0.008131  \n",
       "rh_rostralanteriorcingulate_volume  0.058590  0.064893     0.062489  0.011431  \n",
       "rh_transversetemporal_volume       -0.037430 -0.030336    -0.030605  0.006583  \n",
       "Left-Accumbens-area                 0.049640  0.049819     0.049314  0.008900  \n",
       "gender_F                            0.019087  0.014649     0.016507  0.003147  \n",
       "RANDOM                              0.058266 -0.038112    -0.000953  0.024045  \n",
       "\n",
       "[15 rows x 143 columns]"
      ]
     },
     "execution_count": 11,
     "metadata": {},
     "output_type": "execute_result"
    }
   ],
   "source": [
    "# coef_lasso_tot = pd.read_excel(\"coef_lasso_loocv_nonzero.xlsx\").set_index('Unnamed: 0')\n",
    "# coef_lasso_tot"
   ]
  },
  {
   "cell_type": "code",
   "execution_count": 70,
   "metadata": {},
   "outputs": [],
   "source": [
    "coef_lasso_tot['abs'] = np.abs(coef_lasso_tot.coefficient) #coef_lasso_tot.apply(lambda row: row.coefficient, axis = 1)\n",
    "coef_lasso_tot = coef_lasso_tot.sort_values(by = ['abs'], ascending = False)"
   ]
  },
  {
   "cell_type": "code",
   "execution_count": 12,
   "metadata": {},
   "outputs": [
    {
     "data": {
      "text/html": [
       "<div>\n",
       "<style scoped>\n",
       "    .dataframe tbody tr th:only-of-type {\n",
       "        vertical-align: middle;\n",
       "    }\n",
       "\n",
       "    .dataframe tbody tr th {\n",
       "        vertical-align: top;\n",
       "    }\n",
       "\n",
       "    .dataframe thead th {\n",
       "        text-align: right;\n",
       "    }\n",
       "</style>\n",
       "<table border=\"1\" class=\"dataframe\">\n",
       "  <thead>\n",
       "    <tr style=\"text-align: right;\">\n",
       "      <th></th>\n",
       "      <th>lh_caudalmiddlefrontal_volume</th>\n",
       "      <th>lh_entorhinal_volume</th>\n",
       "      <th>lh_fusiform_volume</th>\n",
       "      <th>lh_parsorbitalis_volume</th>\n",
       "      <th>lh_parstriangularis_volume</th>\n",
       "      <th>lh_postcentral_volume</th>\n",
       "      <th>lh_superiorparietal_volume</th>\n",
       "      <th>lh_superiortemporal_volume</th>\n",
       "      <th>rh_entorhinal_volume</th>\n",
       "      <th>rh_postcentral_volume</th>\n",
       "      <th>rh_rostralanteriorcingulate_volume</th>\n",
       "      <th>rh_transversetemporal_volume</th>\n",
       "      <th>Left-Accumbens-area</th>\n",
       "      <th>gender_F</th>\n",
       "      <th>RANDOM</th>\n",
       "    </tr>\n",
       "  </thead>\n",
       "  <tbody>\n",
       "    <tr>\n",
       "      <th>0</th>\n",
       "      <td>-0.065899</td>\n",
       "      <td>0.000000</td>\n",
       "      <td>-0.035924</td>\n",
       "      <td>0.021963</td>\n",
       "      <td>0.117415</td>\n",
       "      <td>-0.013521</td>\n",
       "      <td>0.028067</td>\n",
       "      <td>-0.052960</td>\n",
       "      <td>0.080711</td>\n",
       "      <td>-0.037388</td>\n",
       "      <td>0.059643</td>\n",
       "      <td>-0.026483</td>\n",
       "      <td>0.051801</td>\n",
       "      <td>0.017364</td>\n",
       "      <td>-0.010887</td>\n",
       "    </tr>\n",
       "    <tr>\n",
       "      <th>1</th>\n",
       "      <td>-0.061172</td>\n",
       "      <td>0.000000</td>\n",
       "      <td>-0.041170</td>\n",
       "      <td>0.018358</td>\n",
       "      <td>0.115175</td>\n",
       "      <td>-0.013129</td>\n",
       "      <td>0.035934</td>\n",
       "      <td>-0.041939</td>\n",
       "      <td>0.079574</td>\n",
       "      <td>-0.032493</td>\n",
       "      <td>0.077941</td>\n",
       "      <td>-0.035037</td>\n",
       "      <td>0.055371</td>\n",
       "      <td>0.014141</td>\n",
       "      <td>0.000000</td>\n",
       "    </tr>\n",
       "    <tr>\n",
       "      <th>2</th>\n",
       "      <td>0.000000</td>\n",
       "      <td>0.000000</td>\n",
       "      <td>0.000000</td>\n",
       "      <td>0.000000</td>\n",
       "      <td>0.000000</td>\n",
       "      <td>0.000000</td>\n",
       "      <td>0.000000</td>\n",
       "      <td>0.000000</td>\n",
       "      <td>0.000000</td>\n",
       "      <td>0.000000</td>\n",
       "      <td>0.000000</td>\n",
       "      <td>0.000000</td>\n",
       "      <td>0.000000</td>\n",
       "      <td>0.000000</td>\n",
       "      <td>0.000000</td>\n",
       "    </tr>\n",
       "    <tr>\n",
       "      <th>3</th>\n",
       "      <td>0.000000</td>\n",
       "      <td>0.000000</td>\n",
       "      <td>0.000000</td>\n",
       "      <td>0.000000</td>\n",
       "      <td>0.000000</td>\n",
       "      <td>0.000000</td>\n",
       "      <td>0.000000</td>\n",
       "      <td>0.000000</td>\n",
       "      <td>0.000000</td>\n",
       "      <td>0.000000</td>\n",
       "      <td>0.000000</td>\n",
       "      <td>0.000000</td>\n",
       "      <td>0.000000</td>\n",
       "      <td>0.000000</td>\n",
       "      <td>0.000000</td>\n",
       "    </tr>\n",
       "    <tr>\n",
       "      <th>4</th>\n",
       "      <td>-0.078511</td>\n",
       "      <td>0.019397</td>\n",
       "      <td>-0.040548</td>\n",
       "      <td>0.024643</td>\n",
       "      <td>0.115334</td>\n",
       "      <td>-0.006417</td>\n",
       "      <td>0.031673</td>\n",
       "      <td>-0.056775</td>\n",
       "      <td>0.073801</td>\n",
       "      <td>-0.034101</td>\n",
       "      <td>0.070051</td>\n",
       "      <td>-0.035625</td>\n",
       "      <td>0.060852</td>\n",
       "      <td>0.012897</td>\n",
       "      <td>-0.024858</td>\n",
       "    </tr>\n",
       "    <tr>\n",
       "      <th>...</th>\n",
       "      <td>...</td>\n",
       "      <td>...</td>\n",
       "      <td>...</td>\n",
       "      <td>...</td>\n",
       "      <td>...</td>\n",
       "      <td>...</td>\n",
       "      <td>...</td>\n",
       "      <td>...</td>\n",
       "      <td>...</td>\n",
       "      <td>...</td>\n",
       "      <td>...</td>\n",
       "      <td>...</td>\n",
       "      <td>...</td>\n",
       "      <td>...</td>\n",
       "      <td>...</td>\n",
       "    </tr>\n",
       "    <tr>\n",
       "      <th>136</th>\n",
       "      <td>-0.071099</td>\n",
       "      <td>0.000000</td>\n",
       "      <td>-0.038930</td>\n",
       "      <td>0.029377</td>\n",
       "      <td>0.117428</td>\n",
       "      <td>-0.015305</td>\n",
       "      <td>0.029261</td>\n",
       "      <td>-0.050754</td>\n",
       "      <td>0.075218</td>\n",
       "      <td>-0.040294</td>\n",
       "      <td>0.064353</td>\n",
       "      <td>-0.031558</td>\n",
       "      <td>0.048773</td>\n",
       "      <td>0.017525</td>\n",
       "      <td>0.000000</td>\n",
       "    </tr>\n",
       "    <tr>\n",
       "      <th>137</th>\n",
       "      <td>-0.064310</td>\n",
       "      <td>0.000000</td>\n",
       "      <td>-0.044562</td>\n",
       "      <td>0.027481</td>\n",
       "      <td>0.117670</td>\n",
       "      <td>-0.010698</td>\n",
       "      <td>0.034631</td>\n",
       "      <td>-0.052972</td>\n",
       "      <td>0.082938</td>\n",
       "      <td>-0.040246</td>\n",
       "      <td>0.061651</td>\n",
       "      <td>-0.035983</td>\n",
       "      <td>0.049664</td>\n",
       "      <td>0.018068</td>\n",
       "      <td>-0.021648</td>\n",
       "    </tr>\n",
       "    <tr>\n",
       "      <th>138</th>\n",
       "      <td>-0.067726</td>\n",
       "      <td>0.000000</td>\n",
       "      <td>-0.044599</td>\n",
       "      <td>0.023715</td>\n",
       "      <td>0.120706</td>\n",
       "      <td>-0.014740</td>\n",
       "      <td>0.036847</td>\n",
       "      <td>-0.053592</td>\n",
       "      <td>0.075527</td>\n",
       "      <td>-0.045067</td>\n",
       "      <td>0.055069</td>\n",
       "      <td>-0.022952</td>\n",
       "      <td>0.055087</td>\n",
       "      <td>0.019745</td>\n",
       "      <td>0.032619</td>\n",
       "    </tr>\n",
       "    <tr>\n",
       "      <th>139</th>\n",
       "      <td>-0.069419</td>\n",
       "      <td>0.000000</td>\n",
       "      <td>-0.053357</td>\n",
       "      <td>0.025124</td>\n",
       "      <td>0.127302</td>\n",
       "      <td>-0.025650</td>\n",
       "      <td>0.039467</td>\n",
       "      <td>-0.033055</td>\n",
       "      <td>0.094611</td>\n",
       "      <td>-0.030843</td>\n",
       "      <td>0.058590</td>\n",
       "      <td>-0.037430</td>\n",
       "      <td>0.049640</td>\n",
       "      <td>0.019087</td>\n",
       "      <td>0.058266</td>\n",
       "    </tr>\n",
       "    <tr>\n",
       "      <th>140</th>\n",
       "      <td>-0.066459</td>\n",
       "      <td>0.000000</td>\n",
       "      <td>-0.028511</td>\n",
       "      <td>0.023244</td>\n",
       "      <td>0.129740</td>\n",
       "      <td>-0.030984</td>\n",
       "      <td>0.024122</td>\n",
       "      <td>-0.060740</td>\n",
       "      <td>0.081196</td>\n",
       "      <td>-0.033126</td>\n",
       "      <td>0.064893</td>\n",
       "      <td>-0.030336</td>\n",
       "      <td>0.049819</td>\n",
       "      <td>0.014649</td>\n",
       "      <td>-0.038112</td>\n",
       "    </tr>\n",
       "  </tbody>\n",
       "</table>\n",
       "<p>141 rows × 15 columns</p>\n",
       "</div>"
      ],
      "text/plain": [
       "     lh_caudalmiddlefrontal_volume  lh_entorhinal_volume  lh_fusiform_volume  \\\n",
       "0                        -0.065899              0.000000           -0.035924   \n",
       "1                        -0.061172              0.000000           -0.041170   \n",
       "2                         0.000000              0.000000            0.000000   \n",
       "3                         0.000000              0.000000            0.000000   \n",
       "4                        -0.078511              0.019397           -0.040548   \n",
       "..                             ...                   ...                 ...   \n",
       "136                      -0.071099              0.000000           -0.038930   \n",
       "137                      -0.064310              0.000000           -0.044562   \n",
       "138                      -0.067726              0.000000           -0.044599   \n",
       "139                      -0.069419              0.000000           -0.053357   \n",
       "140                      -0.066459              0.000000           -0.028511   \n",
       "\n",
       "     lh_parsorbitalis_volume  lh_parstriangularis_volume  \\\n",
       "0                   0.021963                    0.117415   \n",
       "1                   0.018358                    0.115175   \n",
       "2                   0.000000                    0.000000   \n",
       "3                   0.000000                    0.000000   \n",
       "4                   0.024643                    0.115334   \n",
       "..                       ...                         ...   \n",
       "136                 0.029377                    0.117428   \n",
       "137                 0.027481                    0.117670   \n",
       "138                 0.023715                    0.120706   \n",
       "139                 0.025124                    0.127302   \n",
       "140                 0.023244                    0.129740   \n",
       "\n",
       "     lh_postcentral_volume  lh_superiorparietal_volume  \\\n",
       "0                -0.013521                    0.028067   \n",
       "1                -0.013129                    0.035934   \n",
       "2                 0.000000                    0.000000   \n",
       "3                 0.000000                    0.000000   \n",
       "4                -0.006417                    0.031673   \n",
       "..                     ...                         ...   \n",
       "136              -0.015305                    0.029261   \n",
       "137              -0.010698                    0.034631   \n",
       "138              -0.014740                    0.036847   \n",
       "139              -0.025650                    0.039467   \n",
       "140              -0.030984                    0.024122   \n",
       "\n",
       "     lh_superiortemporal_volume  rh_entorhinal_volume  rh_postcentral_volume  \\\n",
       "0                     -0.052960              0.080711              -0.037388   \n",
       "1                     -0.041939              0.079574              -0.032493   \n",
       "2                      0.000000              0.000000               0.000000   \n",
       "3                      0.000000              0.000000               0.000000   \n",
       "4                     -0.056775              0.073801              -0.034101   \n",
       "..                          ...                   ...                    ...   \n",
       "136                   -0.050754              0.075218              -0.040294   \n",
       "137                   -0.052972              0.082938              -0.040246   \n",
       "138                   -0.053592              0.075527              -0.045067   \n",
       "139                   -0.033055              0.094611              -0.030843   \n",
       "140                   -0.060740              0.081196              -0.033126   \n",
       "\n",
       "     rh_rostralanteriorcingulate_volume  rh_transversetemporal_volume  \\\n",
       "0                              0.059643                     -0.026483   \n",
       "1                              0.077941                     -0.035037   \n",
       "2                              0.000000                      0.000000   \n",
       "3                              0.000000                      0.000000   \n",
       "4                              0.070051                     -0.035625   \n",
       "..                                  ...                           ...   \n",
       "136                            0.064353                     -0.031558   \n",
       "137                            0.061651                     -0.035983   \n",
       "138                            0.055069                     -0.022952   \n",
       "139                            0.058590                     -0.037430   \n",
       "140                            0.064893                     -0.030336   \n",
       "\n",
       "     Left-Accumbens-area  gender_F    RANDOM  \n",
       "0               0.051801  0.017364 -0.010887  \n",
       "1               0.055371  0.014141  0.000000  \n",
       "2               0.000000  0.000000  0.000000  \n",
       "3               0.000000  0.000000  0.000000  \n",
       "4               0.060852  0.012897 -0.024858  \n",
       "..                   ...       ...       ...  \n",
       "136             0.048773  0.017525  0.000000  \n",
       "137             0.049664  0.018068 -0.021648  \n",
       "138             0.055087  0.019745  0.032619  \n",
       "139             0.049640  0.019087  0.058266  \n",
       "140             0.049819  0.014649 -0.038112  \n",
       "\n",
       "[141 rows x 15 columns]"
      ]
     },
     "execution_count": 12,
     "metadata": {},
     "output_type": "execute_result"
    }
   ],
   "source": [
    "coef_lasso_tot\n",
    "\n",
    "features_list = [item for item in coef_lasso_tot.index]\n",
    "features_list\n",
    "\n",
    "\n",
    "vis_coef = dict()\n",
    "\n",
    "for item in features_list:\n",
    "    vis_coef[item] = coef_lasso_tot.drop(columns = ['coefficient', 'std']).loc[item]\n",
    "\n",
    "vis_coef = pd.DataFrame.from_dict(vis_coef)\n",
    "vis_coef"
   ]
  },
  {
   "cell_type": "code",
   "execution_count": 26,
   "metadata": {},
   "outputs": [],
   "source": [
    "# calculate mean and std of MSE of the lasso and Base model and save MSE to excel\n",
    "MSE = dict()\n",
    "MSE['lasso'] = MSE_lasso\n",
    "MSE['base'] = MSE_base\n",
    "MSE = pd.DataFrame.from_dict(MSE, orient = 'index')\n",
    "MSE_tot = MSE.copy()\n",
    "MSE_tot['mean'] = MSE.mean(axis = 1)\n",
    "MSE_tot['std'] = MSE.std(axis = 1)\n",
    "MSE_tot.to_excel(\"MSE_lasso_loocv_bestmodel_nonzero.xlsx\")"
   ]
  },
  {
   "cell_type": "code",
   "execution_count": 27,
   "metadata": {},
   "outputs": [],
   "source": [
    "# combine y_pred, y_mean (base prediction), y_true and alpha and save to excel\n",
    "S_values = dict()\n",
    "S_values['y_pred'] = [item[0] for item in Y_preds]\n",
    "S_values['y_mean'] = [item[0] for item in Y_means]\n",
    "S_values['y_true'] = [float(item) for item in Y_trues]\n",
    "S_values['alpha'] = alphas\n",
    "S_value = pd.DataFrame.from_dict(S_values, orient = 'index')\n",
    "S_value.to_excel(\"S_values_lasso_loocv_bestmodel.xlsx\")"
   ]
  },
  {
   "cell_type": "markdown",
   "metadata": {},
   "source": [
    "**LOOCV RANDOM FOREST REGRESSION**"
   ]
  },
  {
   "cell_type": "code",
   "execution_count": null,
   "metadata": {},
   "outputs": [
    {
     "name": "stderr",
     "output_type": "stream",
     "text": [
      "C:\\Users\\Esra\\Anaconda3\\lib\\site-packages\\pandas\\core\\indexing.py:1667: SettingWithCopyWarning: \n",
      "A value is trying to be set on a copy of a slice from a DataFrame.\n",
      "Try using .loc[row_indexer,col_indexer] = value instead\n",
      "\n",
      "See the caveats in the documentation: https://pandas.pydata.org/pandas-docs/stable/user_guide/indexing.html#returning-a-view-versus-a-copy\n",
      "  self.obj[key] = value\n"
     ]
    },
    {
     "name": "stdout",
     "output_type": "stream",
     "text": [
      "fitted model: 0\n"
     ]
    },
    {
     "name": "stderr",
     "output_type": "stream",
     "text": [
      "C:\\Users\\Esra\\Anaconda3\\lib\\site-packages\\pandas\\core\\indexing.py:1951: SettingWithCopyWarning: \n",
      "A value is trying to be set on a copy of a slice from a DataFrame.\n",
      "Try using .loc[row_indexer,col_indexer] = value instead\n",
      "\n",
      "See the caveats in the documentation: https://pandas.pydata.org/pandas-docs/stable/user_guide/indexing.html#returning-a-view-versus-a-copy\n",
      "  self.obj[selected_item_labels] = value\n"
     ]
    },
    {
     "name": "stdout",
     "output_type": "stream",
     "text": [
      "fitted model: 1\n"
     ]
    },
    {
     "name": "stderr",
     "output_type": "stream",
     "text": [
      "C:\\Users\\Esra\\Anaconda3\\lib\\site-packages\\pandas\\core\\indexing.py:1951: SettingWithCopyWarning: \n",
      "A value is trying to be set on a copy of a slice from a DataFrame.\n",
      "Try using .loc[row_indexer,col_indexer] = value instead\n",
      "\n",
      "See the caveats in the documentation: https://pandas.pydata.org/pandas-docs/stable/user_guide/indexing.html#returning-a-view-versus-a-copy\n",
      "  self.obj[selected_item_labels] = value\n"
     ]
    },
    {
     "name": "stdout",
     "output_type": "stream",
     "text": [
      "fitted model: 2\n"
     ]
    },
    {
     "name": "stderr",
     "output_type": "stream",
     "text": [
      "C:\\Users\\Esra\\Anaconda3\\lib\\site-packages\\pandas\\core\\indexing.py:1951: SettingWithCopyWarning: \n",
      "A value is trying to be set on a copy of a slice from a DataFrame.\n",
      "Try using .loc[row_indexer,col_indexer] = value instead\n",
      "\n",
      "See the caveats in the documentation: https://pandas.pydata.org/pandas-docs/stable/user_guide/indexing.html#returning-a-view-versus-a-copy\n",
      "  self.obj[selected_item_labels] = value\n"
     ]
    },
    {
     "name": "stdout",
     "output_type": "stream",
     "text": [
      "fitted model: 3\n"
     ]
    },
    {
     "name": "stderr",
     "output_type": "stream",
     "text": [
      "C:\\Users\\Esra\\Anaconda3\\lib\\site-packages\\pandas\\core\\indexing.py:1951: SettingWithCopyWarning: \n",
      "A value is trying to be set on a copy of a slice from a DataFrame.\n",
      "Try using .loc[row_indexer,col_indexer] = value instead\n",
      "\n",
      "See the caveats in the documentation: https://pandas.pydata.org/pandas-docs/stable/user_guide/indexing.html#returning-a-view-versus-a-copy\n",
      "  self.obj[selected_item_labels] = value\n"
     ]
    },
    {
     "name": "stdout",
     "output_type": "stream",
     "text": [
      "fitted model: 4\n"
     ]
    },
    {
     "name": "stderr",
     "output_type": "stream",
     "text": [
      "C:\\Users\\Esra\\Anaconda3\\lib\\site-packages\\pandas\\core\\indexing.py:1951: SettingWithCopyWarning: \n",
      "A value is trying to be set on a copy of a slice from a DataFrame.\n",
      "Try using .loc[row_indexer,col_indexer] = value instead\n",
      "\n",
      "See the caveats in the documentation: https://pandas.pydata.org/pandas-docs/stable/user_guide/indexing.html#returning-a-view-versus-a-copy\n",
      "  self.obj[selected_item_labels] = value\n"
     ]
    },
    {
     "name": "stdout",
     "output_type": "stream",
     "text": [
      "fitted model: 5\n"
     ]
    },
    {
     "name": "stderr",
     "output_type": "stream",
     "text": [
      "C:\\Users\\Esra\\Anaconda3\\lib\\site-packages\\pandas\\core\\indexing.py:1951: SettingWithCopyWarning: \n",
      "A value is trying to be set on a copy of a slice from a DataFrame.\n",
      "Try using .loc[row_indexer,col_indexer] = value instead\n",
      "\n",
      "See the caveats in the documentation: https://pandas.pydata.org/pandas-docs/stable/user_guide/indexing.html#returning-a-view-versus-a-copy\n",
      "  self.obj[selected_item_labels] = value\n"
     ]
    },
    {
     "name": "stdout",
     "output_type": "stream",
     "text": [
      "fitted model: 6\n"
     ]
    },
    {
     "name": "stderr",
     "output_type": "stream",
     "text": [
      "C:\\Users\\Esra\\Anaconda3\\lib\\site-packages\\pandas\\core\\indexing.py:1951: SettingWithCopyWarning: \n",
      "A value is trying to be set on a copy of a slice from a DataFrame.\n",
      "Try using .loc[row_indexer,col_indexer] = value instead\n",
      "\n",
      "See the caveats in the documentation: https://pandas.pydata.org/pandas-docs/stable/user_guide/indexing.html#returning-a-view-versus-a-copy\n",
      "  self.obj[selected_item_labels] = value\n"
     ]
    },
    {
     "name": "stdout",
     "output_type": "stream",
     "text": [
      "fitted model: 7\n"
     ]
    },
    {
     "name": "stderr",
     "output_type": "stream",
     "text": [
      "C:\\Users\\Esra\\Anaconda3\\lib\\site-packages\\pandas\\core\\indexing.py:1951: SettingWithCopyWarning: \n",
      "A value is trying to be set on a copy of a slice from a DataFrame.\n",
      "Try using .loc[row_indexer,col_indexer] = value instead\n",
      "\n",
      "See the caveats in the documentation: https://pandas.pydata.org/pandas-docs/stable/user_guide/indexing.html#returning-a-view-versus-a-copy\n",
      "  self.obj[selected_item_labels] = value\n"
     ]
    },
    {
     "name": "stdout",
     "output_type": "stream",
     "text": [
      "fitted model: 8\n"
     ]
    },
    {
     "name": "stderr",
     "output_type": "stream",
     "text": [
      "C:\\Users\\Esra\\Anaconda3\\lib\\site-packages\\pandas\\core\\indexing.py:1951: SettingWithCopyWarning: \n",
      "A value is trying to be set on a copy of a slice from a DataFrame.\n",
      "Try using .loc[row_indexer,col_indexer] = value instead\n",
      "\n",
      "See the caveats in the documentation: https://pandas.pydata.org/pandas-docs/stable/user_guide/indexing.html#returning-a-view-versus-a-copy\n",
      "  self.obj[selected_item_labels] = value\n"
     ]
    },
    {
     "name": "stdout",
     "output_type": "stream",
     "text": [
      "fitted model: 9\n"
     ]
    },
    {
     "name": "stderr",
     "output_type": "stream",
     "text": [
      "C:\\Users\\Esra\\Anaconda3\\lib\\site-packages\\pandas\\core\\indexing.py:1951: SettingWithCopyWarning: \n",
      "A value is trying to be set on a copy of a slice from a DataFrame.\n",
      "Try using .loc[row_indexer,col_indexer] = value instead\n",
      "\n",
      "See the caveats in the documentation: https://pandas.pydata.org/pandas-docs/stable/user_guide/indexing.html#returning-a-view-versus-a-copy\n",
      "  self.obj[selected_item_labels] = value\n"
     ]
    },
    {
     "name": "stdout",
     "output_type": "stream",
     "text": [
      "fitted model: 10\n"
     ]
    },
    {
     "name": "stderr",
     "output_type": "stream",
     "text": [
      "C:\\Users\\Esra\\Anaconda3\\lib\\site-packages\\pandas\\core\\indexing.py:1951: SettingWithCopyWarning: \n",
      "A value is trying to be set on a copy of a slice from a DataFrame.\n",
      "Try using .loc[row_indexer,col_indexer] = value instead\n",
      "\n",
      "See the caveats in the documentation: https://pandas.pydata.org/pandas-docs/stable/user_guide/indexing.html#returning-a-view-versus-a-copy\n",
      "  self.obj[selected_item_labels] = value\n"
     ]
    },
    {
     "name": "stdout",
     "output_type": "stream",
     "text": [
      "fitted model: 11\n"
     ]
    },
    {
     "name": "stderr",
     "output_type": "stream",
     "text": [
      "C:\\Users\\Esra\\Anaconda3\\lib\\site-packages\\pandas\\core\\indexing.py:1951: SettingWithCopyWarning: \n",
      "A value is trying to be set on a copy of a slice from a DataFrame.\n",
      "Try using .loc[row_indexer,col_indexer] = value instead\n",
      "\n",
      "See the caveats in the documentation: https://pandas.pydata.org/pandas-docs/stable/user_guide/indexing.html#returning-a-view-versus-a-copy\n",
      "  self.obj[selected_item_labels] = value\n"
     ]
    },
    {
     "name": "stdout",
     "output_type": "stream",
     "text": [
      "fitted model: 12\n"
     ]
    },
    {
     "name": "stderr",
     "output_type": "stream",
     "text": [
      "C:\\Users\\Esra\\Anaconda3\\lib\\site-packages\\pandas\\core\\indexing.py:1951: SettingWithCopyWarning: \n",
      "A value is trying to be set on a copy of a slice from a DataFrame.\n",
      "Try using .loc[row_indexer,col_indexer] = value instead\n",
      "\n",
      "See the caveats in the documentation: https://pandas.pydata.org/pandas-docs/stable/user_guide/indexing.html#returning-a-view-versus-a-copy\n",
      "  self.obj[selected_item_labels] = value\n"
     ]
    },
    {
     "name": "stdout",
     "output_type": "stream",
     "text": [
      "fitted model: 13\n"
     ]
    },
    {
     "name": "stderr",
     "output_type": "stream",
     "text": [
      "C:\\Users\\Esra\\Anaconda3\\lib\\site-packages\\pandas\\core\\indexing.py:1951: SettingWithCopyWarning: \n",
      "A value is trying to be set on a copy of a slice from a DataFrame.\n",
      "Try using .loc[row_indexer,col_indexer] = value instead\n",
      "\n",
      "See the caveats in the documentation: https://pandas.pydata.org/pandas-docs/stable/user_guide/indexing.html#returning-a-view-versus-a-copy\n",
      "  self.obj[selected_item_labels] = value\n"
     ]
    },
    {
     "name": "stdout",
     "output_type": "stream",
     "text": [
      "fitted model: 14\n"
     ]
    },
    {
     "name": "stderr",
     "output_type": "stream",
     "text": [
      "C:\\Users\\Esra\\Anaconda3\\lib\\site-packages\\pandas\\core\\indexing.py:1951: SettingWithCopyWarning: \n",
      "A value is trying to be set on a copy of a slice from a DataFrame.\n",
      "Try using .loc[row_indexer,col_indexer] = value instead\n",
      "\n",
      "See the caveats in the documentation: https://pandas.pydata.org/pandas-docs/stable/user_guide/indexing.html#returning-a-view-versus-a-copy\n",
      "  self.obj[selected_item_labels] = value\n"
     ]
    },
    {
     "name": "stdout",
     "output_type": "stream",
     "text": [
      "fitted model: 15\n"
     ]
    },
    {
     "name": "stderr",
     "output_type": "stream",
     "text": [
      "C:\\Users\\Esra\\Anaconda3\\lib\\site-packages\\pandas\\core\\indexing.py:1951: SettingWithCopyWarning: \n",
      "A value is trying to be set on a copy of a slice from a DataFrame.\n",
      "Try using .loc[row_indexer,col_indexer] = value instead\n",
      "\n",
      "See the caveats in the documentation: https://pandas.pydata.org/pandas-docs/stable/user_guide/indexing.html#returning-a-view-versus-a-copy\n",
      "  self.obj[selected_item_labels] = value\n"
     ]
    },
    {
     "name": "stdout",
     "output_type": "stream",
     "text": [
      "fitted model: 16\n"
     ]
    },
    {
     "name": "stderr",
     "output_type": "stream",
     "text": [
      "C:\\Users\\Esra\\Anaconda3\\lib\\site-packages\\pandas\\core\\indexing.py:1951: SettingWithCopyWarning: \n",
      "A value is trying to be set on a copy of a slice from a DataFrame.\n",
      "Try using .loc[row_indexer,col_indexer] = value instead\n",
      "\n",
      "See the caveats in the documentation: https://pandas.pydata.org/pandas-docs/stable/user_guide/indexing.html#returning-a-view-versus-a-copy\n",
      "  self.obj[selected_item_labels] = value\n"
     ]
    },
    {
     "name": "stdout",
     "output_type": "stream",
     "text": [
      "fitted model: 17\n"
     ]
    },
    {
     "name": "stderr",
     "output_type": "stream",
     "text": [
      "C:\\Users\\Esra\\Anaconda3\\lib\\site-packages\\pandas\\core\\indexing.py:1951: SettingWithCopyWarning: \n",
      "A value is trying to be set on a copy of a slice from a DataFrame.\n",
      "Try using .loc[row_indexer,col_indexer] = value instead\n",
      "\n",
      "See the caveats in the documentation: https://pandas.pydata.org/pandas-docs/stable/user_guide/indexing.html#returning-a-view-versus-a-copy\n",
      "  self.obj[selected_item_labels] = value\n"
     ]
    },
    {
     "name": "stdout",
     "output_type": "stream",
     "text": [
      "fitted model: 18\n"
     ]
    },
    {
     "name": "stderr",
     "output_type": "stream",
     "text": [
      "C:\\Users\\Esra\\Anaconda3\\lib\\site-packages\\pandas\\core\\indexing.py:1951: SettingWithCopyWarning: \n",
      "A value is trying to be set on a copy of a slice from a DataFrame.\n",
      "Try using .loc[row_indexer,col_indexer] = value instead\n",
      "\n",
      "See the caveats in the documentation: https://pandas.pydata.org/pandas-docs/stable/user_guide/indexing.html#returning-a-view-versus-a-copy\n",
      "  self.obj[selected_item_labels] = value\n"
     ]
    },
    {
     "name": "stdout",
     "output_type": "stream",
     "text": [
      "fitted model: 19\n"
     ]
    },
    {
     "name": "stderr",
     "output_type": "stream",
     "text": [
      "C:\\Users\\Esra\\Anaconda3\\lib\\site-packages\\pandas\\core\\indexing.py:1951: SettingWithCopyWarning: \n",
      "A value is trying to be set on a copy of a slice from a DataFrame.\n",
      "Try using .loc[row_indexer,col_indexer] = value instead\n",
      "\n",
      "See the caveats in the documentation: https://pandas.pydata.org/pandas-docs/stable/user_guide/indexing.html#returning-a-view-versus-a-copy\n",
      "  self.obj[selected_item_labels] = value\n"
     ]
    },
    {
     "name": "stdout",
     "output_type": "stream",
     "text": [
      "fitted model: 20\n"
     ]
    },
    {
     "name": "stderr",
     "output_type": "stream",
     "text": [
      "C:\\Users\\Esra\\Anaconda3\\lib\\site-packages\\pandas\\core\\indexing.py:1951: SettingWithCopyWarning: \n",
      "A value is trying to be set on a copy of a slice from a DataFrame.\n",
      "Try using .loc[row_indexer,col_indexer] = value instead\n",
      "\n",
      "See the caveats in the documentation: https://pandas.pydata.org/pandas-docs/stable/user_guide/indexing.html#returning-a-view-versus-a-copy\n",
      "  self.obj[selected_item_labels] = value\n"
     ]
    },
    {
     "name": "stdout",
     "output_type": "stream",
     "text": [
      "fitted model: 21\n"
     ]
    },
    {
     "name": "stderr",
     "output_type": "stream",
     "text": [
      "C:\\Users\\Esra\\Anaconda3\\lib\\site-packages\\pandas\\core\\indexing.py:1951: SettingWithCopyWarning: \n",
      "A value is trying to be set on a copy of a slice from a DataFrame.\n",
      "Try using .loc[row_indexer,col_indexer] = value instead\n",
      "\n",
      "See the caveats in the documentation: https://pandas.pydata.org/pandas-docs/stable/user_guide/indexing.html#returning-a-view-versus-a-copy\n",
      "  self.obj[selected_item_labels] = value\n"
     ]
    },
    {
     "name": "stdout",
     "output_type": "stream",
     "text": [
      "fitted model: 22\n"
     ]
    },
    {
     "name": "stderr",
     "output_type": "stream",
     "text": [
      "C:\\Users\\Esra\\Anaconda3\\lib\\site-packages\\pandas\\core\\indexing.py:1951: SettingWithCopyWarning: \n",
      "A value is trying to be set on a copy of a slice from a DataFrame.\n",
      "Try using .loc[row_indexer,col_indexer] = value instead\n",
      "\n",
      "See the caveats in the documentation: https://pandas.pydata.org/pandas-docs/stable/user_guide/indexing.html#returning-a-view-versus-a-copy\n",
      "  self.obj[selected_item_labels] = value\n"
     ]
    },
    {
     "name": "stdout",
     "output_type": "stream",
     "text": [
      "fitted model: 23\n"
     ]
    },
    {
     "name": "stderr",
     "output_type": "stream",
     "text": [
      "C:\\Users\\Esra\\Anaconda3\\lib\\site-packages\\pandas\\core\\indexing.py:1951: SettingWithCopyWarning: \n",
      "A value is trying to be set on a copy of a slice from a DataFrame.\n",
      "Try using .loc[row_indexer,col_indexer] = value instead\n",
      "\n",
      "See the caveats in the documentation: https://pandas.pydata.org/pandas-docs/stable/user_guide/indexing.html#returning-a-view-versus-a-copy\n",
      "  self.obj[selected_item_labels] = value\n"
     ]
    },
    {
     "name": "stdout",
     "output_type": "stream",
     "text": [
      "fitted model: 24\n"
     ]
    },
    {
     "name": "stderr",
     "output_type": "stream",
     "text": [
      "C:\\Users\\Esra\\Anaconda3\\lib\\site-packages\\pandas\\core\\indexing.py:1951: SettingWithCopyWarning: \n",
      "A value is trying to be set on a copy of a slice from a DataFrame.\n",
      "Try using .loc[row_indexer,col_indexer] = value instead\n",
      "\n",
      "See the caveats in the documentation: https://pandas.pydata.org/pandas-docs/stable/user_guide/indexing.html#returning-a-view-versus-a-copy\n",
      "  self.obj[selected_item_labels] = value\n"
     ]
    },
    {
     "name": "stdout",
     "output_type": "stream",
     "text": [
      "fitted model: 25\n"
     ]
    },
    {
     "name": "stderr",
     "output_type": "stream",
     "text": [
      "C:\\Users\\Esra\\Anaconda3\\lib\\site-packages\\pandas\\core\\indexing.py:1951: SettingWithCopyWarning: \n",
      "A value is trying to be set on a copy of a slice from a DataFrame.\n",
      "Try using .loc[row_indexer,col_indexer] = value instead\n",
      "\n",
      "See the caveats in the documentation: https://pandas.pydata.org/pandas-docs/stable/user_guide/indexing.html#returning-a-view-versus-a-copy\n",
      "  self.obj[selected_item_labels] = value\n"
     ]
    },
    {
     "name": "stdout",
     "output_type": "stream",
     "text": [
      "fitted model: 26\n"
     ]
    },
    {
     "name": "stderr",
     "output_type": "stream",
     "text": [
      "C:\\Users\\Esra\\Anaconda3\\lib\\site-packages\\pandas\\core\\indexing.py:1951: SettingWithCopyWarning: \n",
      "A value is trying to be set on a copy of a slice from a DataFrame.\n",
      "Try using .loc[row_indexer,col_indexer] = value instead\n",
      "\n",
      "See the caveats in the documentation: https://pandas.pydata.org/pandas-docs/stable/user_guide/indexing.html#returning-a-view-versus-a-copy\n",
      "  self.obj[selected_item_labels] = value\n"
     ]
    },
    {
     "name": "stdout",
     "output_type": "stream",
     "text": [
      "fitted model: 27\n"
     ]
    },
    {
     "name": "stderr",
     "output_type": "stream",
     "text": [
      "C:\\Users\\Esra\\Anaconda3\\lib\\site-packages\\pandas\\core\\indexing.py:1951: SettingWithCopyWarning: \n",
      "A value is trying to be set on a copy of a slice from a DataFrame.\n",
      "Try using .loc[row_indexer,col_indexer] = value instead\n",
      "\n",
      "See the caveats in the documentation: https://pandas.pydata.org/pandas-docs/stable/user_guide/indexing.html#returning-a-view-versus-a-copy\n",
      "  self.obj[selected_item_labels] = value\n"
     ]
    },
    {
     "name": "stdout",
     "output_type": "stream",
     "text": [
      "fitted model: 28\n"
     ]
    },
    {
     "name": "stderr",
     "output_type": "stream",
     "text": [
      "C:\\Users\\Esra\\Anaconda3\\lib\\site-packages\\pandas\\core\\indexing.py:1951: SettingWithCopyWarning: \n",
      "A value is trying to be set on a copy of a slice from a DataFrame.\n",
      "Try using .loc[row_indexer,col_indexer] = value instead\n",
      "\n",
      "See the caveats in the documentation: https://pandas.pydata.org/pandas-docs/stable/user_guide/indexing.html#returning-a-view-versus-a-copy\n",
      "  self.obj[selected_item_labels] = value\n"
     ]
    },
    {
     "name": "stdout",
     "output_type": "stream",
     "text": [
      "fitted model: 29\n"
     ]
    },
    {
     "name": "stderr",
     "output_type": "stream",
     "text": [
      "C:\\Users\\Esra\\Anaconda3\\lib\\site-packages\\pandas\\core\\indexing.py:1951: SettingWithCopyWarning: \n",
      "A value is trying to be set on a copy of a slice from a DataFrame.\n",
      "Try using .loc[row_indexer,col_indexer] = value instead\n",
      "\n",
      "See the caveats in the documentation: https://pandas.pydata.org/pandas-docs/stable/user_guide/indexing.html#returning-a-view-versus-a-copy\n",
      "  self.obj[selected_item_labels] = value\n"
     ]
    },
    {
     "name": "stdout",
     "output_type": "stream",
     "text": [
      "fitted model: 30\n"
     ]
    },
    {
     "name": "stderr",
     "output_type": "stream",
     "text": [
      "C:\\Users\\Esra\\Anaconda3\\lib\\site-packages\\pandas\\core\\indexing.py:1951: SettingWithCopyWarning: \n",
      "A value is trying to be set on a copy of a slice from a DataFrame.\n",
      "Try using .loc[row_indexer,col_indexer] = value instead\n",
      "\n",
      "See the caveats in the documentation: https://pandas.pydata.org/pandas-docs/stable/user_guide/indexing.html#returning-a-view-versus-a-copy\n",
      "  self.obj[selected_item_labels] = value\n"
     ]
    },
    {
     "name": "stdout",
     "output_type": "stream",
     "text": [
      "fitted model: 31\n"
     ]
    },
    {
     "name": "stderr",
     "output_type": "stream",
     "text": [
      "C:\\Users\\Esra\\Anaconda3\\lib\\site-packages\\pandas\\core\\indexing.py:1951: SettingWithCopyWarning: \n",
      "A value is trying to be set on a copy of a slice from a DataFrame.\n",
      "Try using .loc[row_indexer,col_indexer] = value instead\n",
      "\n",
      "See the caveats in the documentation: https://pandas.pydata.org/pandas-docs/stable/user_guide/indexing.html#returning-a-view-versus-a-copy\n",
      "  self.obj[selected_item_labels] = value\n"
     ]
    },
    {
     "name": "stdout",
     "output_type": "stream",
     "text": [
      "fitted model: 32\n"
     ]
    },
    {
     "name": "stderr",
     "output_type": "stream",
     "text": [
      "C:\\Users\\Esra\\Anaconda3\\lib\\site-packages\\pandas\\core\\indexing.py:1951: SettingWithCopyWarning: \n",
      "A value is trying to be set on a copy of a slice from a DataFrame.\n",
      "Try using .loc[row_indexer,col_indexer] = value instead\n",
      "\n",
      "See the caveats in the documentation: https://pandas.pydata.org/pandas-docs/stable/user_guide/indexing.html#returning-a-view-versus-a-copy\n",
      "  self.obj[selected_item_labels] = value\n"
     ]
    },
    {
     "name": "stdout",
     "output_type": "stream",
     "text": [
      "fitted model: 33\n"
     ]
    },
    {
     "name": "stderr",
     "output_type": "stream",
     "text": [
      "C:\\Users\\Esra\\Anaconda3\\lib\\site-packages\\pandas\\core\\indexing.py:1951: SettingWithCopyWarning: \n",
      "A value is trying to be set on a copy of a slice from a DataFrame.\n",
      "Try using .loc[row_indexer,col_indexer] = value instead\n",
      "\n",
      "See the caveats in the documentation: https://pandas.pydata.org/pandas-docs/stable/user_guide/indexing.html#returning-a-view-versus-a-copy\n",
      "  self.obj[selected_item_labels] = value\n"
     ]
    },
    {
     "name": "stdout",
     "output_type": "stream",
     "text": [
      "fitted model: 34\n"
     ]
    },
    {
     "name": "stderr",
     "output_type": "stream",
     "text": [
      "C:\\Users\\Esra\\Anaconda3\\lib\\site-packages\\pandas\\core\\indexing.py:1951: SettingWithCopyWarning: \n",
      "A value is trying to be set on a copy of a slice from a DataFrame.\n",
      "Try using .loc[row_indexer,col_indexer] = value instead\n",
      "\n",
      "See the caveats in the documentation: https://pandas.pydata.org/pandas-docs/stable/user_guide/indexing.html#returning-a-view-versus-a-copy\n",
      "  self.obj[selected_item_labels] = value\n"
     ]
    },
    {
     "name": "stdout",
     "output_type": "stream",
     "text": [
      "fitted model: 35\n"
     ]
    },
    {
     "name": "stderr",
     "output_type": "stream",
     "text": [
      "C:\\Users\\Esra\\Anaconda3\\lib\\site-packages\\pandas\\core\\indexing.py:1951: SettingWithCopyWarning: \n",
      "A value is trying to be set on a copy of a slice from a DataFrame.\n",
      "Try using .loc[row_indexer,col_indexer] = value instead\n",
      "\n",
      "See the caveats in the documentation: https://pandas.pydata.org/pandas-docs/stable/user_guide/indexing.html#returning-a-view-versus-a-copy\n",
      "  self.obj[selected_item_labels] = value\n"
     ]
    },
    {
     "name": "stdout",
     "output_type": "stream",
     "text": [
      "fitted model: 36\n"
     ]
    },
    {
     "name": "stderr",
     "output_type": "stream",
     "text": [
      "C:\\Users\\Esra\\Anaconda3\\lib\\site-packages\\pandas\\core\\indexing.py:1951: SettingWithCopyWarning: \n",
      "A value is trying to be set on a copy of a slice from a DataFrame.\n",
      "Try using .loc[row_indexer,col_indexer] = value instead\n",
      "\n",
      "See the caveats in the documentation: https://pandas.pydata.org/pandas-docs/stable/user_guide/indexing.html#returning-a-view-versus-a-copy\n",
      "  self.obj[selected_item_labels] = value\n"
     ]
    },
    {
     "name": "stdout",
     "output_type": "stream",
     "text": [
      "fitted model: 37\n"
     ]
    },
    {
     "name": "stderr",
     "output_type": "stream",
     "text": [
      "C:\\Users\\Esra\\Anaconda3\\lib\\site-packages\\pandas\\core\\indexing.py:1951: SettingWithCopyWarning: \n",
      "A value is trying to be set on a copy of a slice from a DataFrame.\n",
      "Try using .loc[row_indexer,col_indexer] = value instead\n",
      "\n",
      "See the caveats in the documentation: https://pandas.pydata.org/pandas-docs/stable/user_guide/indexing.html#returning-a-view-versus-a-copy\n",
      "  self.obj[selected_item_labels] = value\n"
     ]
    },
    {
     "name": "stdout",
     "output_type": "stream",
     "text": [
      "fitted model: 38\n"
     ]
    },
    {
     "name": "stderr",
     "output_type": "stream",
     "text": [
      "C:\\Users\\Esra\\Anaconda3\\lib\\site-packages\\pandas\\core\\indexing.py:1951: SettingWithCopyWarning: \n",
      "A value is trying to be set on a copy of a slice from a DataFrame.\n",
      "Try using .loc[row_indexer,col_indexer] = value instead\n",
      "\n",
      "See the caveats in the documentation: https://pandas.pydata.org/pandas-docs/stable/user_guide/indexing.html#returning-a-view-versus-a-copy\n",
      "  self.obj[selected_item_labels] = value\n"
     ]
    },
    {
     "name": "stdout",
     "output_type": "stream",
     "text": [
      "fitted model: 39\n"
     ]
    },
    {
     "name": "stderr",
     "output_type": "stream",
     "text": [
      "C:\\Users\\Esra\\Anaconda3\\lib\\site-packages\\pandas\\core\\indexing.py:1951: SettingWithCopyWarning: \n",
      "A value is trying to be set on a copy of a slice from a DataFrame.\n",
      "Try using .loc[row_indexer,col_indexer] = value instead\n",
      "\n",
      "See the caveats in the documentation: https://pandas.pydata.org/pandas-docs/stable/user_guide/indexing.html#returning-a-view-versus-a-copy\n",
      "  self.obj[selected_item_labels] = value\n"
     ]
    },
    {
     "name": "stdout",
     "output_type": "stream",
     "text": [
      "fitted model: 40\n"
     ]
    },
    {
     "name": "stderr",
     "output_type": "stream",
     "text": [
      "C:\\Users\\Esra\\Anaconda3\\lib\\site-packages\\pandas\\core\\indexing.py:1951: SettingWithCopyWarning: \n",
      "A value is trying to be set on a copy of a slice from a DataFrame.\n",
      "Try using .loc[row_indexer,col_indexer] = value instead\n",
      "\n",
      "See the caveats in the documentation: https://pandas.pydata.org/pandas-docs/stable/user_guide/indexing.html#returning-a-view-versus-a-copy\n",
      "  self.obj[selected_item_labels] = value\n"
     ]
    },
    {
     "name": "stdout",
     "output_type": "stream",
     "text": [
      "fitted model: 41\n"
     ]
    },
    {
     "name": "stderr",
     "output_type": "stream",
     "text": [
      "C:\\Users\\Esra\\Anaconda3\\lib\\site-packages\\pandas\\core\\indexing.py:1951: SettingWithCopyWarning: \n",
      "A value is trying to be set on a copy of a slice from a DataFrame.\n",
      "Try using .loc[row_indexer,col_indexer] = value instead\n",
      "\n",
      "See the caveats in the documentation: https://pandas.pydata.org/pandas-docs/stable/user_guide/indexing.html#returning-a-view-versus-a-copy\n",
      "  self.obj[selected_item_labels] = value\n"
     ]
    },
    {
     "name": "stdout",
     "output_type": "stream",
     "text": [
      "fitted model: 42\n"
     ]
    },
    {
     "name": "stderr",
     "output_type": "stream",
     "text": [
      "C:\\Users\\Esra\\Anaconda3\\lib\\site-packages\\pandas\\core\\indexing.py:1951: SettingWithCopyWarning: \n",
      "A value is trying to be set on a copy of a slice from a DataFrame.\n",
      "Try using .loc[row_indexer,col_indexer] = value instead\n",
      "\n",
      "See the caveats in the documentation: https://pandas.pydata.org/pandas-docs/stable/user_guide/indexing.html#returning-a-view-versus-a-copy\n",
      "  self.obj[selected_item_labels] = value\n"
     ]
    },
    {
     "name": "stdout",
     "output_type": "stream",
     "text": [
      "fitted model: 43\n"
     ]
    },
    {
     "name": "stderr",
     "output_type": "stream",
     "text": [
      "C:\\Users\\Esra\\Anaconda3\\lib\\site-packages\\pandas\\core\\indexing.py:1951: SettingWithCopyWarning: \n",
      "A value is trying to be set on a copy of a slice from a DataFrame.\n",
      "Try using .loc[row_indexer,col_indexer] = value instead\n",
      "\n",
      "See the caveats in the documentation: https://pandas.pydata.org/pandas-docs/stable/user_guide/indexing.html#returning-a-view-versus-a-copy\n",
      "  self.obj[selected_item_labels] = value\n"
     ]
    },
    {
     "name": "stdout",
     "output_type": "stream",
     "text": [
      "fitted model: 44\n"
     ]
    },
    {
     "name": "stderr",
     "output_type": "stream",
     "text": [
      "C:\\Users\\Esra\\Anaconda3\\lib\\site-packages\\pandas\\core\\indexing.py:1951: SettingWithCopyWarning: \n",
      "A value is trying to be set on a copy of a slice from a DataFrame.\n",
      "Try using .loc[row_indexer,col_indexer] = value instead\n",
      "\n",
      "See the caveats in the documentation: https://pandas.pydata.org/pandas-docs/stable/user_guide/indexing.html#returning-a-view-versus-a-copy\n",
      "  self.obj[selected_item_labels] = value\n"
     ]
    },
    {
     "name": "stdout",
     "output_type": "stream",
     "text": [
      "fitted model: 45\n"
     ]
    },
    {
     "name": "stderr",
     "output_type": "stream",
     "text": [
      "C:\\Users\\Esra\\Anaconda3\\lib\\site-packages\\pandas\\core\\indexing.py:1951: SettingWithCopyWarning: \n",
      "A value is trying to be set on a copy of a slice from a DataFrame.\n",
      "Try using .loc[row_indexer,col_indexer] = value instead\n",
      "\n",
      "See the caveats in the documentation: https://pandas.pydata.org/pandas-docs/stable/user_guide/indexing.html#returning-a-view-versus-a-copy\n",
      "  self.obj[selected_item_labels] = value\n"
     ]
    },
    {
     "name": "stdout",
     "output_type": "stream",
     "text": [
      "fitted model: 46\n"
     ]
    },
    {
     "name": "stderr",
     "output_type": "stream",
     "text": [
      "C:\\Users\\Esra\\Anaconda3\\lib\\site-packages\\pandas\\core\\indexing.py:1951: SettingWithCopyWarning: \n",
      "A value is trying to be set on a copy of a slice from a DataFrame.\n",
      "Try using .loc[row_indexer,col_indexer] = value instead\n",
      "\n",
      "See the caveats in the documentation: https://pandas.pydata.org/pandas-docs/stable/user_guide/indexing.html#returning-a-view-versus-a-copy\n",
      "  self.obj[selected_item_labels] = value\n"
     ]
    },
    {
     "name": "stdout",
     "output_type": "stream",
     "text": [
      "fitted model: 47\n"
     ]
    },
    {
     "name": "stderr",
     "output_type": "stream",
     "text": [
      "C:\\Users\\Esra\\Anaconda3\\lib\\site-packages\\pandas\\core\\indexing.py:1951: SettingWithCopyWarning: \n",
      "A value is trying to be set on a copy of a slice from a DataFrame.\n",
      "Try using .loc[row_indexer,col_indexer] = value instead\n",
      "\n",
      "See the caveats in the documentation: https://pandas.pydata.org/pandas-docs/stable/user_guide/indexing.html#returning-a-view-versus-a-copy\n",
      "  self.obj[selected_item_labels] = value\n"
     ]
    },
    {
     "name": "stdout",
     "output_type": "stream",
     "text": [
      "fitted model: 48\n"
     ]
    },
    {
     "name": "stderr",
     "output_type": "stream",
     "text": [
      "C:\\Users\\Esra\\Anaconda3\\lib\\site-packages\\pandas\\core\\indexing.py:1951: SettingWithCopyWarning: \n",
      "A value is trying to be set on a copy of a slice from a DataFrame.\n",
      "Try using .loc[row_indexer,col_indexer] = value instead\n",
      "\n",
      "See the caveats in the documentation: https://pandas.pydata.org/pandas-docs/stable/user_guide/indexing.html#returning-a-view-versus-a-copy\n",
      "  self.obj[selected_item_labels] = value\n"
     ]
    },
    {
     "name": "stdout",
     "output_type": "stream",
     "text": [
      "fitted model: 49\n"
     ]
    },
    {
     "name": "stderr",
     "output_type": "stream",
     "text": [
      "C:\\Users\\Esra\\Anaconda3\\lib\\site-packages\\pandas\\core\\indexing.py:1951: SettingWithCopyWarning: \n",
      "A value is trying to be set on a copy of a slice from a DataFrame.\n",
      "Try using .loc[row_indexer,col_indexer] = value instead\n",
      "\n",
      "See the caveats in the documentation: https://pandas.pydata.org/pandas-docs/stable/user_guide/indexing.html#returning-a-view-versus-a-copy\n",
      "  self.obj[selected_item_labels] = value\n"
     ]
    },
    {
     "name": "stdout",
     "output_type": "stream",
     "text": [
      "fitted model: 50\n"
     ]
    },
    {
     "name": "stderr",
     "output_type": "stream",
     "text": [
      "C:\\Users\\Esra\\Anaconda3\\lib\\site-packages\\pandas\\core\\indexing.py:1951: SettingWithCopyWarning: \n",
      "A value is trying to be set on a copy of a slice from a DataFrame.\n",
      "Try using .loc[row_indexer,col_indexer] = value instead\n",
      "\n",
      "See the caveats in the documentation: https://pandas.pydata.org/pandas-docs/stable/user_guide/indexing.html#returning-a-view-versus-a-copy\n",
      "  self.obj[selected_item_labels] = value\n"
     ]
    },
    {
     "name": "stdout",
     "output_type": "stream",
     "text": [
      "fitted model: 51\n"
     ]
    },
    {
     "name": "stderr",
     "output_type": "stream",
     "text": [
      "C:\\Users\\Esra\\Anaconda3\\lib\\site-packages\\pandas\\core\\indexing.py:1951: SettingWithCopyWarning: \n",
      "A value is trying to be set on a copy of a slice from a DataFrame.\n",
      "Try using .loc[row_indexer,col_indexer] = value instead\n",
      "\n",
      "See the caveats in the documentation: https://pandas.pydata.org/pandas-docs/stable/user_guide/indexing.html#returning-a-view-versus-a-copy\n",
      "  self.obj[selected_item_labels] = value\n"
     ]
    },
    {
     "name": "stdout",
     "output_type": "stream",
     "text": [
      "fitted model: 52\n"
     ]
    },
    {
     "name": "stderr",
     "output_type": "stream",
     "text": [
      "C:\\Users\\Esra\\Anaconda3\\lib\\site-packages\\pandas\\core\\indexing.py:1951: SettingWithCopyWarning: \n",
      "A value is trying to be set on a copy of a slice from a DataFrame.\n",
      "Try using .loc[row_indexer,col_indexer] = value instead\n",
      "\n",
      "See the caveats in the documentation: https://pandas.pydata.org/pandas-docs/stable/user_guide/indexing.html#returning-a-view-versus-a-copy\n",
      "  self.obj[selected_item_labels] = value\n"
     ]
    },
    {
     "name": "stdout",
     "output_type": "stream",
     "text": [
      "fitted model: 53\n"
     ]
    },
    {
     "name": "stderr",
     "output_type": "stream",
     "text": [
      "C:\\Users\\Esra\\Anaconda3\\lib\\site-packages\\pandas\\core\\indexing.py:1951: SettingWithCopyWarning: \n",
      "A value is trying to be set on a copy of a slice from a DataFrame.\n",
      "Try using .loc[row_indexer,col_indexer] = value instead\n",
      "\n",
      "See the caveats in the documentation: https://pandas.pydata.org/pandas-docs/stable/user_guide/indexing.html#returning-a-view-versus-a-copy\n",
      "  self.obj[selected_item_labels] = value\n"
     ]
    },
    {
     "name": "stdout",
     "output_type": "stream",
     "text": [
      "fitted model: 54\n"
     ]
    },
    {
     "name": "stderr",
     "output_type": "stream",
     "text": [
      "C:\\Users\\Esra\\Anaconda3\\lib\\site-packages\\pandas\\core\\indexing.py:1951: SettingWithCopyWarning: \n",
      "A value is trying to be set on a copy of a slice from a DataFrame.\n",
      "Try using .loc[row_indexer,col_indexer] = value instead\n",
      "\n",
      "See the caveats in the documentation: https://pandas.pydata.org/pandas-docs/stable/user_guide/indexing.html#returning-a-view-versus-a-copy\n",
      "  self.obj[selected_item_labels] = value\n"
     ]
    },
    {
     "name": "stdout",
     "output_type": "stream",
     "text": [
      "fitted model: 55\n"
     ]
    },
    {
     "name": "stderr",
     "output_type": "stream",
     "text": [
      "C:\\Users\\Esra\\Anaconda3\\lib\\site-packages\\pandas\\core\\indexing.py:1951: SettingWithCopyWarning: \n",
      "A value is trying to be set on a copy of a slice from a DataFrame.\n",
      "Try using .loc[row_indexer,col_indexer] = value instead\n",
      "\n",
      "See the caveats in the documentation: https://pandas.pydata.org/pandas-docs/stable/user_guide/indexing.html#returning-a-view-versus-a-copy\n",
      "  self.obj[selected_item_labels] = value\n"
     ]
    },
    {
     "name": "stdout",
     "output_type": "stream",
     "text": [
      "fitted model: 56\n"
     ]
    },
    {
     "name": "stderr",
     "output_type": "stream",
     "text": [
      "C:\\Users\\Esra\\Anaconda3\\lib\\site-packages\\pandas\\core\\indexing.py:1951: SettingWithCopyWarning: \n",
      "A value is trying to be set on a copy of a slice from a DataFrame.\n",
      "Try using .loc[row_indexer,col_indexer] = value instead\n",
      "\n",
      "See the caveats in the documentation: https://pandas.pydata.org/pandas-docs/stable/user_guide/indexing.html#returning-a-view-versus-a-copy\n",
      "  self.obj[selected_item_labels] = value\n"
     ]
    },
    {
     "name": "stdout",
     "output_type": "stream",
     "text": [
      "fitted model: 57\n"
     ]
    },
    {
     "name": "stderr",
     "output_type": "stream",
     "text": [
      "C:\\Users\\Esra\\Anaconda3\\lib\\site-packages\\pandas\\core\\indexing.py:1951: SettingWithCopyWarning: \n",
      "A value is trying to be set on a copy of a slice from a DataFrame.\n",
      "Try using .loc[row_indexer,col_indexer] = value instead\n",
      "\n",
      "See the caveats in the documentation: https://pandas.pydata.org/pandas-docs/stable/user_guide/indexing.html#returning-a-view-versus-a-copy\n",
      "  self.obj[selected_item_labels] = value\n"
     ]
    },
    {
     "name": "stdout",
     "output_type": "stream",
     "text": [
      "fitted model: 58\n"
     ]
    },
    {
     "name": "stderr",
     "output_type": "stream",
     "text": [
      "C:\\Users\\Esra\\Anaconda3\\lib\\site-packages\\pandas\\core\\indexing.py:1951: SettingWithCopyWarning: \n",
      "A value is trying to be set on a copy of a slice from a DataFrame.\n",
      "Try using .loc[row_indexer,col_indexer] = value instead\n",
      "\n",
      "See the caveats in the documentation: https://pandas.pydata.org/pandas-docs/stable/user_guide/indexing.html#returning-a-view-versus-a-copy\n",
      "  self.obj[selected_item_labels] = value\n"
     ]
    },
    {
     "name": "stdout",
     "output_type": "stream",
     "text": [
      "fitted model: 59\n"
     ]
    },
    {
     "name": "stderr",
     "output_type": "stream",
     "text": [
      "C:\\Users\\Esra\\Anaconda3\\lib\\site-packages\\pandas\\core\\indexing.py:1951: SettingWithCopyWarning: \n",
      "A value is trying to be set on a copy of a slice from a DataFrame.\n",
      "Try using .loc[row_indexer,col_indexer] = value instead\n",
      "\n",
      "See the caveats in the documentation: https://pandas.pydata.org/pandas-docs/stable/user_guide/indexing.html#returning-a-view-versus-a-copy\n",
      "  self.obj[selected_item_labels] = value\n"
     ]
    },
    {
     "name": "stdout",
     "output_type": "stream",
     "text": [
      "fitted model: 60\n"
     ]
    },
    {
     "name": "stderr",
     "output_type": "stream",
     "text": [
      "C:\\Users\\Esra\\Anaconda3\\lib\\site-packages\\pandas\\core\\indexing.py:1951: SettingWithCopyWarning: \n",
      "A value is trying to be set on a copy of a slice from a DataFrame.\n",
      "Try using .loc[row_indexer,col_indexer] = value instead\n",
      "\n",
      "See the caveats in the documentation: https://pandas.pydata.org/pandas-docs/stable/user_guide/indexing.html#returning-a-view-versus-a-copy\n",
      "  self.obj[selected_item_labels] = value\n"
     ]
    },
    {
     "name": "stdout",
     "output_type": "stream",
     "text": [
      "fitted model: 61\n"
     ]
    },
    {
     "name": "stderr",
     "output_type": "stream",
     "text": [
      "C:\\Users\\Esra\\Anaconda3\\lib\\site-packages\\pandas\\core\\indexing.py:1951: SettingWithCopyWarning: \n",
      "A value is trying to be set on a copy of a slice from a DataFrame.\n",
      "Try using .loc[row_indexer,col_indexer] = value instead\n",
      "\n",
      "See the caveats in the documentation: https://pandas.pydata.org/pandas-docs/stable/user_guide/indexing.html#returning-a-view-versus-a-copy\n",
      "  self.obj[selected_item_labels] = value\n"
     ]
    },
    {
     "name": "stdout",
     "output_type": "stream",
     "text": [
      "fitted model: 62\n"
     ]
    },
    {
     "name": "stderr",
     "output_type": "stream",
     "text": [
      "C:\\Users\\Esra\\Anaconda3\\lib\\site-packages\\pandas\\core\\indexing.py:1951: SettingWithCopyWarning: \n",
      "A value is trying to be set on a copy of a slice from a DataFrame.\n",
      "Try using .loc[row_indexer,col_indexer] = value instead\n",
      "\n",
      "See the caveats in the documentation: https://pandas.pydata.org/pandas-docs/stable/user_guide/indexing.html#returning-a-view-versus-a-copy\n",
      "  self.obj[selected_item_labels] = value\n"
     ]
    },
    {
     "name": "stdout",
     "output_type": "stream",
     "text": [
      "fitted model: 63\n"
     ]
    },
    {
     "name": "stderr",
     "output_type": "stream",
     "text": [
      "C:\\Users\\Esra\\Anaconda3\\lib\\site-packages\\pandas\\core\\indexing.py:1951: SettingWithCopyWarning: \n",
      "A value is trying to be set on a copy of a slice from a DataFrame.\n",
      "Try using .loc[row_indexer,col_indexer] = value instead\n",
      "\n",
      "See the caveats in the documentation: https://pandas.pydata.org/pandas-docs/stable/user_guide/indexing.html#returning-a-view-versus-a-copy\n",
      "  self.obj[selected_item_labels] = value\n"
     ]
    },
    {
     "name": "stdout",
     "output_type": "stream",
     "text": [
      "fitted model: 64\n"
     ]
    },
    {
     "name": "stderr",
     "output_type": "stream",
     "text": [
      "C:\\Users\\Esra\\Anaconda3\\lib\\site-packages\\pandas\\core\\indexing.py:1951: SettingWithCopyWarning: \n",
      "A value is trying to be set on a copy of a slice from a DataFrame.\n",
      "Try using .loc[row_indexer,col_indexer] = value instead\n",
      "\n",
      "See the caveats in the documentation: https://pandas.pydata.org/pandas-docs/stable/user_guide/indexing.html#returning-a-view-versus-a-copy\n",
      "  self.obj[selected_item_labels] = value\n"
     ]
    },
    {
     "name": "stdout",
     "output_type": "stream",
     "text": [
      "fitted model: 65\n"
     ]
    },
    {
     "name": "stderr",
     "output_type": "stream",
     "text": [
      "C:\\Users\\Esra\\Anaconda3\\lib\\site-packages\\pandas\\core\\indexing.py:1951: SettingWithCopyWarning: \n",
      "A value is trying to be set on a copy of a slice from a DataFrame.\n",
      "Try using .loc[row_indexer,col_indexer] = value instead\n",
      "\n",
      "See the caveats in the documentation: https://pandas.pydata.org/pandas-docs/stable/user_guide/indexing.html#returning-a-view-versus-a-copy\n",
      "  self.obj[selected_item_labels] = value\n"
     ]
    },
    {
     "name": "stdout",
     "output_type": "stream",
     "text": [
      "fitted model: 66\n"
     ]
    },
    {
     "name": "stderr",
     "output_type": "stream",
     "text": [
      "C:\\Users\\Esra\\Anaconda3\\lib\\site-packages\\pandas\\core\\indexing.py:1951: SettingWithCopyWarning: \n",
      "A value is trying to be set on a copy of a slice from a DataFrame.\n",
      "Try using .loc[row_indexer,col_indexer] = value instead\n",
      "\n",
      "See the caveats in the documentation: https://pandas.pydata.org/pandas-docs/stable/user_guide/indexing.html#returning-a-view-versus-a-copy\n",
      "  self.obj[selected_item_labels] = value\n"
     ]
    },
    {
     "name": "stdout",
     "output_type": "stream",
     "text": [
      "fitted model: 67\n"
     ]
    },
    {
     "name": "stderr",
     "output_type": "stream",
     "text": [
      "C:\\Users\\Esra\\Anaconda3\\lib\\site-packages\\pandas\\core\\indexing.py:1951: SettingWithCopyWarning: \n",
      "A value is trying to be set on a copy of a slice from a DataFrame.\n",
      "Try using .loc[row_indexer,col_indexer] = value instead\n",
      "\n",
      "See the caveats in the documentation: https://pandas.pydata.org/pandas-docs/stable/user_guide/indexing.html#returning-a-view-versus-a-copy\n",
      "  self.obj[selected_item_labels] = value\n"
     ]
    },
    {
     "name": "stdout",
     "output_type": "stream",
     "text": [
      "fitted model: 68\n"
     ]
    },
    {
     "name": "stderr",
     "output_type": "stream",
     "text": [
      "C:\\Users\\Esra\\Anaconda3\\lib\\site-packages\\pandas\\core\\indexing.py:1951: SettingWithCopyWarning: \n",
      "A value is trying to be set on a copy of a slice from a DataFrame.\n",
      "Try using .loc[row_indexer,col_indexer] = value instead\n",
      "\n",
      "See the caveats in the documentation: https://pandas.pydata.org/pandas-docs/stable/user_guide/indexing.html#returning-a-view-versus-a-copy\n",
      "  self.obj[selected_item_labels] = value\n"
     ]
    },
    {
     "name": "stdout",
     "output_type": "stream",
     "text": [
      "fitted model: 69\n"
     ]
    },
    {
     "name": "stderr",
     "output_type": "stream",
     "text": [
      "C:\\Users\\Esra\\Anaconda3\\lib\\site-packages\\pandas\\core\\indexing.py:1951: SettingWithCopyWarning: \n",
      "A value is trying to be set on a copy of a slice from a DataFrame.\n",
      "Try using .loc[row_indexer,col_indexer] = value instead\n",
      "\n",
      "See the caveats in the documentation: https://pandas.pydata.org/pandas-docs/stable/user_guide/indexing.html#returning-a-view-versus-a-copy\n",
      "  self.obj[selected_item_labels] = value\n"
     ]
    },
    {
     "name": "stdout",
     "output_type": "stream",
     "text": [
      "fitted model: 70\n"
     ]
    },
    {
     "name": "stderr",
     "output_type": "stream",
     "text": [
      "C:\\Users\\Esra\\Anaconda3\\lib\\site-packages\\pandas\\core\\indexing.py:1951: SettingWithCopyWarning: \n",
      "A value is trying to be set on a copy of a slice from a DataFrame.\n",
      "Try using .loc[row_indexer,col_indexer] = value instead\n",
      "\n",
      "See the caveats in the documentation: https://pandas.pydata.org/pandas-docs/stable/user_guide/indexing.html#returning-a-view-versus-a-copy\n",
      "  self.obj[selected_item_labels] = value\n"
     ]
    },
    {
     "name": "stdout",
     "output_type": "stream",
     "text": [
      "fitted model: 71\n"
     ]
    },
    {
     "name": "stderr",
     "output_type": "stream",
     "text": [
      "C:\\Users\\Esra\\Anaconda3\\lib\\site-packages\\pandas\\core\\indexing.py:1951: SettingWithCopyWarning: \n",
      "A value is trying to be set on a copy of a slice from a DataFrame.\n",
      "Try using .loc[row_indexer,col_indexer] = value instead\n",
      "\n",
      "See the caveats in the documentation: https://pandas.pydata.org/pandas-docs/stable/user_guide/indexing.html#returning-a-view-versus-a-copy\n",
      "  self.obj[selected_item_labels] = value\n"
     ]
    },
    {
     "name": "stdout",
     "output_type": "stream",
     "text": [
      "fitted model: 72\n"
     ]
    },
    {
     "name": "stderr",
     "output_type": "stream",
     "text": [
      "C:\\Users\\Esra\\Anaconda3\\lib\\site-packages\\pandas\\core\\indexing.py:1951: SettingWithCopyWarning: \n",
      "A value is trying to be set on a copy of a slice from a DataFrame.\n",
      "Try using .loc[row_indexer,col_indexer] = value instead\n",
      "\n",
      "See the caveats in the documentation: https://pandas.pydata.org/pandas-docs/stable/user_guide/indexing.html#returning-a-view-versus-a-copy\n",
      "  self.obj[selected_item_labels] = value\n"
     ]
    },
    {
     "name": "stdout",
     "output_type": "stream",
     "text": [
      "fitted model: 73\n"
     ]
    },
    {
     "name": "stderr",
     "output_type": "stream",
     "text": [
      "C:\\Users\\Esra\\Anaconda3\\lib\\site-packages\\pandas\\core\\indexing.py:1951: SettingWithCopyWarning: \n",
      "A value is trying to be set on a copy of a slice from a DataFrame.\n",
      "Try using .loc[row_indexer,col_indexer] = value instead\n",
      "\n",
      "See the caveats in the documentation: https://pandas.pydata.org/pandas-docs/stable/user_guide/indexing.html#returning-a-view-versus-a-copy\n",
      "  self.obj[selected_item_labels] = value\n"
     ]
    },
    {
     "name": "stdout",
     "output_type": "stream",
     "text": [
      "fitted model: 74\n"
     ]
    },
    {
     "name": "stderr",
     "output_type": "stream",
     "text": [
      "C:\\Users\\Esra\\Anaconda3\\lib\\site-packages\\pandas\\core\\indexing.py:1951: SettingWithCopyWarning: \n",
      "A value is trying to be set on a copy of a slice from a DataFrame.\n",
      "Try using .loc[row_indexer,col_indexer] = value instead\n",
      "\n",
      "See the caveats in the documentation: https://pandas.pydata.org/pandas-docs/stable/user_guide/indexing.html#returning-a-view-versus-a-copy\n",
      "  self.obj[selected_item_labels] = value\n"
     ]
    },
    {
     "name": "stdout",
     "output_type": "stream",
     "text": [
      "fitted model: 75\n"
     ]
    },
    {
     "name": "stderr",
     "output_type": "stream",
     "text": [
      "C:\\Users\\Esra\\Anaconda3\\lib\\site-packages\\pandas\\core\\indexing.py:1951: SettingWithCopyWarning: \n",
      "A value is trying to be set on a copy of a slice from a DataFrame.\n",
      "Try using .loc[row_indexer,col_indexer] = value instead\n",
      "\n",
      "See the caveats in the documentation: https://pandas.pydata.org/pandas-docs/stable/user_guide/indexing.html#returning-a-view-versus-a-copy\n",
      "  self.obj[selected_item_labels] = value\n"
     ]
    },
    {
     "name": "stdout",
     "output_type": "stream",
     "text": [
      "fitted model: 76\n"
     ]
    },
    {
     "name": "stderr",
     "output_type": "stream",
     "text": [
      "C:\\Users\\Esra\\Anaconda3\\lib\\site-packages\\pandas\\core\\indexing.py:1951: SettingWithCopyWarning: \n",
      "A value is trying to be set on a copy of a slice from a DataFrame.\n",
      "Try using .loc[row_indexer,col_indexer] = value instead\n",
      "\n",
      "See the caveats in the documentation: https://pandas.pydata.org/pandas-docs/stable/user_guide/indexing.html#returning-a-view-versus-a-copy\n",
      "  self.obj[selected_item_labels] = value\n"
     ]
    },
    {
     "name": "stdout",
     "output_type": "stream",
     "text": [
      "fitted model: 77\n"
     ]
    },
    {
     "name": "stderr",
     "output_type": "stream",
     "text": [
      "C:\\Users\\Esra\\Anaconda3\\lib\\site-packages\\pandas\\core\\indexing.py:1951: SettingWithCopyWarning: \n",
      "A value is trying to be set on a copy of a slice from a DataFrame.\n",
      "Try using .loc[row_indexer,col_indexer] = value instead\n",
      "\n",
      "See the caveats in the documentation: https://pandas.pydata.org/pandas-docs/stable/user_guide/indexing.html#returning-a-view-versus-a-copy\n",
      "  self.obj[selected_item_labels] = value\n"
     ]
    },
    {
     "name": "stdout",
     "output_type": "stream",
     "text": [
      "fitted model: 78\n"
     ]
    },
    {
     "name": "stderr",
     "output_type": "stream",
     "text": [
      "C:\\Users\\Esra\\Anaconda3\\lib\\site-packages\\pandas\\core\\indexing.py:1951: SettingWithCopyWarning: \n",
      "A value is trying to be set on a copy of a slice from a DataFrame.\n",
      "Try using .loc[row_indexer,col_indexer] = value instead\n",
      "\n",
      "See the caveats in the documentation: https://pandas.pydata.org/pandas-docs/stable/user_guide/indexing.html#returning-a-view-versus-a-copy\n",
      "  self.obj[selected_item_labels] = value\n"
     ]
    },
    {
     "name": "stdout",
     "output_type": "stream",
     "text": [
      "fitted model: 79\n"
     ]
    },
    {
     "name": "stderr",
     "output_type": "stream",
     "text": [
      "C:\\Users\\Esra\\Anaconda3\\lib\\site-packages\\pandas\\core\\indexing.py:1951: SettingWithCopyWarning: \n",
      "A value is trying to be set on a copy of a slice from a DataFrame.\n",
      "Try using .loc[row_indexer,col_indexer] = value instead\n",
      "\n",
      "See the caveats in the documentation: https://pandas.pydata.org/pandas-docs/stable/user_guide/indexing.html#returning-a-view-versus-a-copy\n",
      "  self.obj[selected_item_labels] = value\n"
     ]
    },
    {
     "name": "stdout",
     "output_type": "stream",
     "text": [
      "fitted model: 80\n"
     ]
    },
    {
     "name": "stderr",
     "output_type": "stream",
     "text": [
      "C:\\Users\\Esra\\Anaconda3\\lib\\site-packages\\pandas\\core\\indexing.py:1951: SettingWithCopyWarning: \n",
      "A value is trying to be set on a copy of a slice from a DataFrame.\n",
      "Try using .loc[row_indexer,col_indexer] = value instead\n",
      "\n",
      "See the caveats in the documentation: https://pandas.pydata.org/pandas-docs/stable/user_guide/indexing.html#returning-a-view-versus-a-copy\n",
      "  self.obj[selected_item_labels] = value\n"
     ]
    },
    {
     "name": "stdout",
     "output_type": "stream",
     "text": [
      "fitted model: 81\n"
     ]
    },
    {
     "name": "stderr",
     "output_type": "stream",
     "text": [
      "C:\\Users\\Esra\\Anaconda3\\lib\\site-packages\\pandas\\core\\indexing.py:1951: SettingWithCopyWarning: \n",
      "A value is trying to be set on a copy of a slice from a DataFrame.\n",
      "Try using .loc[row_indexer,col_indexer] = value instead\n",
      "\n",
      "See the caveats in the documentation: https://pandas.pydata.org/pandas-docs/stable/user_guide/indexing.html#returning-a-view-versus-a-copy\n",
      "  self.obj[selected_item_labels] = value\n"
     ]
    },
    {
     "name": "stdout",
     "output_type": "stream",
     "text": [
      "fitted model: 82\n"
     ]
    },
    {
     "name": "stderr",
     "output_type": "stream",
     "text": [
      "C:\\Users\\Esra\\Anaconda3\\lib\\site-packages\\pandas\\core\\indexing.py:1951: SettingWithCopyWarning: \n",
      "A value is trying to be set on a copy of a slice from a DataFrame.\n",
      "Try using .loc[row_indexer,col_indexer] = value instead\n",
      "\n",
      "See the caveats in the documentation: https://pandas.pydata.org/pandas-docs/stable/user_guide/indexing.html#returning-a-view-versus-a-copy\n",
      "  self.obj[selected_item_labels] = value\n"
     ]
    },
    {
     "name": "stdout",
     "output_type": "stream",
     "text": [
      "fitted model: 83\n"
     ]
    },
    {
     "name": "stderr",
     "output_type": "stream",
     "text": [
      "C:\\Users\\Esra\\Anaconda3\\lib\\site-packages\\pandas\\core\\indexing.py:1951: SettingWithCopyWarning: \n",
      "A value is trying to be set on a copy of a slice from a DataFrame.\n",
      "Try using .loc[row_indexer,col_indexer] = value instead\n",
      "\n",
      "See the caveats in the documentation: https://pandas.pydata.org/pandas-docs/stable/user_guide/indexing.html#returning-a-view-versus-a-copy\n",
      "  self.obj[selected_item_labels] = value\n"
     ]
    },
    {
     "name": "stdout",
     "output_type": "stream",
     "text": [
      "fitted model: 84\n"
     ]
    },
    {
     "name": "stderr",
     "output_type": "stream",
     "text": [
      "C:\\Users\\Esra\\Anaconda3\\lib\\site-packages\\pandas\\core\\indexing.py:1951: SettingWithCopyWarning: \n",
      "A value is trying to be set on a copy of a slice from a DataFrame.\n",
      "Try using .loc[row_indexer,col_indexer] = value instead\n",
      "\n",
      "See the caveats in the documentation: https://pandas.pydata.org/pandas-docs/stable/user_guide/indexing.html#returning-a-view-versus-a-copy\n",
      "  self.obj[selected_item_labels] = value\n"
     ]
    },
    {
     "name": "stdout",
     "output_type": "stream",
     "text": [
      "fitted model: 85\n"
     ]
    },
    {
     "name": "stderr",
     "output_type": "stream",
     "text": [
      "C:\\Users\\Esra\\Anaconda3\\lib\\site-packages\\pandas\\core\\indexing.py:1951: SettingWithCopyWarning: \n",
      "A value is trying to be set on a copy of a slice from a DataFrame.\n",
      "Try using .loc[row_indexer,col_indexer] = value instead\n",
      "\n",
      "See the caveats in the documentation: https://pandas.pydata.org/pandas-docs/stable/user_guide/indexing.html#returning-a-view-versus-a-copy\n",
      "  self.obj[selected_item_labels] = value\n"
     ]
    },
    {
     "name": "stdout",
     "output_type": "stream",
     "text": [
      "fitted model: 86\n"
     ]
    },
    {
     "name": "stderr",
     "output_type": "stream",
     "text": [
      "C:\\Users\\Esra\\Anaconda3\\lib\\site-packages\\pandas\\core\\indexing.py:1951: SettingWithCopyWarning: \n",
      "A value is trying to be set on a copy of a slice from a DataFrame.\n",
      "Try using .loc[row_indexer,col_indexer] = value instead\n",
      "\n",
      "See the caveats in the documentation: https://pandas.pydata.org/pandas-docs/stable/user_guide/indexing.html#returning-a-view-versus-a-copy\n",
      "  self.obj[selected_item_labels] = value\n"
     ]
    },
    {
     "name": "stdout",
     "output_type": "stream",
     "text": [
      "fitted model: 87\n"
     ]
    },
    {
     "name": "stderr",
     "output_type": "stream",
     "text": [
      "C:\\Users\\Esra\\Anaconda3\\lib\\site-packages\\pandas\\core\\indexing.py:1951: SettingWithCopyWarning: \n",
      "A value is trying to be set on a copy of a slice from a DataFrame.\n",
      "Try using .loc[row_indexer,col_indexer] = value instead\n",
      "\n",
      "See the caveats in the documentation: https://pandas.pydata.org/pandas-docs/stable/user_guide/indexing.html#returning-a-view-versus-a-copy\n",
      "  self.obj[selected_item_labels] = value\n"
     ]
    },
    {
     "name": "stdout",
     "output_type": "stream",
     "text": [
      "fitted model: 88\n"
     ]
    },
    {
     "name": "stderr",
     "output_type": "stream",
     "text": [
      "C:\\Users\\Esra\\Anaconda3\\lib\\site-packages\\pandas\\core\\indexing.py:1951: SettingWithCopyWarning: \n",
      "A value is trying to be set on a copy of a slice from a DataFrame.\n",
      "Try using .loc[row_indexer,col_indexer] = value instead\n",
      "\n",
      "See the caveats in the documentation: https://pandas.pydata.org/pandas-docs/stable/user_guide/indexing.html#returning-a-view-versus-a-copy\n",
      "  self.obj[selected_item_labels] = value\n"
     ]
    },
    {
     "name": "stdout",
     "output_type": "stream",
     "text": [
      "fitted model: 89\n"
     ]
    },
    {
     "name": "stderr",
     "output_type": "stream",
     "text": [
      "C:\\Users\\Esra\\Anaconda3\\lib\\site-packages\\pandas\\core\\indexing.py:1951: SettingWithCopyWarning: \n",
      "A value is trying to be set on a copy of a slice from a DataFrame.\n",
      "Try using .loc[row_indexer,col_indexer] = value instead\n",
      "\n",
      "See the caveats in the documentation: https://pandas.pydata.org/pandas-docs/stable/user_guide/indexing.html#returning-a-view-versus-a-copy\n",
      "  self.obj[selected_item_labels] = value\n"
     ]
    },
    {
     "name": "stdout",
     "output_type": "stream",
     "text": [
      "fitted model: 90\n"
     ]
    },
    {
     "name": "stderr",
     "output_type": "stream",
     "text": [
      "C:\\Users\\Esra\\Anaconda3\\lib\\site-packages\\pandas\\core\\indexing.py:1951: SettingWithCopyWarning: \n",
      "A value is trying to be set on a copy of a slice from a DataFrame.\n",
      "Try using .loc[row_indexer,col_indexer] = value instead\n",
      "\n",
      "See the caveats in the documentation: https://pandas.pydata.org/pandas-docs/stable/user_guide/indexing.html#returning-a-view-versus-a-copy\n",
      "  self.obj[selected_item_labels] = value\n"
     ]
    },
    {
     "name": "stdout",
     "output_type": "stream",
     "text": [
      "fitted model: 91\n"
     ]
    },
    {
     "name": "stderr",
     "output_type": "stream",
     "text": [
      "C:\\Users\\Esra\\Anaconda3\\lib\\site-packages\\pandas\\core\\indexing.py:1951: SettingWithCopyWarning: \n",
      "A value is trying to be set on a copy of a slice from a DataFrame.\n",
      "Try using .loc[row_indexer,col_indexer] = value instead\n",
      "\n",
      "See the caveats in the documentation: https://pandas.pydata.org/pandas-docs/stable/user_guide/indexing.html#returning-a-view-versus-a-copy\n",
      "  self.obj[selected_item_labels] = value\n"
     ]
    },
    {
     "name": "stdout",
     "output_type": "stream",
     "text": [
      "fitted model: 92\n"
     ]
    },
    {
     "name": "stderr",
     "output_type": "stream",
     "text": [
      "C:\\Users\\Esra\\Anaconda3\\lib\\site-packages\\pandas\\core\\indexing.py:1951: SettingWithCopyWarning: \n",
      "A value is trying to be set on a copy of a slice from a DataFrame.\n",
      "Try using .loc[row_indexer,col_indexer] = value instead\n",
      "\n",
      "See the caveats in the documentation: https://pandas.pydata.org/pandas-docs/stable/user_guide/indexing.html#returning-a-view-versus-a-copy\n",
      "  self.obj[selected_item_labels] = value\n"
     ]
    },
    {
     "name": "stdout",
     "output_type": "stream",
     "text": [
      "fitted model: 93\n"
     ]
    },
    {
     "name": "stderr",
     "output_type": "stream",
     "text": [
      "C:\\Users\\Esra\\Anaconda3\\lib\\site-packages\\pandas\\core\\indexing.py:1951: SettingWithCopyWarning: \n",
      "A value is trying to be set on a copy of a slice from a DataFrame.\n",
      "Try using .loc[row_indexer,col_indexer] = value instead\n",
      "\n",
      "See the caveats in the documentation: https://pandas.pydata.org/pandas-docs/stable/user_guide/indexing.html#returning-a-view-versus-a-copy\n",
      "  self.obj[selected_item_labels] = value\n"
     ]
    },
    {
     "name": "stdout",
     "output_type": "stream",
     "text": [
      "fitted model: 94\n"
     ]
    },
    {
     "name": "stderr",
     "output_type": "stream",
     "text": [
      "C:\\Users\\Esra\\Anaconda3\\lib\\site-packages\\pandas\\core\\indexing.py:1951: SettingWithCopyWarning: \n",
      "A value is trying to be set on a copy of a slice from a DataFrame.\n",
      "Try using .loc[row_indexer,col_indexer] = value instead\n",
      "\n",
      "See the caveats in the documentation: https://pandas.pydata.org/pandas-docs/stable/user_guide/indexing.html#returning-a-view-versus-a-copy\n",
      "  self.obj[selected_item_labels] = value\n"
     ]
    },
    {
     "name": "stdout",
     "output_type": "stream",
     "text": [
      "fitted model: 95\n"
     ]
    },
    {
     "name": "stderr",
     "output_type": "stream",
     "text": [
      "C:\\Users\\Esra\\Anaconda3\\lib\\site-packages\\pandas\\core\\indexing.py:1951: SettingWithCopyWarning: \n",
      "A value is trying to be set on a copy of a slice from a DataFrame.\n",
      "Try using .loc[row_indexer,col_indexer] = value instead\n",
      "\n",
      "See the caveats in the documentation: https://pandas.pydata.org/pandas-docs/stable/user_guide/indexing.html#returning-a-view-versus-a-copy\n",
      "  self.obj[selected_item_labels] = value\n"
     ]
    },
    {
     "name": "stdout",
     "output_type": "stream",
     "text": [
      "fitted model: 96\n"
     ]
    },
    {
     "name": "stderr",
     "output_type": "stream",
     "text": [
      "C:\\Users\\Esra\\Anaconda3\\lib\\site-packages\\pandas\\core\\indexing.py:1951: SettingWithCopyWarning: \n",
      "A value is trying to be set on a copy of a slice from a DataFrame.\n",
      "Try using .loc[row_indexer,col_indexer] = value instead\n",
      "\n",
      "See the caveats in the documentation: https://pandas.pydata.org/pandas-docs/stable/user_guide/indexing.html#returning-a-view-versus-a-copy\n",
      "  self.obj[selected_item_labels] = value\n"
     ]
    },
    {
     "name": "stdout",
     "output_type": "stream",
     "text": [
      "fitted model: 97\n"
     ]
    },
    {
     "name": "stderr",
     "output_type": "stream",
     "text": [
      "C:\\Users\\Esra\\Anaconda3\\lib\\site-packages\\pandas\\core\\indexing.py:1951: SettingWithCopyWarning: \n",
      "A value is trying to be set on a copy of a slice from a DataFrame.\n",
      "Try using .loc[row_indexer,col_indexer] = value instead\n",
      "\n",
      "See the caveats in the documentation: https://pandas.pydata.org/pandas-docs/stable/user_guide/indexing.html#returning-a-view-versus-a-copy\n",
      "  self.obj[selected_item_labels] = value\n"
     ]
    },
    {
     "name": "stdout",
     "output_type": "stream",
     "text": [
      "fitted model: 98\n"
     ]
    },
    {
     "name": "stderr",
     "output_type": "stream",
     "text": [
      "C:\\Users\\Esra\\Anaconda3\\lib\\site-packages\\pandas\\core\\indexing.py:1951: SettingWithCopyWarning: \n",
      "A value is trying to be set on a copy of a slice from a DataFrame.\n",
      "Try using .loc[row_indexer,col_indexer] = value instead\n",
      "\n",
      "See the caveats in the documentation: https://pandas.pydata.org/pandas-docs/stable/user_guide/indexing.html#returning-a-view-versus-a-copy\n",
      "  self.obj[selected_item_labels] = value\n"
     ]
    },
    {
     "name": "stdout",
     "output_type": "stream",
     "text": [
      "fitted model: 99\n"
     ]
    },
    {
     "name": "stderr",
     "output_type": "stream",
     "text": [
      "C:\\Users\\Esra\\Anaconda3\\lib\\site-packages\\pandas\\core\\indexing.py:1951: SettingWithCopyWarning: \n",
      "A value is trying to be set on a copy of a slice from a DataFrame.\n",
      "Try using .loc[row_indexer,col_indexer] = value instead\n",
      "\n",
      "See the caveats in the documentation: https://pandas.pydata.org/pandas-docs/stable/user_guide/indexing.html#returning-a-view-versus-a-copy\n",
      "  self.obj[selected_item_labels] = value\n"
     ]
    },
    {
     "name": "stdout",
     "output_type": "stream",
     "text": [
      "fitted model: 100\n"
     ]
    },
    {
     "name": "stderr",
     "output_type": "stream",
     "text": [
      "C:\\Users\\Esra\\Anaconda3\\lib\\site-packages\\pandas\\core\\indexing.py:1951: SettingWithCopyWarning: \n",
      "A value is trying to be set on a copy of a slice from a DataFrame.\n",
      "Try using .loc[row_indexer,col_indexer] = value instead\n",
      "\n",
      "See the caveats in the documentation: https://pandas.pydata.org/pandas-docs/stable/user_guide/indexing.html#returning-a-view-versus-a-copy\n",
      "  self.obj[selected_item_labels] = value\n"
     ]
    },
    {
     "name": "stdout",
     "output_type": "stream",
     "text": [
      "fitted model: 101\n"
     ]
    },
    {
     "name": "stderr",
     "output_type": "stream",
     "text": [
      "C:\\Users\\Esra\\Anaconda3\\lib\\site-packages\\pandas\\core\\indexing.py:1951: SettingWithCopyWarning: \n",
      "A value is trying to be set on a copy of a slice from a DataFrame.\n",
      "Try using .loc[row_indexer,col_indexer] = value instead\n",
      "\n",
      "See the caveats in the documentation: https://pandas.pydata.org/pandas-docs/stable/user_guide/indexing.html#returning-a-view-versus-a-copy\n",
      "  self.obj[selected_item_labels] = value\n"
     ]
    },
    {
     "name": "stdout",
     "output_type": "stream",
     "text": [
      "fitted model: 102\n"
     ]
    },
    {
     "name": "stderr",
     "output_type": "stream",
     "text": [
      "C:\\Users\\Esra\\Anaconda3\\lib\\site-packages\\pandas\\core\\indexing.py:1951: SettingWithCopyWarning: \n",
      "A value is trying to be set on a copy of a slice from a DataFrame.\n",
      "Try using .loc[row_indexer,col_indexer] = value instead\n",
      "\n",
      "See the caveats in the documentation: https://pandas.pydata.org/pandas-docs/stable/user_guide/indexing.html#returning-a-view-versus-a-copy\n",
      "  self.obj[selected_item_labels] = value\n"
     ]
    },
    {
     "name": "stdout",
     "output_type": "stream",
     "text": [
      "fitted model: 103\n"
     ]
    },
    {
     "name": "stderr",
     "output_type": "stream",
     "text": [
      "C:\\Users\\Esra\\Anaconda3\\lib\\site-packages\\pandas\\core\\indexing.py:1951: SettingWithCopyWarning: \n",
      "A value is trying to be set on a copy of a slice from a DataFrame.\n",
      "Try using .loc[row_indexer,col_indexer] = value instead\n",
      "\n",
      "See the caveats in the documentation: https://pandas.pydata.org/pandas-docs/stable/user_guide/indexing.html#returning-a-view-versus-a-copy\n",
      "  self.obj[selected_item_labels] = value\n"
     ]
    },
    {
     "name": "stdout",
     "output_type": "stream",
     "text": [
      "fitted model: 104\n"
     ]
    },
    {
     "name": "stderr",
     "output_type": "stream",
     "text": [
      "C:\\Users\\Esra\\Anaconda3\\lib\\site-packages\\pandas\\core\\indexing.py:1951: SettingWithCopyWarning: \n",
      "A value is trying to be set on a copy of a slice from a DataFrame.\n",
      "Try using .loc[row_indexer,col_indexer] = value instead\n",
      "\n",
      "See the caveats in the documentation: https://pandas.pydata.org/pandas-docs/stable/user_guide/indexing.html#returning-a-view-versus-a-copy\n",
      "  self.obj[selected_item_labels] = value\n"
     ]
    },
    {
     "name": "stdout",
     "output_type": "stream",
     "text": [
      "fitted model: 105\n"
     ]
    },
    {
     "name": "stderr",
     "output_type": "stream",
     "text": [
      "C:\\Users\\Esra\\Anaconda3\\lib\\site-packages\\pandas\\core\\indexing.py:1951: SettingWithCopyWarning: \n",
      "A value is trying to be set on a copy of a slice from a DataFrame.\n",
      "Try using .loc[row_indexer,col_indexer] = value instead\n",
      "\n",
      "See the caveats in the documentation: https://pandas.pydata.org/pandas-docs/stable/user_guide/indexing.html#returning-a-view-versus-a-copy\n",
      "  self.obj[selected_item_labels] = value\n"
     ]
    },
    {
     "name": "stdout",
     "output_type": "stream",
     "text": [
      "fitted model: 106\n"
     ]
    },
    {
     "name": "stderr",
     "output_type": "stream",
     "text": [
      "C:\\Users\\Esra\\Anaconda3\\lib\\site-packages\\pandas\\core\\indexing.py:1951: SettingWithCopyWarning: \n",
      "A value is trying to be set on a copy of a slice from a DataFrame.\n",
      "Try using .loc[row_indexer,col_indexer] = value instead\n",
      "\n",
      "See the caveats in the documentation: https://pandas.pydata.org/pandas-docs/stable/user_guide/indexing.html#returning-a-view-versus-a-copy\n",
      "  self.obj[selected_item_labels] = value\n"
     ]
    },
    {
     "name": "stdout",
     "output_type": "stream",
     "text": [
      "fitted model: 107\n"
     ]
    },
    {
     "name": "stderr",
     "output_type": "stream",
     "text": [
      "C:\\Users\\Esra\\Anaconda3\\lib\\site-packages\\pandas\\core\\indexing.py:1951: SettingWithCopyWarning: \n",
      "A value is trying to be set on a copy of a slice from a DataFrame.\n",
      "Try using .loc[row_indexer,col_indexer] = value instead\n",
      "\n",
      "See the caveats in the documentation: https://pandas.pydata.org/pandas-docs/stable/user_guide/indexing.html#returning-a-view-versus-a-copy\n",
      "  self.obj[selected_item_labels] = value\n"
     ]
    },
    {
     "name": "stdout",
     "output_type": "stream",
     "text": [
      "fitted model: 108\n"
     ]
    },
    {
     "name": "stderr",
     "output_type": "stream",
     "text": [
      "C:\\Users\\Esra\\Anaconda3\\lib\\site-packages\\pandas\\core\\indexing.py:1951: SettingWithCopyWarning: \n",
      "A value is trying to be set on a copy of a slice from a DataFrame.\n",
      "Try using .loc[row_indexer,col_indexer] = value instead\n",
      "\n",
      "See the caveats in the documentation: https://pandas.pydata.org/pandas-docs/stable/user_guide/indexing.html#returning-a-view-versus-a-copy\n",
      "  self.obj[selected_item_labels] = value\n"
     ]
    },
    {
     "name": "stdout",
     "output_type": "stream",
     "text": [
      "fitted model: 109\n"
     ]
    },
    {
     "name": "stderr",
     "output_type": "stream",
     "text": [
      "C:\\Users\\Esra\\Anaconda3\\lib\\site-packages\\pandas\\core\\indexing.py:1951: SettingWithCopyWarning: \n",
      "A value is trying to be set on a copy of a slice from a DataFrame.\n",
      "Try using .loc[row_indexer,col_indexer] = value instead\n",
      "\n",
      "See the caveats in the documentation: https://pandas.pydata.org/pandas-docs/stable/user_guide/indexing.html#returning-a-view-versus-a-copy\n",
      "  self.obj[selected_item_labels] = value\n"
     ]
    },
    {
     "name": "stdout",
     "output_type": "stream",
     "text": [
      "fitted model: 110\n"
     ]
    },
    {
     "name": "stderr",
     "output_type": "stream",
     "text": [
      "C:\\Users\\Esra\\Anaconda3\\lib\\site-packages\\pandas\\core\\indexing.py:1951: SettingWithCopyWarning: \n",
      "A value is trying to be set on a copy of a slice from a DataFrame.\n",
      "Try using .loc[row_indexer,col_indexer] = value instead\n",
      "\n",
      "See the caveats in the documentation: https://pandas.pydata.org/pandas-docs/stable/user_guide/indexing.html#returning-a-view-versus-a-copy\n",
      "  self.obj[selected_item_labels] = value\n"
     ]
    },
    {
     "name": "stdout",
     "output_type": "stream",
     "text": [
      "fitted model: 111\n"
     ]
    },
    {
     "name": "stderr",
     "output_type": "stream",
     "text": [
      "C:\\Users\\Esra\\Anaconda3\\lib\\site-packages\\pandas\\core\\indexing.py:1951: SettingWithCopyWarning: \n",
      "A value is trying to be set on a copy of a slice from a DataFrame.\n",
      "Try using .loc[row_indexer,col_indexer] = value instead\n",
      "\n",
      "See the caveats in the documentation: https://pandas.pydata.org/pandas-docs/stable/user_guide/indexing.html#returning-a-view-versus-a-copy\n",
      "  self.obj[selected_item_labels] = value\n"
     ]
    },
    {
     "name": "stdout",
     "output_type": "stream",
     "text": [
      "fitted model: 112\n"
     ]
    },
    {
     "name": "stderr",
     "output_type": "stream",
     "text": [
      "C:\\Users\\Esra\\Anaconda3\\lib\\site-packages\\pandas\\core\\indexing.py:1951: SettingWithCopyWarning: \n",
      "A value is trying to be set on a copy of a slice from a DataFrame.\n",
      "Try using .loc[row_indexer,col_indexer] = value instead\n",
      "\n",
      "See the caveats in the documentation: https://pandas.pydata.org/pandas-docs/stable/user_guide/indexing.html#returning-a-view-versus-a-copy\n",
      "  self.obj[selected_item_labels] = value\n"
     ]
    },
    {
     "name": "stdout",
     "output_type": "stream",
     "text": [
      "fitted model: 113\n"
     ]
    },
    {
     "name": "stderr",
     "output_type": "stream",
     "text": [
      "C:\\Users\\Esra\\Anaconda3\\lib\\site-packages\\pandas\\core\\indexing.py:1951: SettingWithCopyWarning: \n",
      "A value is trying to be set on a copy of a slice from a DataFrame.\n",
      "Try using .loc[row_indexer,col_indexer] = value instead\n",
      "\n",
      "See the caveats in the documentation: https://pandas.pydata.org/pandas-docs/stable/user_guide/indexing.html#returning-a-view-versus-a-copy\n",
      "  self.obj[selected_item_labels] = value\n"
     ]
    },
    {
     "name": "stdout",
     "output_type": "stream",
     "text": [
      "fitted model: 114\n"
     ]
    },
    {
     "name": "stderr",
     "output_type": "stream",
     "text": [
      "C:\\Users\\Esra\\Anaconda3\\lib\\site-packages\\pandas\\core\\indexing.py:1951: SettingWithCopyWarning: \n",
      "A value is trying to be set on a copy of a slice from a DataFrame.\n",
      "Try using .loc[row_indexer,col_indexer] = value instead\n",
      "\n",
      "See the caveats in the documentation: https://pandas.pydata.org/pandas-docs/stable/user_guide/indexing.html#returning-a-view-versus-a-copy\n",
      "  self.obj[selected_item_labels] = value\n"
     ]
    },
    {
     "name": "stdout",
     "output_type": "stream",
     "text": [
      "fitted model: 115\n"
     ]
    },
    {
     "name": "stderr",
     "output_type": "stream",
     "text": [
      "C:\\Users\\Esra\\Anaconda3\\lib\\site-packages\\pandas\\core\\indexing.py:1951: SettingWithCopyWarning: \n",
      "A value is trying to be set on a copy of a slice from a DataFrame.\n",
      "Try using .loc[row_indexer,col_indexer] = value instead\n",
      "\n",
      "See the caveats in the documentation: https://pandas.pydata.org/pandas-docs/stable/user_guide/indexing.html#returning-a-view-versus-a-copy\n",
      "  self.obj[selected_item_labels] = value\n"
     ]
    },
    {
     "name": "stdout",
     "output_type": "stream",
     "text": [
      "fitted model: 116\n"
     ]
    },
    {
     "name": "stderr",
     "output_type": "stream",
     "text": [
      "C:\\Users\\Esra\\Anaconda3\\lib\\site-packages\\pandas\\core\\indexing.py:1951: SettingWithCopyWarning: \n",
      "A value is trying to be set on a copy of a slice from a DataFrame.\n",
      "Try using .loc[row_indexer,col_indexer] = value instead\n",
      "\n",
      "See the caveats in the documentation: https://pandas.pydata.org/pandas-docs/stable/user_guide/indexing.html#returning-a-view-versus-a-copy\n",
      "  self.obj[selected_item_labels] = value\n"
     ]
    },
    {
     "name": "stdout",
     "output_type": "stream",
     "text": [
      "fitted model: 117\n"
     ]
    },
    {
     "name": "stderr",
     "output_type": "stream",
     "text": [
      "C:\\Users\\Esra\\Anaconda3\\lib\\site-packages\\pandas\\core\\indexing.py:1951: SettingWithCopyWarning: \n",
      "A value is trying to be set on a copy of a slice from a DataFrame.\n",
      "Try using .loc[row_indexer,col_indexer] = value instead\n",
      "\n",
      "See the caveats in the documentation: https://pandas.pydata.org/pandas-docs/stable/user_guide/indexing.html#returning-a-view-versus-a-copy\n",
      "  self.obj[selected_item_labels] = value\n"
     ]
    },
    {
     "name": "stdout",
     "output_type": "stream",
     "text": [
      "fitted model: 118\n"
     ]
    },
    {
     "name": "stderr",
     "output_type": "stream",
     "text": [
      "C:\\Users\\Esra\\Anaconda3\\lib\\site-packages\\pandas\\core\\indexing.py:1951: SettingWithCopyWarning: \n",
      "A value is trying to be set on a copy of a slice from a DataFrame.\n",
      "Try using .loc[row_indexer,col_indexer] = value instead\n",
      "\n",
      "See the caveats in the documentation: https://pandas.pydata.org/pandas-docs/stable/user_guide/indexing.html#returning-a-view-versus-a-copy\n",
      "  self.obj[selected_item_labels] = value\n"
     ]
    },
    {
     "name": "stdout",
     "output_type": "stream",
     "text": [
      "fitted model: 119\n"
     ]
    },
    {
     "name": "stderr",
     "output_type": "stream",
     "text": [
      "C:\\Users\\Esra\\Anaconda3\\lib\\site-packages\\pandas\\core\\indexing.py:1951: SettingWithCopyWarning: \n",
      "A value is trying to be set on a copy of a slice from a DataFrame.\n",
      "Try using .loc[row_indexer,col_indexer] = value instead\n",
      "\n",
      "See the caveats in the documentation: https://pandas.pydata.org/pandas-docs/stable/user_guide/indexing.html#returning-a-view-versus-a-copy\n",
      "  self.obj[selected_item_labels] = value\n"
     ]
    },
    {
     "name": "stdout",
     "output_type": "stream",
     "text": [
      "fitted model: 120\n"
     ]
    },
    {
     "name": "stderr",
     "output_type": "stream",
     "text": [
      "C:\\Users\\Esra\\Anaconda3\\lib\\site-packages\\pandas\\core\\indexing.py:1951: SettingWithCopyWarning: \n",
      "A value is trying to be set on a copy of a slice from a DataFrame.\n",
      "Try using .loc[row_indexer,col_indexer] = value instead\n",
      "\n",
      "See the caveats in the documentation: https://pandas.pydata.org/pandas-docs/stable/user_guide/indexing.html#returning-a-view-versus-a-copy\n",
      "  self.obj[selected_item_labels] = value\n"
     ]
    },
    {
     "name": "stdout",
     "output_type": "stream",
     "text": [
      "fitted model: 121\n"
     ]
    },
    {
     "name": "stderr",
     "output_type": "stream",
     "text": [
      "C:\\Users\\Esra\\Anaconda3\\lib\\site-packages\\pandas\\core\\indexing.py:1951: SettingWithCopyWarning: \n",
      "A value is trying to be set on a copy of a slice from a DataFrame.\n",
      "Try using .loc[row_indexer,col_indexer] = value instead\n",
      "\n",
      "See the caveats in the documentation: https://pandas.pydata.org/pandas-docs/stable/user_guide/indexing.html#returning-a-view-versus-a-copy\n",
      "  self.obj[selected_item_labels] = value\n"
     ]
    },
    {
     "name": "stdout",
     "output_type": "stream",
     "text": [
      "fitted model: 122\n"
     ]
    },
    {
     "name": "stderr",
     "output_type": "stream",
     "text": [
      "C:\\Users\\Esra\\Anaconda3\\lib\\site-packages\\pandas\\core\\indexing.py:1951: SettingWithCopyWarning: \n",
      "A value is trying to be set on a copy of a slice from a DataFrame.\n",
      "Try using .loc[row_indexer,col_indexer] = value instead\n",
      "\n",
      "See the caveats in the documentation: https://pandas.pydata.org/pandas-docs/stable/user_guide/indexing.html#returning-a-view-versus-a-copy\n",
      "  self.obj[selected_item_labels] = value\n"
     ]
    },
    {
     "name": "stdout",
     "output_type": "stream",
     "text": [
      "fitted model: 123\n"
     ]
    },
    {
     "name": "stderr",
     "output_type": "stream",
     "text": [
      "C:\\Users\\Esra\\Anaconda3\\lib\\site-packages\\pandas\\core\\indexing.py:1951: SettingWithCopyWarning: \n",
      "A value is trying to be set on a copy of a slice from a DataFrame.\n",
      "Try using .loc[row_indexer,col_indexer] = value instead\n",
      "\n",
      "See the caveats in the documentation: https://pandas.pydata.org/pandas-docs/stable/user_guide/indexing.html#returning-a-view-versus-a-copy\n",
      "  self.obj[selected_item_labels] = value\n"
     ]
    },
    {
     "name": "stdout",
     "output_type": "stream",
     "text": [
      "fitted model: 124\n"
     ]
    },
    {
     "name": "stderr",
     "output_type": "stream",
     "text": [
      "C:\\Users\\Esra\\Anaconda3\\lib\\site-packages\\pandas\\core\\indexing.py:1951: SettingWithCopyWarning: \n",
      "A value is trying to be set on a copy of a slice from a DataFrame.\n",
      "Try using .loc[row_indexer,col_indexer] = value instead\n",
      "\n",
      "See the caveats in the documentation: https://pandas.pydata.org/pandas-docs/stable/user_guide/indexing.html#returning-a-view-versus-a-copy\n",
      "  self.obj[selected_item_labels] = value\n"
     ]
    },
    {
     "name": "stdout",
     "output_type": "stream",
     "text": [
      "fitted model: 125\n"
     ]
    },
    {
     "name": "stderr",
     "output_type": "stream",
     "text": [
      "C:\\Users\\Esra\\Anaconda3\\lib\\site-packages\\pandas\\core\\indexing.py:1951: SettingWithCopyWarning: \n",
      "A value is trying to be set on a copy of a slice from a DataFrame.\n",
      "Try using .loc[row_indexer,col_indexer] = value instead\n",
      "\n",
      "See the caveats in the documentation: https://pandas.pydata.org/pandas-docs/stable/user_guide/indexing.html#returning-a-view-versus-a-copy\n",
      "  self.obj[selected_item_labels] = value\n"
     ]
    },
    {
     "name": "stdout",
     "output_type": "stream",
     "text": [
      "fitted model: 126\n"
     ]
    },
    {
     "name": "stderr",
     "output_type": "stream",
     "text": [
      "C:\\Users\\Esra\\Anaconda3\\lib\\site-packages\\pandas\\core\\indexing.py:1951: SettingWithCopyWarning: \n",
      "A value is trying to be set on a copy of a slice from a DataFrame.\n",
      "Try using .loc[row_indexer,col_indexer] = value instead\n",
      "\n",
      "See the caveats in the documentation: https://pandas.pydata.org/pandas-docs/stable/user_guide/indexing.html#returning-a-view-versus-a-copy\n",
      "  self.obj[selected_item_labels] = value\n"
     ]
    },
    {
     "name": "stdout",
     "output_type": "stream",
     "text": [
      "fitted model: 127\n"
     ]
    },
    {
     "name": "stderr",
     "output_type": "stream",
     "text": [
      "C:\\Users\\Esra\\Anaconda3\\lib\\site-packages\\pandas\\core\\indexing.py:1951: SettingWithCopyWarning: \n",
      "A value is trying to be set on a copy of a slice from a DataFrame.\n",
      "Try using .loc[row_indexer,col_indexer] = value instead\n",
      "\n",
      "See the caveats in the documentation: https://pandas.pydata.org/pandas-docs/stable/user_guide/indexing.html#returning-a-view-versus-a-copy\n",
      "  self.obj[selected_item_labels] = value\n"
     ]
    },
    {
     "name": "stdout",
     "output_type": "stream",
     "text": [
      "fitted model: 128\n"
     ]
    },
    {
     "name": "stderr",
     "output_type": "stream",
     "text": [
      "C:\\Users\\Esra\\Anaconda3\\lib\\site-packages\\pandas\\core\\indexing.py:1951: SettingWithCopyWarning: \n",
      "A value is trying to be set on a copy of a slice from a DataFrame.\n",
      "Try using .loc[row_indexer,col_indexer] = value instead\n",
      "\n",
      "See the caveats in the documentation: https://pandas.pydata.org/pandas-docs/stable/user_guide/indexing.html#returning-a-view-versus-a-copy\n",
      "  self.obj[selected_item_labels] = value\n"
     ]
    },
    {
     "name": "stdout",
     "output_type": "stream",
     "text": [
      "fitted model: 129\n"
     ]
    },
    {
     "name": "stderr",
     "output_type": "stream",
     "text": [
      "C:\\Users\\Esra\\Anaconda3\\lib\\site-packages\\pandas\\core\\indexing.py:1951: SettingWithCopyWarning: \n",
      "A value is trying to be set on a copy of a slice from a DataFrame.\n",
      "Try using .loc[row_indexer,col_indexer] = value instead\n",
      "\n",
      "See the caveats in the documentation: https://pandas.pydata.org/pandas-docs/stable/user_guide/indexing.html#returning-a-view-versus-a-copy\n",
      "  self.obj[selected_item_labels] = value\n"
     ]
    },
    {
     "name": "stdout",
     "output_type": "stream",
     "text": [
      "fitted model: 130\n"
     ]
    },
    {
     "name": "stderr",
     "output_type": "stream",
     "text": [
      "C:\\Users\\Esra\\Anaconda3\\lib\\site-packages\\pandas\\core\\indexing.py:1951: SettingWithCopyWarning: \n",
      "A value is trying to be set on a copy of a slice from a DataFrame.\n",
      "Try using .loc[row_indexer,col_indexer] = value instead\n",
      "\n",
      "See the caveats in the documentation: https://pandas.pydata.org/pandas-docs/stable/user_guide/indexing.html#returning-a-view-versus-a-copy\n",
      "  self.obj[selected_item_labels] = value\n"
     ]
    },
    {
     "name": "stdout",
     "output_type": "stream",
     "text": [
      "fitted model: 131\n"
     ]
    },
    {
     "name": "stderr",
     "output_type": "stream",
     "text": [
      "C:\\Users\\Esra\\Anaconda3\\lib\\site-packages\\pandas\\core\\indexing.py:1951: SettingWithCopyWarning: \n",
      "A value is trying to be set on a copy of a slice from a DataFrame.\n",
      "Try using .loc[row_indexer,col_indexer] = value instead\n",
      "\n",
      "See the caveats in the documentation: https://pandas.pydata.org/pandas-docs/stable/user_guide/indexing.html#returning-a-view-versus-a-copy\n",
      "  self.obj[selected_item_labels] = value\n"
     ]
    },
    {
     "name": "stdout",
     "output_type": "stream",
     "text": [
      "fitted model: 132\n"
     ]
    },
    {
     "name": "stderr",
     "output_type": "stream",
     "text": [
      "C:\\Users\\Esra\\Anaconda3\\lib\\site-packages\\pandas\\core\\indexing.py:1951: SettingWithCopyWarning: \n",
      "A value is trying to be set on a copy of a slice from a DataFrame.\n",
      "Try using .loc[row_indexer,col_indexer] = value instead\n",
      "\n",
      "See the caveats in the documentation: https://pandas.pydata.org/pandas-docs/stable/user_guide/indexing.html#returning-a-view-versus-a-copy\n",
      "  self.obj[selected_item_labels] = value\n"
     ]
    },
    {
     "name": "stdout",
     "output_type": "stream",
     "text": [
      "fitted model: 133\n"
     ]
    },
    {
     "name": "stderr",
     "output_type": "stream",
     "text": [
      "C:\\Users\\Esra\\Anaconda3\\lib\\site-packages\\pandas\\core\\indexing.py:1951: SettingWithCopyWarning: \n",
      "A value is trying to be set on a copy of a slice from a DataFrame.\n",
      "Try using .loc[row_indexer,col_indexer] = value instead\n",
      "\n",
      "See the caveats in the documentation: https://pandas.pydata.org/pandas-docs/stable/user_guide/indexing.html#returning-a-view-versus-a-copy\n",
      "  self.obj[selected_item_labels] = value\n"
     ]
    },
    {
     "name": "stdout",
     "output_type": "stream",
     "text": [
      "fitted model: 134\n"
     ]
    },
    {
     "name": "stderr",
     "output_type": "stream",
     "text": [
      "C:\\Users\\Esra\\Anaconda3\\lib\\site-packages\\pandas\\core\\indexing.py:1951: SettingWithCopyWarning: \n",
      "A value is trying to be set on a copy of a slice from a DataFrame.\n",
      "Try using .loc[row_indexer,col_indexer] = value instead\n",
      "\n",
      "See the caveats in the documentation: https://pandas.pydata.org/pandas-docs/stable/user_guide/indexing.html#returning-a-view-versus-a-copy\n",
      "  self.obj[selected_item_labels] = value\n"
     ]
    },
    {
     "name": "stdout",
     "output_type": "stream",
     "text": [
      "fitted model: 135\n"
     ]
    },
    {
     "name": "stderr",
     "output_type": "stream",
     "text": [
      "C:\\Users\\Esra\\Anaconda3\\lib\\site-packages\\pandas\\core\\indexing.py:1951: SettingWithCopyWarning: \n",
      "A value is trying to be set on a copy of a slice from a DataFrame.\n",
      "Try using .loc[row_indexer,col_indexer] = value instead\n",
      "\n",
      "See the caveats in the documentation: https://pandas.pydata.org/pandas-docs/stable/user_guide/indexing.html#returning-a-view-versus-a-copy\n",
      "  self.obj[selected_item_labels] = value\n"
     ]
    },
    {
     "name": "stdout",
     "output_type": "stream",
     "text": [
      "fitted model: 136\n"
     ]
    },
    {
     "name": "stderr",
     "output_type": "stream",
     "text": [
      "C:\\Users\\Esra\\Anaconda3\\lib\\site-packages\\pandas\\core\\indexing.py:1951: SettingWithCopyWarning: \n",
      "A value is trying to be set on a copy of a slice from a DataFrame.\n",
      "Try using .loc[row_indexer,col_indexer] = value instead\n",
      "\n",
      "See the caveats in the documentation: https://pandas.pydata.org/pandas-docs/stable/user_guide/indexing.html#returning-a-view-versus-a-copy\n",
      "  self.obj[selected_item_labels] = value\n"
     ]
    },
    {
     "name": "stdout",
     "output_type": "stream",
     "text": [
      "fitted model: 137\n"
     ]
    },
    {
     "name": "stderr",
     "output_type": "stream",
     "text": [
      "C:\\Users\\Esra\\Anaconda3\\lib\\site-packages\\pandas\\core\\indexing.py:1951: SettingWithCopyWarning: \n",
      "A value is trying to be set on a copy of a slice from a DataFrame.\n",
      "Try using .loc[row_indexer,col_indexer] = value instead\n",
      "\n",
      "See the caveats in the documentation: https://pandas.pydata.org/pandas-docs/stable/user_guide/indexing.html#returning-a-view-versus-a-copy\n",
      "  self.obj[selected_item_labels] = value\n"
     ]
    },
    {
     "name": "stdout",
     "output_type": "stream",
     "text": [
      "fitted model: 138\n"
     ]
    },
    {
     "name": "stderr",
     "output_type": "stream",
     "text": [
      "C:\\Users\\Esra\\Anaconda3\\lib\\site-packages\\pandas\\core\\indexing.py:1951: SettingWithCopyWarning: \n",
      "A value is trying to be set on a copy of a slice from a DataFrame.\n",
      "Try using .loc[row_indexer,col_indexer] = value instead\n",
      "\n",
      "See the caveats in the documentation: https://pandas.pydata.org/pandas-docs/stable/user_guide/indexing.html#returning-a-view-versus-a-copy\n",
      "  self.obj[selected_item_labels] = value\n"
     ]
    },
    {
     "name": "stdout",
     "output_type": "stream",
     "text": [
      "fitted model: 139\n"
     ]
    },
    {
     "name": "stderr",
     "output_type": "stream",
     "text": [
      "C:\\Users\\Esra\\Anaconda3\\lib\\site-packages\\pandas\\core\\indexing.py:1951: SettingWithCopyWarning: \n",
      "A value is trying to be set on a copy of a slice from a DataFrame.\n",
      "Try using .loc[row_indexer,col_indexer] = value instead\n",
      "\n",
      "See the caveats in the documentation: https://pandas.pydata.org/pandas-docs/stable/user_guide/indexing.html#returning-a-view-versus-a-copy\n",
      "  self.obj[selected_item_labels] = value\n"
     ]
    },
    {
     "name": "stdout",
     "output_type": "stream",
     "text": [
      "fitted model: 140\n"
     ]
    }
   ],
   "source": [
    "# initiate storage of the data\n",
    "rf_feature_importance_perm = collections.defaultdict(list) # permutation of feature importances\n",
    "rf_feature_importance_perm_std = collections.defaultdict(list) # permutation of feature importances\n",
    "Y_preds_rf = list()\n",
    "Y_trues_rf = list()\n",
    "Y_means_rf = list()\n",
    "MSE_rf = list()\n",
    "MSE_base_rf = list()\n",
    "count = 0\n",
    "\n",
    "# prepare loocv\n",
    "cv_outer = LeaveOneOut()\n",
    "cv_outer.get_n_splits(X_RF)\n",
    "\n",
    "# execute the loocv \n",
    "for train_ix, test_ix in cv_outer.split(X_RF):\n",
    "    \n",
    "    # create a new set of random values for the RANDOM feature for each new cv\n",
    "    X_RF.loc[:, ('RANDOM')] = np.random.uniform(0,1, size = len(X_RF)) \n",
    "    \n",
    "    # split data\n",
    "    X_train, X_test = X_RF.iloc[train_ix, :], X_RF.iloc[test_ix, :]\n",
    "    y_train, y_test = Y.iloc[train_ix], Y.iloc[test_ix]\n",
    "    \n",
    "    # initiate and fit the model\n",
    "    rf = RandomForestRegressor(n_estimators = 1000, random_state = 42, n_jobs = 2)\n",
    "    rf.fit(X_train, y_train)\n",
    "    print(\"fitted model:\", count)\n",
    "\n",
    "    # evaluate best RF model\n",
    "    y_pred = rf.predict(X_test)\n",
    "    Y_preds_rf.append(y_pred) # store predicted Y value\n",
    "    score = mean_squared_error(y_test, y_pred)\n",
    "    MSE_rf.append(score) # store RF model score\n",
    "    \n",
    "    # evaluate base model\n",
    "    y_base = [mean(y_train)]\n",
    "    Y_means_rf.append(y_base) # store base model Y value\n",
    "    score_base = mean_squared_error(y_test, y_base)\n",
    "    MSE_base_rf.append(score_base) # store base model score\n",
    "    \n",
    "    # store true Y value\n",
    "    Y_trues_rf.append(y_test) \n",
    "    \n",
    "    # initiate a list of all features\n",
    "    feature_list = X_train.keys().tolist()\n",
    "\n",
    "    # also store permutated feature importances and its standarddeviation\n",
    "    imp = permutation_importance(rf, X_train, y_train, scoring = 'neg_mean_squared_error', random_state = 0,  n_jobs = 2)\n",
    "    for item in imp:\n",
    "        if item == 'importances_mean':\n",
    "            for feature, importance in zip(feature_list, imp[item]):\n",
    "                rf_feature_importance_perm[feature].append(importance)       \n",
    "        if item == 'importances_std':\n",
    "            for feature, importance_std in zip(feature_list, imp[item]):\n",
    "                rf_feature_importance_perm_std[feature].append(importance_std)\n",
    "        \n",
    "    # increase count\n",
    "    count = count + 1\n",
    "\n",
    "# print mean MSE and its standarddeviation once finished the loocv\n",
    "print('MSE RF: %.4f (%.4f)' % (mean(MSE_rf), std(MSE_rf)))\n",
    "print(stats.sem(MSE_rf))\n",
    "print('MSE Baseline: %.4f (%.4f)' % (mean(MSE_base_rf), std(MSE_base_rf)))\n",
    "print(stats.sem(MSE_base_rf))"
   ]
  },
  {
   "cell_type": "code",
   "execution_count": null,
   "metadata": {},
   "outputs": [],
   "source": [
    "# calculate mean and std of permutation importance and save to excel\n",
    "rf_fi_perm = pd.DataFrame.from_dict(rf_feature_importance_perm, orient = 'index')\n",
    "RF_perm = rf_fi_perm.copy()\n",
    "RF_perm['importance'] = rf_fi_perm.mean(axis = 1)\n",
    "RF_perm['std'] = rf_fi_perm.std(axis = 1)\n",
    "RF_perm.to_excel(\"RF_LOOCV_perm_importance_bestmodel_nonzero.xlsx\")"
   ]
  },
  {
   "cell_type": "code",
   "execution_count": null,
   "metadata": {},
   "outputs": [],
   "source": [
    "# calculate mean and std of MSE of the lasso and Base model and save MSE to excel\n",
    "MSE = dict()\n",
    "MSE['RF'] = MSE_rf\n",
    "MSE['base'] = MSE_base_rf\n",
    "MSE = pd.DataFrame.from_dict(MSE, orient = 'index')\n",
    "MSE_tot = MSE.copy()\n",
    "MSE_tot['mean'] = MSE.mean(axis = 1)\n",
    "MSE_tot['std'] = MSE.std(axis = 1)\n",
    "MSE_tot.to_excel(\"MSE_RF_LOOCV_bestmodel_nonzero.xlsx\")"
   ]
  },
  {
   "cell_type": "code",
   "execution_count": null,
   "metadata": {},
   "outputs": [],
   "source": [
    "# combine y_pred, y_mean (base prediction), y_true and alpha and save to excel\n",
    "S_values = dict()\n",
    "S_values['y_pred'] = [item[0] for item in Y_preds_rf]\n",
    "S_values['y_mean'] = [item[0] for item in Y_means_rf]\n",
    "S_values['y_true'] = [float(item) for item in Y_trues_rf]\n",
    "S_value = pd.DataFrame.from_dict(S_values, orient = 'index')\n",
    "S_value.to_excel(\"S_values_RF_loocv_bestmodel.xlsx\")"
   ]
  }
 ],
 "metadata": {
  "kernelspec": {
   "display_name": "Python 3",
   "language": "python",
   "name": "python3"
  },
  "language_info": {
   "codemirror_mode": {
    "name": "ipython",
    "version": 3
   },
   "file_extension": ".py",
   "mimetype": "text/x-python",
   "name": "python",
   "nbconvert_exporter": "python",
   "pygments_lexer": "ipython3",
   "version": "3.7.4"
  }
 },
 "nbformat": 4,
 "nbformat_minor": 2
}

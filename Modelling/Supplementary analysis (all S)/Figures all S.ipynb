{
 "cells": [
  {
   "cell_type": "code",
   "execution_count": null,
   "metadata": {},
   "outputs": [],
   "source": [
    "# import libraries\n",
    "import pandas as pd\n",
    "import matplotlib.pyplot as plt\n",
    "import numpy as np\n",
    "from scipy.stats.stats import pearsonr\n",
    "import seaborn as sns"
   ]
  },
  {
   "cell_type": "markdown",
   "metadata": {},
   "source": [
    "**FIGURE COEFFICIENTS**"
   ]
  },
  {
   "cell_type": "code",
   "execution_count": null,
   "metadata": {},
   "outputs": [],
   "source": [
    "# load data and show non zero coefficients\n",
    "coef = pd.read_excel('coef_lasso_loocv_allS.xlsx').rename(columns = {\"Unnamed: 0\" : \"Feature\"})\n",
    "coef.loc[:, ('abs')] = coef.apply(lambda row: abs(row.coefficient) ,axis = 1)\n",
    "non_zero = [item for item in coef.sort_values(['abs'], ascending = False)[coef.coefficient != 0].set_index('Feature').index]\n",
    "print(non_zero)\n",
    "\n",
    "# transpose data and get non-zero coefficients for the figure\n",
    "coef = coef.drop(columns = ['coefficient', 'std', 'abs']).set_index('Feature')\n",
    "coef = coef.transpose()[non_zero].rename(columns = {'gender_F' : 'sex_F'})\n",
    "coef"
   ]
  },
  {
   "cell_type": "code",
   "execution_count": null,
   "metadata": {},
   "outputs": [],
   "source": [
    "# make figure\n",
    "sns.reset_defaults()\n",
    "sns.set(rc={'figure.figsize':(8,8)})\n",
    "sns.set_style(\"whitegrid\")\n",
    "\n",
    "ax = sns.violinplot(data = coef,  orient = 'h', scale = 'width',  color = 'skyblue', bw = 0.1, saturation = 0.7)\n",
    "\n",
    "xlim = ax.get_xlim()\n",
    "ylim = ax.get_ylim()\n",
    "for violin in ax.collections:\n",
    "    bbox = violin.get_paths()[0].get_extents()\n",
    "    x0, y0, width, height = bbox.bounds\n",
    "    violin.set_clip_path(plt.Rectangle((x0, y0), width, height / 2, transform=ax.transData))\n",
    "\n",
    "old_len_collections = len(ax.collections)\n",
    "sns.stripplot(data = coef, orient = 'h', ax = ax, size = 2.5, color = 'blue').set(ylabel = None)\n",
    "\n",
    "for dots in ax.collections[old_len_collections:]:\n",
    "    dots.set_offsets(dots.get_offsets() + np.array([0, 0.12]))\n",
    "ax.set_xlim(xlim)\n",
    "ax.set_ylim(ylim)\n",
    "ax.set_xlabel(\"Coefficients\", fontsize = 11)\n",
    "ax.set_title(\"Coefficients lasso all S\", fontsize = 15, fontweight = 'bold')\n",
    "\n",
    "plt.savefig(\"coef_violin_allS.png\", bbox_inches=\"tight\")\n",
    "plt.show()"
   ]
  },
  {
   "cell_type": "markdown",
   "metadata": {},
   "source": [
    "**FIGURE PERMUTATION IMPORTANCE**"
   ]
  },
  {
   "cell_type": "code",
   "execution_count": null,
   "metadata": {},
   "outputs": [],
   "source": [
    "# load data\n",
    "perm_imp = pd.read_excel('RF_LOOCV_perm_importance_allS.xlsx').rename(columns = {\"Unnamed: 0\" : \"Feature\"})\n",
    "perm_imp = perm_imp.sort_values(['importance'], ascending = False).set_index('Feature').drop(columns = ['importance', 'std']).head(16)\n",
    "perm_imp = perm_imp.transpose()\n",
    "perm_imp"
   ]
  },
  {
   "cell_type": "code",
   "execution_count": null,
   "metadata": {},
   "outputs": [],
   "source": [
    "# make figure\n",
    "sns.reset_defaults()\n",
    "sns.set(rc={'figure.figsize':(8,8)})\n",
    "sns.set_style(\"whitegrid\")\n",
    "\n",
    "ax = sns.violinplot(data = perm_imp,  orient = 'h', scale = 'width',  color = 'skyblue', bw = 0.1, saturation = 0.7)\n",
    "\n",
    "xlim = ax.get_xlim()\n",
    "ylim = ax.get_ylim()\n",
    "for violin in ax.collections:\n",
    "    bbox = violin.get_paths()[0].get_extents()\n",
    "    x0, y0, width, height = bbox.bounds\n",
    "    violin.set_clip_path(plt.Rectangle((x0, y0), width, height / 2, transform=ax.transData))\n",
    "\n",
    "old_len_collections = len(ax.collections)\n",
    "sns.stripplot(data = perm_imp, orient = 'h', ax = ax, size = 2.5, color = 'blue').set(ylabel = None)\n",
    "\n",
    "for dots in ax.collections[old_len_collections:]:\n",
    "    dots.set_offsets(dots.get_offsets() + np.array([0, 0.12]))\n",
    "ax.set_xlim(xlim)\n",
    "ax.set_ylim(ylim)\n",
    "ax.set_xlabel(\"Permutation importance\", fontsize = 11)\n",
    "ax.set_title(\"Importance RF all S\", fontsize = 15, fontweight = 'bold')\n",
    "\n",
    "\n",
    "plt.savefig(\"perm_imp_violin_allS.png\", bbox_inches=\"tight\")\n",
    "plt.show()"
   ]
  }
 ],
 "metadata": {
  "kernelspec": {
   "display_name": "Python 3",
   "language": "python",
   "name": "python3"
  },
  "language_info": {
   "codemirror_mode": {
    "name": "ipython",
    "version": 3
   },
   "file_extension": ".py",
   "mimetype": "text/x-python",
   "name": "python",
   "nbconvert_exporter": "python",
   "pygments_lexer": "ipython3",
   "version": "3.7.4"
  }
 },
 "nbformat": 4,
 "nbformat_minor": 2
}

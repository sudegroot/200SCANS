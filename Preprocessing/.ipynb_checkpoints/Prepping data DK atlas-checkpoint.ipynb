{
 "cells": [
  {
   "cell_type": "code",
   "execution_count": null,
   "metadata": {},
   "outputs": [],
   "source": [
    "# import libraries\n",
    "import pandas as pd\n",
    "import matplotlib.pyplot as plt\n",
    "import numpy as np\n",
    "from sklearn import linear_model\n",
    "from sklearn.metrics import mean_squared_error, r2_score\n",
    "from statsmodels.stats.outliers_influence import variance_inflation_factor \n",
    "import seaborn as sns\n",
    "import os\n",
    "import re\n",
    "\n",
    "# show all columns\n",
    "pd.set_option('display.max_columns', None)"
   ]
  },
  {
   "cell_type": "code",
   "execution_count": null,
   "metadata": {},
   "outputs": [],
   "source": [
    "# load data rh and data lh subcortical and wm\n",
    "data_rh = pd.read_excel('aparc_rh_volume_table.xlsx')\n",
    "\n",
    "data_rh = data_rh.rename(columns ={\"rh.aparc.volume\" : \"ID\"})\n",
    "data_rh['ID'] = data_rh.apply(lambda row: int(row['ID'].lstrip(\"sub-\")), axis = 1)\n",
    "\n",
    "data_lh = pd.read_excel('aparc_lh_volume_table.xlsx').rename(columns ={\"lh.aparc.volume\" : \"ID\"})\n",
    "data_lh['ID'] = data_lh.apply(lambda row: int(row['ID'].lstrip(\"sub-\")), axis = 1)\n",
    "\n",
    "sub = pd.read_excel('subcort_vol_DK.xlsx').rename(columns ={\"Measure:volume\" : \"ID\"})\n",
    "sub['ID'] = sub.apply(lambda row: int(row['ID'].lstrip(\"sub-\")), axis = 1)\n",
    "\n",
    "wm = pd.read_excel('wm_vol_table.xlsx').rename(columns ={\"Measure:volume\" : \"ID\"})\n",
    "wm['ID'] = wm.apply(lambda row: int(row['ID'].lstrip(\"sub-\")), axis = 1)"
   ]
  },
  {
   "cell_type": "code",
   "execution_count": null,
   "metadata": {},
   "outputs": [],
   "source": [
    "wm_vol = wm[['ID', 'wm-lh-bankssts', 'wm-lh-caudalanteriorcingulate',\n",
    "       'wm-lh-caudalmiddlefrontal', 'wm-lh-cuneus', 'wm-lh-entorhinal',\n",
    "       'wm-lh-fusiform', 'wm-lh-inferiorparietal', 'wm-lh-inferiortemporal',\n",
    "       'wm-lh-isthmuscingulate', 'wm-lh-lateraloccipital',\n",
    "       'wm-lh-lateralorbitofrontal', 'wm-lh-lingual',\n",
    "       'wm-lh-medialorbitofrontal', 'wm-lh-middletemporal',\n",
    "       'wm-lh-parahippocampal', 'wm-lh-paracentral', 'wm-lh-parsopercularis',\n",
    "       'wm-lh-parsorbitalis', 'wm-lh-parstriangularis', 'wm-lh-pericalcarine',\n",
    "       'wm-lh-postcentral', 'wm-lh-posteriorcingulate', 'wm-lh-precentral',\n",
    "       'wm-lh-precuneus', 'wm-lh-rostralanteriorcingulate',\n",
    "       'wm-lh-rostralmiddlefrontal', 'wm-lh-superiorfrontal',\n",
    "       'wm-lh-superiorparietal', 'wm-lh-superiortemporal',\n",
    "       'wm-lh-supramarginal', 'wm-lh-frontalpole', 'wm-lh-temporalpole',\n",
    "       'wm-lh-transversetemporal', 'wm-lh-insula', 'wm-rh-bankssts',\n",
    "       'wm-rh-caudalanteriorcingulate', 'wm-rh-caudalmiddlefrontal',\n",
    "       'wm-rh-cuneus', 'wm-rh-entorhinal', 'wm-rh-fusiform',\n",
    "       'wm-rh-inferiorparietal', 'wm-rh-inferiortemporal',\n",
    "       'wm-rh-isthmuscingulate', 'wm-rh-lateraloccipital',\n",
    "       'wm-rh-lateralorbitofrontal', 'wm-rh-lingual',\n",
    "       'wm-rh-medialorbitofrontal', 'wm-rh-middletemporal',\n",
    "       'wm-rh-parahippocampal', 'wm-rh-paracentral', 'wm-rh-parsopercularis',\n",
    "       'wm-rh-parsorbitalis', 'wm-rh-parstriangularis', 'wm-rh-pericalcarine',\n",
    "       'wm-rh-postcentral', 'wm-rh-posteriorcingulate', 'wm-rh-precentral',\n",
    "       'wm-rh-precuneus', 'wm-rh-rostralanteriorcingulate',\n",
    "       'wm-rh-rostralmiddlefrontal', 'wm-rh-superiorfrontal',\n",
    "       'wm-rh-superiorparietal', 'wm-rh-superiortemporal',\n",
    "       'wm-rh-supramarginal', 'wm-rh-frontalpole', 'wm-rh-temporalpole',\n",
    "       'wm-rh-transversetemporal', 'wm-rh-insula']]"
   ]
  },
  {
   "cell_type": "code",
   "execution_count": null,
   "metadata": {},
   "outputs": [],
   "source": [
    "sub_vol = sub[['ID', \n",
    "       'Left-Thalamus-Proper', 'Left-Caudate', 'Left-Putamen', 'Left-Pallidum',\n",
    "       'Left-Hippocampus',\n",
    "       'Left-Amygdala', 'Left-Accumbens-area', 'Left-VentralDC',\n",
    "       'Right-Thalamus-Proper', 'Right-Caudate',\n",
    "       'Right-Putamen', 'Right-Pallidum', 'Right-Hippocampus',\n",
    "       'Right-Amygdala', 'Right-Accumbens-area', 'Right-VentralDC',\n",
    "       \n",
    "       'CC_Posterior', 'CC_Mid_Posterior', 'CC_Central',\n",
    "       'CC_Mid_Anterior', 'CC_Anterior', \n",
    "       'SupraTentorialVol', 'SupraTentorialVolNotVent',\n",
    "       ]]"
   ]
  },
  {
   "cell_type": "code",
   "execution_count": null,
   "metadata": {},
   "outputs": [],
   "source": [
    "data_rh_vol = data_rh[['ID', 'rh_bankssts_volume', 'rh_caudalanteriorcingulate_volume',\n",
    "       'rh_caudalmiddlefrontal_volume', 'rh_cuneus_volume',\n",
    "       'rh_entorhinal_volume', 'rh_fusiform_volume',\n",
    "       'rh_inferiorparietal_volume', 'rh_inferiortemporal_volume',\n",
    "       'rh_isthmuscingulate_volume', 'rh_lateraloccipital_volume',\n",
    "       'rh_lateralorbitofrontal_volume', 'rh_lingual_volume',\n",
    "       'rh_medialorbitofrontal_volume', 'rh_middletemporal_volume',\n",
    "       'rh_parahippocampal_volume', 'rh_paracentral_volume',\n",
    "       'rh_parsopercularis_volume', 'rh_parsorbitalis_volume',\n",
    "       'rh_parstriangularis_volume', 'rh_pericalcarine_volume',\n",
    "       'rh_postcentral_volume', 'rh_posteriorcingulate_volume',\n",
    "       'rh_precentral_volume', 'rh_precuneus_volume',\n",
    "       'rh_rostralanteriorcingulate_volume', 'rh_rostralmiddlefrontal_volume',\n",
    "       'rh_superiorfrontal_volume', 'rh_superiorparietal_volume',\n",
    "       'rh_superiortemporal_volume', 'rh_supramarginal_volume',\n",
    "       'rh_frontalpole_volume', 'rh_temporalpole_volume',\n",
    "       'rh_transversetemporal_volume', 'rh_insula_volume']]"
   ]
  },
  {
   "cell_type": "code",
   "execution_count": null,
   "metadata": {},
   "outputs": [],
   "source": [
    "data_lh_vol = data_lh[['ID', 'lh_bankssts_volume', 'lh_caudalanteriorcingulate_volume',\n",
    "       'lh_caudalmiddlefrontal_volume', 'lh_cuneus_volume',\n",
    "       'lh_entorhinal_volume', 'lh_fusiform_volume',\n",
    "       'lh_inferiorparietal_volume', 'lh_inferiortemporal_volume',\n",
    "       'lh_isthmuscingulate_volume', 'lh_lateraloccipital_volume',\n",
    "       'lh_lateralorbitofrontal_volume', 'lh_lingual_volume',\n",
    "       'lh_medialorbitofrontal_volume', 'lh_middletemporal_volume',\n",
    "       'lh_parahippocampal_volume', 'lh_paracentral_volume',\n",
    "       'lh_parsopercularis_volume', 'lh_parsorbitalis_volume',\n",
    "       'lh_parstriangularis_volume', 'lh_pericalcarine_volume',\n",
    "       'lh_postcentral_volume', 'lh_posteriorcingulate_volume',\n",
    "       'lh_precentral_volume', 'lh_precuneus_volume',\n",
    "       'lh_rostralanteriorcingulate_volume', 'lh_rostralmiddlefrontal_volume',\n",
    "       'lh_superiorfrontal_volume', 'lh_superiorparietal_volume',\n",
    "       'lh_superiortemporal_volume', 'lh_supramarginal_volume',\n",
    "       'lh_frontalpole_volume', 'lh_temporalpole_volume',\n",
    "       'lh_transversetemporal_volume', 'lh_insula_volume']]"
   ]
  },
  {
   "cell_type": "code",
   "execution_count": null,
   "metadata": {},
   "outputs": [],
   "source": [
    "all_data = ((data_lh_vol.merge(data_rh_vol)).merge(wm_vol)).merge(sub_vol)\n",
    "all_data"
   ]
  },
  {
   "cell_type": "code",
   "execution_count": null,
   "metadata": {},
   "outputs": [],
   "source": [
    "# return all keys\n",
    "for key in all_data.keys():\n",
    "    print(\"\\'\"+ key + \"\\'\", end = ',')"
   ]
  },
  {
   "cell_type": "code",
   "execution_count": null,
   "metadata": {},
   "outputs": [],
   "source": [
    "# normalize brain data on SupraTentorialVolNotVent\n",
    "all_data[['lh_bankssts_volume','lh_caudalanteriorcingulate_volume','lh_caudalmiddlefrontal_volume','lh_cuneus_volume','lh_entorhinal_volume','lh_fusiform_volume','lh_inferiorparietal_volume','lh_inferiortemporal_volume','lh_isthmuscingulate_volume','lh_lateraloccipital_volume','lh_lateralorbitofrontal_volume','lh_lingual_volume','lh_medialorbitofrontal_volume','lh_middletemporal_volume','lh_parahippocampal_volume','lh_paracentral_volume','lh_parsopercularis_volume','lh_parsorbitalis_volume','lh_parstriangularis_volume','lh_pericalcarine_volume','lh_postcentral_volume','lh_posteriorcingulate_volume','lh_precentral_volume','lh_precuneus_volume','lh_rostralanteriorcingulate_volume','lh_rostralmiddlefrontal_volume','lh_superiorfrontal_volume','lh_superiorparietal_volume','lh_superiortemporal_volume','lh_supramarginal_volume','lh_frontalpole_volume','lh_temporalpole_volume','lh_transversetemporal_volume','lh_insula_volume','rh_bankssts_volume','rh_caudalanteriorcingulate_volume','rh_caudalmiddlefrontal_volume','rh_cuneus_volume','rh_entorhinal_volume','rh_fusiform_volume','rh_inferiorparietal_volume','rh_inferiortemporal_volume','rh_isthmuscingulate_volume','rh_lateraloccipital_volume','rh_lateralorbitofrontal_volume','rh_lingual_volume','rh_medialorbitofrontal_volume','rh_middletemporal_volume','rh_parahippocampal_volume','rh_paracentral_volume','rh_parsopercularis_volume','rh_parsorbitalis_volume','rh_parstriangularis_volume','rh_pericalcarine_volume','rh_postcentral_volume','rh_posteriorcingulate_volume','rh_precentral_volume','rh_precuneus_volume','rh_rostralanteriorcingulate_volume','rh_rostralmiddlefrontal_volume','rh_superiorfrontal_volume','rh_superiorparietal_volume','rh_superiortemporal_volume','rh_supramarginal_volume','rh_frontalpole_volume','rh_temporalpole_volume','rh_transversetemporal_volume','rh_insula_volume','wm-lh-bankssts','wm-lh-caudalanteriorcingulate','wm-lh-caudalmiddlefrontal','wm-lh-cuneus','wm-lh-entorhinal','wm-lh-fusiform','wm-lh-inferiorparietal','wm-lh-inferiortemporal','wm-lh-isthmuscingulate','wm-lh-lateraloccipital','wm-lh-lateralorbitofrontal','wm-lh-lingual','wm-lh-medialorbitofrontal','wm-lh-middletemporal','wm-lh-parahippocampal','wm-lh-paracentral','wm-lh-parsopercularis','wm-lh-parsorbitalis','wm-lh-parstriangularis','wm-lh-pericalcarine','wm-lh-postcentral','wm-lh-posteriorcingulate','wm-lh-precentral','wm-lh-precuneus','wm-lh-rostralanteriorcingulate','wm-lh-rostralmiddlefrontal','wm-lh-superiorfrontal','wm-lh-superiorparietal','wm-lh-superiortemporal','wm-lh-supramarginal','wm-lh-frontalpole','wm-lh-temporalpole','wm-lh-transversetemporal','wm-lh-insula','wm-rh-bankssts','wm-rh-caudalanteriorcingulate','wm-rh-caudalmiddlefrontal','wm-rh-cuneus','wm-rh-entorhinal','wm-rh-fusiform','wm-rh-inferiorparietal','wm-rh-inferiortemporal','wm-rh-isthmuscingulate','wm-rh-lateraloccipital','wm-rh-lateralorbitofrontal','wm-rh-lingual','wm-rh-medialorbitofrontal','wm-rh-middletemporal','wm-rh-parahippocampal','wm-rh-paracentral','wm-rh-parsopercularis','wm-rh-parsorbitalis','wm-rh-parstriangularis','wm-rh-pericalcarine','wm-rh-postcentral','wm-rh-posteriorcingulate','wm-rh-precentral','wm-rh-precuneus','wm-rh-rostralanteriorcingulate','wm-rh-rostralmiddlefrontal','wm-rh-superiorfrontal','wm-rh-superiorparietal','wm-rh-superiortemporal','wm-rh-supramarginal','wm-rh-frontalpole','wm-rh-temporalpole','wm-rh-transversetemporal','wm-rh-insula','Left-Thalamus-Proper','Left-Caudate','Left-Putamen','Left-Pallidum','Left-Hippocampus','Left-Amygdala','Left-Accumbens-area','Left-VentralDC','Right-Thalamus-Proper','Right-Caudate','Right-Putamen','Right-Pallidum','Right-Hippocampus','Right-Amygdala','Right-Accumbens-area','Right-VentralDC','CC_Posterior','CC_Mid_Posterior','CC_Central','CC_Mid_Anterior','CC_Anterior']] = all_data[['lh_bankssts_volume','lh_caudalanteriorcingulate_volume','lh_caudalmiddlefrontal_volume','lh_cuneus_volume','lh_entorhinal_volume','lh_fusiform_volume','lh_inferiorparietal_volume','lh_inferiortemporal_volume','lh_isthmuscingulate_volume','lh_lateraloccipital_volume','lh_lateralorbitofrontal_volume','lh_lingual_volume','lh_medialorbitofrontal_volume','lh_middletemporal_volume','lh_parahippocampal_volume','lh_paracentral_volume','lh_parsopercularis_volume','lh_parsorbitalis_volume','lh_parstriangularis_volume','lh_pericalcarine_volume','lh_postcentral_volume','lh_posteriorcingulate_volume','lh_precentral_volume','lh_precuneus_volume','lh_rostralanteriorcingulate_volume','lh_rostralmiddlefrontal_volume','lh_superiorfrontal_volume','lh_superiorparietal_volume','lh_superiortemporal_volume','lh_supramarginal_volume','lh_frontalpole_volume','lh_temporalpole_volume','lh_transversetemporal_volume','lh_insula_volume','rh_bankssts_volume','rh_caudalanteriorcingulate_volume','rh_caudalmiddlefrontal_volume','rh_cuneus_volume','rh_entorhinal_volume','rh_fusiform_volume','rh_inferiorparietal_volume','rh_inferiortemporal_volume','rh_isthmuscingulate_volume','rh_lateraloccipital_volume','rh_lateralorbitofrontal_volume','rh_lingual_volume','rh_medialorbitofrontal_volume','rh_middletemporal_volume','rh_parahippocampal_volume','rh_paracentral_volume','rh_parsopercularis_volume','rh_parsorbitalis_volume','rh_parstriangularis_volume','rh_pericalcarine_volume','rh_postcentral_volume','rh_posteriorcingulate_volume','rh_precentral_volume','rh_precuneus_volume','rh_rostralanteriorcingulate_volume','rh_rostralmiddlefrontal_volume','rh_superiorfrontal_volume','rh_superiorparietal_volume','rh_superiortemporal_volume','rh_supramarginal_volume','rh_frontalpole_volume','rh_temporalpole_volume','rh_transversetemporal_volume','rh_insula_volume','wm-lh-bankssts','wm-lh-caudalanteriorcingulate','wm-lh-caudalmiddlefrontal','wm-lh-cuneus','wm-lh-entorhinal','wm-lh-fusiform','wm-lh-inferiorparietal','wm-lh-inferiortemporal','wm-lh-isthmuscingulate','wm-lh-lateraloccipital','wm-lh-lateralorbitofrontal','wm-lh-lingual','wm-lh-medialorbitofrontal','wm-lh-middletemporal','wm-lh-parahippocampal','wm-lh-paracentral','wm-lh-parsopercularis','wm-lh-parsorbitalis','wm-lh-parstriangularis','wm-lh-pericalcarine','wm-lh-postcentral','wm-lh-posteriorcingulate','wm-lh-precentral','wm-lh-precuneus','wm-lh-rostralanteriorcingulate','wm-lh-rostralmiddlefrontal','wm-lh-superiorfrontal','wm-lh-superiorparietal','wm-lh-superiortemporal','wm-lh-supramarginal','wm-lh-frontalpole','wm-lh-temporalpole','wm-lh-transversetemporal','wm-lh-insula','wm-rh-bankssts','wm-rh-caudalanteriorcingulate','wm-rh-caudalmiddlefrontal','wm-rh-cuneus','wm-rh-entorhinal','wm-rh-fusiform','wm-rh-inferiorparietal','wm-rh-inferiortemporal','wm-rh-isthmuscingulate','wm-rh-lateraloccipital','wm-rh-lateralorbitofrontal','wm-rh-lingual','wm-rh-medialorbitofrontal','wm-rh-middletemporal','wm-rh-parahippocampal','wm-rh-paracentral','wm-rh-parsopercularis','wm-rh-parsorbitalis','wm-rh-parstriangularis','wm-rh-pericalcarine','wm-rh-postcentral','wm-rh-posteriorcingulate','wm-rh-precentral','wm-rh-precuneus','wm-rh-rostralanteriorcingulate','wm-rh-rostralmiddlefrontal','wm-rh-superiorfrontal','wm-rh-superiorparietal','wm-rh-superiortemporal','wm-rh-supramarginal','wm-rh-frontalpole','wm-rh-temporalpole','wm-rh-transversetemporal','wm-rh-insula','Left-Thalamus-Proper','Left-Caudate','Left-Putamen','Left-Pallidum','Left-Hippocampus','Left-Amygdala','Left-Accumbens-area','Left-VentralDC','Right-Thalamus-Proper','Right-Caudate','Right-Putamen','Right-Pallidum','Right-Hippocampus','Right-Amygdala','Right-Accumbens-area','Right-VentralDC','CC_Posterior','CC_Mid_Posterior','CC_Central','CC_Mid_Anterior','CC_Anterior']].div(all_data.SupraTentorialVolNotVent, axis = 0)\n",
    "   \n",
    "all_data"
   ]
  },
  {
   "cell_type": "code",
   "execution_count": null,
   "metadata": {},
   "outputs": [],
   "source": [
    "# save data to excel\n",
    "all_data.to_excel('norm_SupraTentorialVolNotVent_DK_WM_vol.xlsx')"
   ]
  },
  {
   "cell_type": "code",
   "execution_count": null,
   "metadata": {},
   "outputs": [],
   "source": [
    "# data = all_data.drop(columns = ['SupraTentorialVol', 'SupraTentorialVolNotVent'])\n",
    "# data"
   ]
  },
  {
   "cell_type": "code",
   "execution_count": null,
   "metadata": {},
   "outputs": [],
   "source": []
  }
 ],
 "metadata": {
  "kernelspec": {
   "display_name": "Python 3",
   "language": "python",
   "name": "python3"
  },
  "language_info": {
   "codemirror_mode": {
    "name": "ipython",
    "version": 3
   },
   "file_extension": ".py",
   "mimetype": "text/x-python",
   "name": "python",
   "nbconvert_exporter": "python",
   "pygments_lexer": "ipython3",
   "version": "3.7.4"
  }
 },
 "nbformat": 4,
 "nbformat_minor": 2
}
